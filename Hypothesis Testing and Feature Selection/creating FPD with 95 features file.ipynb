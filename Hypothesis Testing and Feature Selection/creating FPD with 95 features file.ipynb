{
 "cells": [
  {
   "cell_type": "markdown",
   "metadata": {},
   "source": [
    "0=women\n",
    "1=men\n",
    "0=no pd\n",
    "1=pd"
   ]
  },
  {
   "cell_type": "code",
   "execution_count": 1,
   "metadata": {
    "id": "eu8DgIgururO"
   },
   "outputs": [],
   "source": [
    "## Initial Imports\n",
    "\n",
    "%matplotlib inline\n",
    "\n",
    "import pandas as pd \n",
    "import numpy as np \n",
    "import matplotlib.pyplot as plt\n",
    "import seaborn as sns\n",
    "import random\n",
    "from tqdm import tqdm_notebook as tqdm\n",
    "from sklearn.model_selection import LeaveOneOut, GridSearchCV, KFold, train_test_split\n",
    "from sklearn import svm\n",
    "from sklearn.metrics import accuracy_score, f1_score, classification_report\n",
    "from sklearn.preprocessing import StandardScaler\n",
    "import seaborn as sns\n",
    "from sklearn.decomposition import PCA\n",
    "\n",
    "from sklearn.manifold import TSNE"
   ]
  },
  {
   "cell_type": "markdown",
   "metadata": {
    "id": "_MthW3IaSOkF"
   },
   "source": [
    "**`Read data and Display data dimension`**"
   ]
  },
  {
   "cell_type": "code",
   "execution_count": 44,
   "metadata": {
    "colab": {
     "base_uri": "https://localhost:8080/"
    },
    "id": "o4fLLdJVrurY",
    "outputId": "d993b28d-a4cf-4c29-d6d2-fb16698017af"
   },
   "outputs": [
    {
     "name": "stdout",
     "output_type": "stream",
     "text": [
      "The shape of the matrix is : (756, 755)\n"
     ]
    }
   ],
   "source": [
    "pd_speech_features = pd.read_csv('pd_speech_features.csv')\n",
    "new_header = pd_speech_features.iloc[0] #grab the first row for the header\n",
    "pd_speech_features = pd_speech_features[1:] #take the data less the header row\n",
    "pd_speech_features.columns = new_header #set the header row as the df header\n",
    "pd_speech_features.head()\n",
    "print('The shape of the matrix is :', pd_speech_features.shape)"
   ]
  },
  {
   "cell_type": "markdown",
   "metadata": {
    "id": "t_36-f_6rurg"
   },
   "source": [
    "#### Gather most general metadata about the data"
   ]
  },
  {
   "cell_type": "code",
   "execution_count": 45,
   "metadata": {
    "id": "a9FvWGzGrurv"
   },
   "outputs": [
    {
     "data": {
      "text/html": [
       "<div>\n",
       "<style scoped>\n",
       "    .dataframe tbody tr th:only-of-type {\n",
       "        vertical-align: middle;\n",
       "    }\n",
       "\n",
       "    .dataframe tbody tr th {\n",
       "        vertical-align: top;\n",
       "    }\n",
       "\n",
       "    .dataframe thead th {\n",
       "        text-align: right;\n",
       "    }\n",
       "</style>\n",
       "<table border=\"1\" class=\"dataframe\">\n",
       "  <thead>\n",
       "    <tr style=\"text-align: right;\">\n",
       "      <th></th>\n",
       "      <th>patient/healthy count</th>\n",
       "    </tr>\n",
       "    <tr>\n",
       "      <th>class</th>\n",
       "      <th></th>\n",
       "    </tr>\n",
       "  </thead>\n",
       "  <tbody>\n",
       "    <tr>\n",
       "      <th>0</th>\n",
       "      <td>64.0</td>\n",
       "    </tr>\n",
       "    <tr>\n",
       "      <th>1</th>\n",
       "      <td>188.0</td>\n",
       "    </tr>\n",
       "  </tbody>\n",
       "</table>\n",
       "</div>"
      ],
      "text/plain": [
       "0      patient/healthy count\n",
       "class                       \n",
       "0                       64.0\n",
       "1                      188.0"
      ]
     },
     "execution_count": 45,
     "metadata": {},
     "output_type": "execute_result"
    }
   ],
   "source": [
    "pd_speech_features['patient/healthy count'] = 1\n",
    "pd_speech_features.groupby('class').sum()/3"
   ]
  },
  {
   "cell_type": "code",
   "execution_count": 46,
   "metadata": {},
   "outputs": [
    {
     "data": {
      "text/plain": [
       "1    390\n",
       "0    366\n",
       "Name: gender, dtype: int64"
      ]
     },
     "execution_count": 46,
     "metadata": {},
     "output_type": "execute_result"
    }
   ],
   "source": [
    "#pd_speech_features['patient/healthy count'] = 1\n",
    "pd_speech_features['gender'].value_counts()"
   ]
  },
  {
   "cell_type": "code",
   "execution_count": 47,
   "metadata": {},
   "outputs": [
    {
     "data": {
      "text/plain": [
       "gender\n",
       "0     81.0\n",
       "1    107.0\n",
       "Name: class, dtype: float64"
      ]
     },
     "execution_count": 47,
     "metadata": {},
     "output_type": "execute_result"
    }
   ],
   "source": [
    "pd_speech_features[['gender','class']]=pd_speech_features[['gender','class']].astype('int')\n",
    "pd_speech_features.groupby(by='gender')['class'].sum()/3"
   ]
  },
  {
   "cell_type": "code",
   "execution_count": 48,
   "metadata": {
    "id": "L8ppw8fnrur1"
   },
   "outputs": [],
   "source": [
    "pd_speech_features = pd_speech_features.drop(['patient/healthy count'], axis = 1)  #756x755"
   ]
  },
  {
   "cell_type": "markdown",
   "metadata": {
    "id": "YgqnsxXNrur3"
   },
   "source": [
    "All the data was imported in the object type, we now need to take care about the types in the dataframe"
   ]
  },
  {
   "cell_type": "code",
   "execution_count": 49,
   "metadata": {
    "id": "BY5oJXz9rur4"
   },
   "outputs": [
    {
     "data": {
      "text/plain": [
       "0\n",
       "id                              int32\n",
       "gender                       category\n",
       "PPE                           float64\n",
       "DFA                           float64\n",
       "RPDE                          float64\n",
       "                               ...   \n",
       "tqwt_kurtosisValue_dec_33     float64\n",
       "tqwt_kurtosisValue_dec_34     float64\n",
       "tqwt_kurtosisValue_dec_35     float64\n",
       "tqwt_kurtosisValue_dec_36     float64\n",
       "class                        category\n",
       "Length: 755, dtype: object"
      ]
     },
     "execution_count": 49,
     "metadata": {},
     "output_type": "execute_result"
    }
   ],
   "source": [
    "pd_speech_features =  pd_speech_features.astype(float) #per default all floats \n",
    "pd_speech_features[['id', 'numPulses', 'numPeriodsPulses']] = pd_speech_features[['id', 'numPulses', 'numPeriodsPulses']].astype(int) #ints\n",
    "pd_speech_features[['gender', 'class']] = pd_speech_features[['gender', 'class']].astype('category') #categoricals\n",
    "pd_speech_features.dtypes"
   ]
  },
  {
   "cell_type": "code",
   "execution_count": 50,
   "metadata": {},
   "outputs": [],
   "source": [
    "df=pd_speech_features"
   ]
  },
  {
   "cell_type": "code",
   "execution_count": 51,
   "metadata": {},
   "outputs": [],
   "source": [
    "class Htest:\n",
    "    def __init__(self, population_mean_diff=0, p=0.05, cls_names='class', test_type='z_test'):\n",
    "        \n",
    "        '''\n",
    "            cls_vals=target class values\n",
    "            p=confidence interval, default=0.05\n",
    "            \n",
    "            population_mean_diff: \n",
    "                        H0(null hypothesis): difference of population mean over feature F, default=0\n",
    "            \n",
    "            cls_names=sample classes\n",
    "            \n",
    "            test_type: what kind of hypothesis testing\n",
    "                            \n",
    "        '''\n",
    "        \n",
    "        self.p=p\n",
    "        self.cls=cls_names\n",
    "        self.population_mean_diff=population_mean_diff\n",
    "        \n",
    "    def z_test(self, df1, df2, threshold_val=1.96, show_top=1):\n",
    "        '''\n",
    "        Assumptions:\n",
    "                    1. sample size=population size\n",
    "                    2. normal distribution\n",
    "        input:\n",
    "                df1=dataframe of numerical features of sample1\n",
    "                df2=dataframe of numerical features of sample2\n",
    "                threshold_val= z score of 1.96 for 95% confidence(p<0.05)\n",
    "        '''\n",
    "        self.df1=df1\n",
    "        self.df2=df2\n",
    "        \n",
    "        std_error1=(self.df1.std().pow(2.))/self.df1.shape[0]\n",
    "        std_error2=(self.df2.std().pow(2.))/self.df2.shape[0]\n",
    "        \n",
    "        denominator=(std_error1+std_error2).pow(1./2)\n",
    "        \n",
    "        nominator=(self.df1.mean()-self.df2.mean())\\\n",
    "                    -self.population_mean_diff\n",
    "        \n",
    "        z_scores=nominator/denominator\n",
    "        feature_z=z_scores[z_scores.abs()>threshold_val].abs()\n",
    "        \n",
    "        return feature_z\n",
    "        "
   ]
  },
  {
   "cell_type": "code",
   "execution_count": 52,
   "metadata": {},
   "outputs": [],
   "source": [
    "htest=Htest()"
   ]
  },
  {
   "cell_type": "code",
   "execution_count": 53,
   "metadata": {},
   "outputs": [
    {
     "name": "stdout",
     "output_type": "stream",
     "text": [
      "753\n"
     ]
    },
    {
     "name": "stderr",
     "output_type": "stream",
     "text": [
      "C:\\Users\\User\\AppData\\Local\\Temp/ipykernel_10896/360618407.py:1: FutureWarning: Dropping of nuisance columns in DataFrame reductions (with 'numeric_only=None') is deprecated; in a future version this will raise TypeError.  Select only valid columns before calling the reduction.\n",
      "  dfk=df.kurtosis().between(-1,1)\n",
      "C:\\Users\\User\\AppData\\Local\\Temp/ipykernel_10896/360618407.py:2: FutureWarning: Dropping of nuisance columns in DataFrame reductions (with 'numeric_only=None') is deprecated; in a future version this will raise TypeError.  Select only valid columns before calling the reduction.\n",
      "  dfs=df.skew().between(-1,1, inclusive=True)\n",
      "C:\\Users\\User\\AppData\\Local\\Temp/ipykernel_10896/360618407.py:2: FutureWarning: Boolean inputs to the `inclusive` argument are deprecated infavour of `both` or `neither`.\n",
      "  dfs=df.skew().between(-1,1, inclusive=True)\n"
     ]
    }
   ],
   "source": [
    "dfk=df.kurtosis().between(-1,1) \n",
    "dfs=df.skew().between(-1,1, inclusive=True)\n",
    "\n",
    "normals=set(dfk.index)-(set(dfk.index)-set(dfs.index))\n",
    "print(len(normals))"
   ]
  },
  {
   "cell_type": "code",
   "execution_count": 54,
   "metadata": {},
   "outputs": [],
   "source": [
    "def sk(df):\n",
    "    dfk=df.kurtosis().between(-1,1) \n",
    "    dfs=df.skew().between(-1,1, inclusive=True)\n",
    "    \n",
    "    ktrue=[]\n",
    "    strue=[]\n",
    "    \n",
    "    for i,j in zip(dfs.index,dfs.values): \n",
    "        if j==True:\n",
    "            #print(i,' ',j)\n",
    "            strue.append(i)\n",
    "    \n",
    "    print('skewness:',len(strue))\n",
    "    \n",
    "    for i,j in zip(dfk.index,dfk.values): \n",
    "        if j==True:\n",
    "            #print(i,' ',j)\n",
    "            ktrue.append(i)\n",
    "    \n",
    "    print('kurtosis:',len(ktrue))\n",
    "    \n",
    "    return set(strue),set(ktrue)"
   ]
  },
  {
   "cell_type": "code",
   "execution_count": 55,
   "metadata": {},
   "outputs": [
    {
     "name": "stdout",
     "output_type": "stream",
     "text": [
      "skewness: 227\n",
      "kurtosis: 151\n",
      "147\n"
     ]
    },
    {
     "name": "stderr",
     "output_type": "stream",
     "text": [
      "C:\\Users\\User\\AppData\\Local\\Temp/ipykernel_10896/3755790733.py:2: FutureWarning: Dropping of nuisance columns in DataFrame reductions (with 'numeric_only=None') is deprecated; in a future version this will raise TypeError.  Select only valid columns before calling the reduction.\n",
      "  dfk=df.kurtosis().between(-1,1)\n",
      "C:\\Users\\User\\AppData\\Local\\Temp/ipykernel_10896/3755790733.py:3: FutureWarning: Dropping of nuisance columns in DataFrame reductions (with 'numeric_only=None') is deprecated; in a future version this will raise TypeError.  Select only valid columns before calling the reduction.\n",
      "  dfs=df.skew().between(-1,1, inclusive=True)\n",
      "C:\\Users\\User\\AppData\\Local\\Temp/ipykernel_10896/3755790733.py:3: FutureWarning: Boolean inputs to the `inclusive` argument are deprecated infavour of `both` or `neither`.\n",
      "  dfs=df.skew().between(-1,1, inclusive=True)\n"
     ]
    }
   ],
   "source": [
    "sn,kn=sk(df)\n",
    "fns=sn.intersection(kn)\n",
    "print(len(fns))"
   ]
  },
  {
   "cell_type": "code",
   "execution_count": 56,
   "metadata": {},
   "outputs": [],
   "source": [
    "#sn.sort_values(ascending=False).head(50)"
   ]
  },
  {
   "cell_type": "code",
   "execution_count": 57,
   "metadata": {},
   "outputs": [
    {
     "name": "stdout",
     "output_type": "stream",
     "text": [
      "False\n",
      "False\n",
      "False\n"
     ]
    }
   ],
   "source": [
    "print('id' in list(fns))\n",
    "print('gender' in list(fns))\n",
    "print('class' in list(fns))"
   ]
  },
  {
   "cell_type": "code",
   "execution_count": 58,
   "metadata": {},
   "outputs": [
    {
     "name": "stdout",
     "output_type": "stream",
     "text": [
      "{'tqwt_kurtosisValue_dec_36', 'det_entropy_log_10_coef', 'tqwt_entropy_log_dec_28', 'tqwt_meanValue_dec_26', 'tqwt_entropy_shannon_dec_21', 'mean_MFCC_1st_coef', 'tqwt_meanValue_dec_18', 'tqwt_meanValue_dec_30', 'tqwt_entropy_log_dec_35', 'mean_MFCC_11th_coef', 'det_entropy_log_9_coef', 'mean_8th_delta_delta', 'app_LT_TKEO_std_2_coef', 'app_LT_entropy_shannon_3_coef', 'mean_12th_delta_delta', 'tqwt_minValue_dec_18', 'tqwt_skewnessValue_dec_36', 'tqwt_meanValue_dec_24', 'std_12th_delta', 'app_LT_TKEO_std_9_coef', 'tqwt_maxValue_dec_14', 'f2', 'VFER_NSR_SEO', 'std_9th_delta_delta', 'app_LT_TKEO_mean_5_coef', 'std_10th_delta', 'tqwt_entropy_log_dec_11', 'tqwt_meanValue_dec_17', 'tqwt_meanValue_dec_23', 'app_LT_TKEO_mean_6_coef', 'app_LT_TKEO_mean_7_coef', 'tqwt_entropy_log_dec_14', 'tqwt_meanValue_dec_20', 'tqwt_entropy_log_dec_33', 'tqwt_meanValue_dec_16', 'std_10th_delta_delta', 'std_8th_delta_delta', 'tqwt_maxValue_dec_15', 'tqwt_entropy_log_dec_10', 'app_LT_entropy_shannon_9_coef', 'tqwt_meanValue_dec_33', 'app_LT_entropy_shannon_4_coef', 'app_LT_entropy_shannon_5_coef', 'tqwt_meanValue_dec_28', 'tqwt_entropy_shannon_dec_22', 'VFER_NSR_TKEO', 'app_LT_entropy_shannon_7_coef', 'std_6th_delta_delta', 'mean_MFCC_6th_coef', 'app_LT_entropy_log_9_coef', 'tqwt_meanValue_dec_14', 'tqwt_meanValue_dec_29', 'app_entropy_log_9_coef', 'tqwt_meanValue_dec_12', 'std_8th_delta', 'tqwt_minValue_dec_14', 'app_LT_entropy_shannon_2_coef', 'app_entropy_log_10_coef', 'tqwt_meanValue_dec_15', 'app_LT_entropy_log_10_coef', 'tqwt_meanValue_dec_27', 'tqwt_entropy_log_dec_30', 'app_LT_TKEO_mean_9_coef', 'tqwt_meanValue_dec_5', 'tqwt_meanValue_dec_1', 'tqwt_meanValue_dec_8', 'tqwt_meanValue_dec_34', 'tqwt_minValue_dec_16', 'app_LT_entropy_shannon_8_coef', 'std_12th_delta_delta', 'mean_MFCC_7th_coef', 'app_LT_TKEO_std_7_coef', 'tqwt_meanValue_dec_31', 'app_LT_TKEO_std_5_coef', 'app_entropy_log_6_coef', 'tqwt_entropy_shannon_dec_16', 'mean_11th_delta', 'det_entropy_log_8_coef', 'app_entropy_log_8_coef', 'meanHarmToNoiseHarmonicity', 'tqwt_maxValue_dec_17', 'GNE_SNR_SEO', 'tqwt_stdValue_dec_17', 'tqwt_meanValue_dec_7', 'tqwt_stdValue_dec_16', 'f4', 'tqwt_entropy_log_dec_26', 'tqwt_meanValue_dec_25', 'std_9th_delta', 'tqwt_entropy_log_dec_12', 'tqwt_meanValue_dec_6', 'tqwt_maxValue_dec_16', 'app_LT_TKEO_std_4_coef', 'tqwt_entropy_shannon_dec_15', 'tqwt_minValue_dec_15', 'tqwt_meanValue_dec_4', 'tqwt_meanValue_dec_10', 'app_LT_TKEO_std_8_coef', 'app_LT_entropy_shannon_6_coef', 'tqwt_energy_dec_17', 'tqwt_maxValue_dec_18', 'f3', 'tqwt_entropy_log_dec_32', 'std_MFCC_10th_coef', 'app_LT_TKEO_mean_10_coef', 'mean_MFCC_8th_coef', 'app_LT_entropy_log_8_coef', 'tqwt_meanValue_dec_9', 'tqwt_meanValue_dec_22', 'mean_MFCC_3rd_coef', 'meanPeriodPulses', 'tqwt_meanValue_dec_13', 'IMF_NSR_entropy', 'tqwt_meanValue_dec_2', 'f1', 'tqwt_entropy_log_dec_31', 'tqwt_stdValue_dec_15', 'std_MFCC_9th_coef', 'tqwt_entropy_shannon_dec_20', 'app_LT_TKEO_std_6_coef', 'tqwt_meanValue_dec_19', 'mean_MFCC_5th_coef', 'app_LT_TKEO_std_3_coef', 'RPDE', 'app_LT_entropy_shannon_10_coef', 'tqwt_entropy_log_dec_13', 'app_LT_TKEO_std_10_coef', 'tqwt_meanValue_dec_11', 'std_11th_delta_delta', 'tqwt_energy_dec_18', 'tqwt_skewnessValue_dec_35', 'mean_MFCC_12th_coef', 'tqwt_meanValue_dec_32', 'app_LT_TKEO_mean_4_coef', 'DFA', 'mean_MFCC_4th_coef', 'tqwt_meanValue_dec_21', 'app_entropy_log_7_coef', 'mean_MFCC_9th_coef', 'tqwt_meanValue_dec_3', 'tqwt_entropy_log_dec_34', 'det_LT_entropy_log_9_coef', 'mean_MFCC_2nd_coef', 'det_LT_entropy_log_10_coef', 'tqwt_meanValue_dec_35', 'app_LT_TKEO_mean_8_coef', 'mean_MFCC_10th_coef'}\n"
     ]
    }
   ],
   "source": [
    "print(fns)\n",
    "Fh=fns"
   ]
  },
  {
   "cell_type": "code",
   "execution_count": 59,
   "metadata": {},
   "outputs": [
    {
     "name": "stdout",
     "output_type": "stream",
     "text": [
      "(756, 148)\n"
     ]
    }
   ],
   "source": [
    "fns=list(fns)\n",
    "\n",
    "if 'gender' not in fns:\n",
    "    fns.append('gender')\n",
    "    \n",
    "if 'class' not in fns:\n",
    "    fns.append('class')\n",
    "\n",
    "# adding the class feature to 147 selected features\n",
    "Fh=list(Fh)\n",
    "\n",
    "if 'class' not in Fh:\n",
    "    Fh.append('class')\n",
    "\n",
    "dfn=df.loc[:,Fh]\n",
    "print(dfn.shape)\n",
    "#dfn=dfn[dfn['class']==1]\n",
    "#print(dfn.shape)"
   ]
  },
  {
   "cell_type": "code",
   "execution_count": 60,
   "metadata": {},
   "outputs": [
    {
     "data": {
      "text/plain": [
       "149"
      ]
     },
     "execution_count": 60,
     "metadata": {},
     "output_type": "execute_result"
    }
   ],
   "source": [
    "len(fns)"
   ]
  },
  {
   "cell_type": "code",
   "execution_count": 61,
   "metadata": {},
   "outputs": [],
   "source": [
    "# people who already have Pd\n",
    "#df1=dfn[(dfn['gender']==0) & (dfn['class']==1)].drop(['gender','class'],axis=1)\n",
    "#df2=dfn[(dfn['gender']==1) & (dfn['class']==1)].drop(['gender','class'],axis=1)\n",
    "df1=dfn[(dfn['class']==1)].drop(['class'],axis=1)\n",
    "df2=dfn[(dfn['class']==0)].drop(['class'],axis=1)"
   ]
  },
  {
   "cell_type": "code",
   "execution_count": 62,
   "metadata": {},
   "outputs": [],
   "source": [
    "#fg=htest.z_test(df1,df2) # selected features hy hypothesis test hg\n",
    "fh=htest.z_test(df1,df2)"
   ]
  },
  {
   "cell_type": "code",
   "execution_count": 63,
   "metadata": {},
   "outputs": [
    {
     "data": {
      "text/plain": [
       "(95,)"
      ]
     },
     "execution_count": 63,
     "metadata": {},
     "output_type": "execute_result"
    }
   ],
   "source": [
    "fh.shape"
   ]
  },
  {
   "cell_type": "code",
   "execution_count": 64,
   "metadata": {},
   "outputs": [
    {
     "name": "stdout",
     "output_type": "stream",
     "text": [
      "False\n"
     ]
    }
   ],
   "source": [
    "print('class' in fh)"
   ]
  },
  {
   "cell_type": "code",
   "execution_count": 65,
   "metadata": {},
   "outputs": [],
   "source": [
    "fh_list=list(fh.index)"
   ]
  },
  {
   "cell_type": "code",
   "execution_count": 66,
   "metadata": {},
   "outputs": [
    {
     "name": "stdout",
     "output_type": "stream",
     "text": [
      "False\n"
     ]
    }
   ],
   "source": [
    "print('class' in fh_list)"
   ]
  },
  {
   "cell_type": "code",
   "execution_count": 67,
   "metadata": {},
   "outputs": [
    {
     "name": "stdout",
     "output_type": "stream",
     "text": [
      "True\n"
     ]
    }
   ],
   "source": [
    "if 'class' not in fh_list:\n",
    "    fh_list.append('class')\n",
    "\n",
    "print('class' in fh_list)"
   ]
  },
  {
   "cell_type": "code",
   "execution_count": 68,
   "metadata": {},
   "outputs": [
    {
     "name": "stdout",
     "output_type": "stream",
     "text": [
      "(756, 96)\n"
     ]
    }
   ],
   "source": [
    "print(df[fh_list].shape)\n"
   ]
  },
  {
   "cell_type": "code",
   "execution_count": 69,
   "metadata": {},
   "outputs": [
    {
     "data": {
      "text/html": [
       "<div>\n",
       "<style scoped>\n",
       "    .dataframe tbody tr th:only-of-type {\n",
       "        vertical-align: middle;\n",
       "    }\n",
       "\n",
       "    .dataframe tbody tr th {\n",
       "        vertical-align: top;\n",
       "    }\n",
       "\n",
       "    .dataframe thead th {\n",
       "        text-align: right;\n",
       "    }\n",
       "</style>\n",
       "<table border=\"1\" class=\"dataframe\">\n",
       "  <thead>\n",
       "    <tr style=\"text-align: right;\">\n",
       "      <th></th>\n",
       "      <th>tqwt_kurtosisValue_dec_36</th>\n",
       "      <th>tqwt_entropy_log_dec_28</th>\n",
       "      <th>tqwt_entropy_log_dec_35</th>\n",
       "      <th>app_LT_TKEO_std_2_coef</th>\n",
       "      <th>app_LT_entropy_shannon_3_coef</th>\n",
       "      <th>tqwt_minValue_dec_18</th>\n",
       "      <th>std_12th_delta</th>\n",
       "      <th>app_LT_TKEO_std_9_coef</th>\n",
       "      <th>tqwt_maxValue_dec_14</th>\n",
       "      <th>f2</th>\n",
       "      <th>...</th>\n",
       "      <th>app_LT_TKEO_mean_4_coef</th>\n",
       "      <th>DFA</th>\n",
       "      <th>mean_MFCC_4th_coef</th>\n",
       "      <th>app_entropy_log_7_coef</th>\n",
       "      <th>mean_MFCC_9th_coef</th>\n",
       "      <th>tqwt_entropy_log_dec_34</th>\n",
       "      <th>mean_MFCC_2nd_coef</th>\n",
       "      <th>det_LT_entropy_log_10_coef</th>\n",
       "      <th>app_LT_TKEO_mean_8_coef</th>\n",
       "      <th>class</th>\n",
       "    </tr>\n",
       "  </thead>\n",
       "  <tbody>\n",
       "    <tr>\n",
       "      <th>1</th>\n",
       "      <td>18.9405</td>\n",
       "      <td>-3160.3491</td>\n",
       "      <td>-3190.1752</td>\n",
       "      <td>16.7003</td>\n",
       "      <td>-36938.1370</td>\n",
       "      <td>-0.61778</td>\n",
       "      <td>0.023057</td>\n",
       "      <td>4188.2456</td>\n",
       "      <td>0.105750</td>\n",
       "      <td>1031.849040</td>\n",
       "      <td>...</td>\n",
       "      <td>28.5949</td>\n",
       "      <td>0.71826</td>\n",
       "      <td>0.55527</td>\n",
       "      <td>231.9690</td>\n",
       "      <td>0.091821</td>\n",
       "      <td>-3726.2679</td>\n",
       "      <td>2.4874</td>\n",
       "      <td>-163.4186</td>\n",
       "      <td>793.0680</td>\n",
       "      <td>1.0</td>\n",
       "    </tr>\n",
       "    <tr>\n",
       "      <th>2</th>\n",
       "      <td>45.1780</td>\n",
       "      <td>-3212.9726</td>\n",
       "      <td>-3106.4317</td>\n",
       "      <td>16.5376</td>\n",
       "      <td>-36496.8101</td>\n",
       "      <td>-0.50757</td>\n",
       "      <td>0.032486</td>\n",
       "      <td>4148.9889</td>\n",
       "      <td>0.121580</td>\n",
       "      <td>1016.367294</td>\n",
       "      <td>...</td>\n",
       "      <td>28.3506</td>\n",
       "      <td>0.69481</td>\n",
       "      <td>0.45984</td>\n",
       "      <td>231.2326</td>\n",
       "      <td>0.236100</td>\n",
       "      <td>-3719.5566</td>\n",
       "      <td>2.8986</td>\n",
       "      <td>-166.2056</td>\n",
       "      <td>786.0763</td>\n",
       "      <td>1.0</td>\n",
       "    </tr>\n",
       "    <tr>\n",
       "      <th>3</th>\n",
       "      <td>4.7666</td>\n",
       "      <td>-3724.5248</td>\n",
       "      <td>-3082.5691</td>\n",
       "      <td>16.4817</td>\n",
       "      <td>-36288.7542</td>\n",
       "      <td>-0.47225</td>\n",
       "      <td>0.038433</td>\n",
       "      <td>4127.0967</td>\n",
       "      <td>0.081818</td>\n",
       "      <td>1032.406341</td>\n",
       "      <td>...</td>\n",
       "      <td>28.2014</td>\n",
       "      <td>0.67604</td>\n",
       "      <td>0.28918</td>\n",
       "      <td>230.7762</td>\n",
       "      <td>0.166150</td>\n",
       "      <td>-3661.5431</td>\n",
       "      <td>3.2208</td>\n",
       "      <td>-183.1261</td>\n",
       "      <td>782.0604</td>\n",
       "      <td>1.0</td>\n",
       "    </tr>\n",
       "    <tr>\n",
       "      <th>4</th>\n",
       "      <td>4.0603</td>\n",
       "      <td>-4965.0071</td>\n",
       "      <td>-1965.3808</td>\n",
       "      <td>16.8216</td>\n",
       "      <td>-35824.8476</td>\n",
       "      <td>-0.65225</td>\n",
       "      <td>0.037164</td>\n",
       "      <td>3910.7029</td>\n",
       "      <td>0.567740</td>\n",
       "      <td>1201.813897</td>\n",
       "      <td>...</td>\n",
       "      <td>26.2220</td>\n",
       "      <td>0.79672</td>\n",
       "      <td>-1.55900</td>\n",
       "      <td>226.5624</td>\n",
       "      <td>-0.153650</td>\n",
       "      <td>-2372.6055</td>\n",
       "      <td>3.1023</td>\n",
       "      <td>-37.7727</td>\n",
       "      <td>724.9443</td>\n",
       "      <td>1.0</td>\n",
       "    </tr>\n",
       "    <tr>\n",
       "      <th>5</th>\n",
       "      <td>6.1164</td>\n",
       "      <td>-5832.5871</td>\n",
       "      <td>-2102.3852</td>\n",
       "      <td>18.3595</td>\n",
       "      <td>-38399.3353</td>\n",
       "      <td>-0.62996</td>\n",
       "      <td>0.028731</td>\n",
       "      <td>4297.4639</td>\n",
       "      <td>0.567490</td>\n",
       "      <td>1215.346469</td>\n",
       "      <td>...</td>\n",
       "      <td>30.3224</td>\n",
       "      <td>0.79782</td>\n",
       "      <td>-1.75500</td>\n",
       "      <td>228.6784</td>\n",
       "      <td>-0.202080</td>\n",
       "      <td>-2484.7150</td>\n",
       "      <td>2.9451</td>\n",
       "      <td>-8.3446</td>\n",
       "      <td>827.9359</td>\n",
       "      <td>1.0</td>\n",
       "    </tr>\n",
       "  </tbody>\n",
       "</table>\n",
       "<p>5 rows × 96 columns</p>\n",
       "</div>"
      ],
      "text/plain": [
       "0  tqwt_kurtosisValue_dec_36  tqwt_entropy_log_dec_28  \\\n",
       "1                    18.9405               -3160.3491   \n",
       "2                    45.1780               -3212.9726   \n",
       "3                     4.7666               -3724.5248   \n",
       "4                     4.0603               -4965.0071   \n",
       "5                     6.1164               -5832.5871   \n",
       "\n",
       "0  tqwt_entropy_log_dec_35  app_LT_TKEO_std_2_coef  \\\n",
       "1               -3190.1752                 16.7003   \n",
       "2               -3106.4317                 16.5376   \n",
       "3               -3082.5691                 16.4817   \n",
       "4               -1965.3808                 16.8216   \n",
       "5               -2102.3852                 18.3595   \n",
       "\n",
       "0  app_LT_entropy_shannon_3_coef  tqwt_minValue_dec_18  std_12th_delta  \\\n",
       "1                    -36938.1370              -0.61778        0.023057   \n",
       "2                    -36496.8101              -0.50757        0.032486   \n",
       "3                    -36288.7542              -0.47225        0.038433   \n",
       "4                    -35824.8476              -0.65225        0.037164   \n",
       "5                    -38399.3353              -0.62996        0.028731   \n",
       "\n",
       "0  app_LT_TKEO_std_9_coef  tqwt_maxValue_dec_14           f2  ...  \\\n",
       "1               4188.2456              0.105750  1031.849040  ...   \n",
       "2               4148.9889              0.121580  1016.367294  ...   \n",
       "3               4127.0967              0.081818  1032.406341  ...   \n",
       "4               3910.7029              0.567740  1201.813897  ...   \n",
       "5               4297.4639              0.567490  1215.346469  ...   \n",
       "\n",
       "0  app_LT_TKEO_mean_4_coef      DFA  mean_MFCC_4th_coef  \\\n",
       "1                  28.5949  0.71826             0.55527   \n",
       "2                  28.3506  0.69481             0.45984   \n",
       "3                  28.2014  0.67604             0.28918   \n",
       "4                  26.2220  0.79672            -1.55900   \n",
       "5                  30.3224  0.79782            -1.75500   \n",
       "\n",
       "0  app_entropy_log_7_coef  mean_MFCC_9th_coef  tqwt_entropy_log_dec_34  \\\n",
       "1                231.9690            0.091821               -3726.2679   \n",
       "2                231.2326            0.236100               -3719.5566   \n",
       "3                230.7762            0.166150               -3661.5431   \n",
       "4                226.5624           -0.153650               -2372.6055   \n",
       "5                228.6784           -0.202080               -2484.7150   \n",
       "\n",
       "0  mean_MFCC_2nd_coef  det_LT_entropy_log_10_coef  app_LT_TKEO_mean_8_coef  \\\n",
       "1              2.4874                   -163.4186                 793.0680   \n",
       "2              2.8986                   -166.2056                 786.0763   \n",
       "3              3.2208                   -183.1261                 782.0604   \n",
       "4              3.1023                    -37.7727                 724.9443   \n",
       "5              2.9451                     -8.3446                 827.9359   \n",
       "\n",
       "0  class  \n",
       "1    1.0  \n",
       "2    1.0  \n",
       "3    1.0  \n",
       "4    1.0  \n",
       "5    1.0  \n",
       "\n",
       "[5 rows x 96 columns]"
      ]
     },
     "execution_count": 69,
     "metadata": {},
     "output_type": "execute_result"
    }
   ],
   "source": [
    "FPD=df[fh_list]\n",
    "FPD.head()"
   ]
  },
  {
   "cell_type": "code",
   "execution_count": 70,
   "metadata": {},
   "outputs": [],
   "source": [
    "FPD.to_csv('FPD_95.csv', index=False)"
   ]
  },
  {
   "cell_type": "code",
   "execution_count": null,
   "metadata": {},
   "outputs": [],
   "source": []
  }
 ],
 "metadata": {
  "accelerator": "GPU",
  "colab": {
   "name": "pd_speech_features_letm.ipynb",
   "provenance": []
  },
  "kernelspec": {
   "display_name": "Python 3 (ipykernel)",
   "language": "python",
   "name": "python3"
  },
  "language_info": {
   "codemirror_mode": {
    "name": "ipython",
    "version": 3
   },
   "file_extension": ".py",
   "mimetype": "text/x-python",
   "name": "python",
   "nbconvert_exporter": "python",
   "pygments_lexer": "ipython3",
   "version": "3.9.7"
  },
  "widgets": {
   "application/vnd.jupyter.widget-state+json": {
    "041ea88ce4e34a7b90d4cb82fcfbccfc": {
     "model_module": "@jupyter-widgets/base",
     "model_name": "LayoutModel",
     "state": {
      "_model_module": "@jupyter-widgets/base",
      "_model_module_version": "1.2.0",
      "_model_name": "LayoutModel",
      "_view_count": null,
      "_view_module": "@jupyter-widgets/base",
      "_view_module_version": "1.2.0",
      "_view_name": "LayoutView",
      "align_content": null,
      "align_items": null,
      "align_self": null,
      "border": null,
      "bottom": null,
      "display": null,
      "flex": null,
      "flex_flow": null,
      "grid_area": null,
      "grid_auto_columns": null,
      "grid_auto_flow": null,
      "grid_auto_rows": null,
      "grid_column": null,
      "grid_gap": null,
      "grid_row": null,
      "grid_template_areas": null,
      "grid_template_columns": null,
      "grid_template_rows": null,
      "height": null,
      "justify_content": null,
      "justify_items": null,
      "left": null,
      "margin": null,
      "max_height": null,
      "max_width": null,
      "min_height": null,
      "min_width": null,
      "object_fit": null,
      "object_position": null,
      "order": null,
      "overflow": null,
      "overflow_x": null,
      "overflow_y": null,
      "padding": null,
      "right": null,
      "top": null,
      "visibility": null,
      "width": null
     }
    },
    "3601bef0653943c2b449cb513438121d": {
     "model_module": "@jupyter-widgets/base",
     "model_name": "LayoutModel",
     "state": {
      "_model_module": "@jupyter-widgets/base",
      "_model_module_version": "1.2.0",
      "_model_name": "LayoutModel",
      "_view_count": null,
      "_view_module": "@jupyter-widgets/base",
      "_view_module_version": "1.2.0",
      "_view_name": "LayoutView",
      "align_content": null,
      "align_items": null,
      "align_self": null,
      "border": null,
      "bottom": null,
      "display": null,
      "flex": null,
      "flex_flow": null,
      "grid_area": null,
      "grid_auto_columns": null,
      "grid_auto_flow": null,
      "grid_auto_rows": null,
      "grid_column": null,
      "grid_gap": null,
      "grid_row": null,
      "grid_template_areas": null,
      "grid_template_columns": null,
      "grid_template_rows": null,
      "height": null,
      "justify_content": null,
      "justify_items": null,
      "left": null,
      "margin": null,
      "max_height": null,
      "max_width": null,
      "min_height": null,
      "min_width": null,
      "object_fit": null,
      "object_position": null,
      "order": null,
      "overflow": null,
      "overflow_x": null,
      "overflow_y": null,
      "padding": null,
      "right": null,
      "top": null,
      "visibility": null,
      "width": null
     }
    },
    "61715d8189544ef7ac54b3e544b7f976": {
     "model_module": "@jupyter-widgets/controls",
     "model_name": "HTMLModel",
     "state": {
      "_dom_classes": [],
      "_model_module": "@jupyter-widgets/controls",
      "_model_module_version": "1.5.0",
      "_model_name": "HTMLModel",
      "_view_count": null,
      "_view_module": "@jupyter-widgets/controls",
      "_view_module_version": "1.5.0",
      "_view_name": "HTMLView",
      "description": "",
      "description_tooltip": null,
      "layout": "IPY_MODEL_3601bef0653943c2b449cb513438121d",
      "placeholder": "​",
      "style": "IPY_MODEL_87329ca36e714fa2a3ff19d197050619",
      "value": " 0/50 [00:00&lt;?, ?it/s]"
     }
    },
    "71846090601b4b51b2b53a3b71fbe019": {
     "model_module": "@jupyter-widgets/controls",
     "model_name": "ProgressStyleModel",
     "state": {
      "_model_module": "@jupyter-widgets/controls",
      "_model_module_version": "1.5.0",
      "_model_name": "ProgressStyleModel",
      "_view_count": null,
      "_view_module": "@jupyter-widgets/base",
      "_view_module_version": "1.2.0",
      "_view_name": "StyleView",
      "bar_color": null,
      "description_width": "initial"
     }
    },
    "87329ca36e714fa2a3ff19d197050619": {
     "model_module": "@jupyter-widgets/controls",
     "model_name": "DescriptionStyleModel",
     "state": {
      "_model_module": "@jupyter-widgets/controls",
      "_model_module_version": "1.5.0",
      "_model_name": "DescriptionStyleModel",
      "_view_count": null,
      "_view_module": "@jupyter-widgets/base",
      "_view_module_version": "1.2.0",
      "_view_name": "StyleView",
      "description_width": ""
     }
    },
    "d5c7c547ac084f1b87778d1a62851373": {
     "model_module": "@jupyter-widgets/base",
     "model_name": "LayoutModel",
     "state": {
      "_model_module": "@jupyter-widgets/base",
      "_model_module_version": "1.2.0",
      "_model_name": "LayoutModel",
      "_view_count": null,
      "_view_module": "@jupyter-widgets/base",
      "_view_module_version": "1.2.0",
      "_view_name": "LayoutView",
      "align_content": null,
      "align_items": null,
      "align_self": null,
      "border": null,
      "bottom": null,
      "display": null,
      "flex": null,
      "flex_flow": null,
      "grid_area": null,
      "grid_auto_columns": null,
      "grid_auto_flow": null,
      "grid_auto_rows": null,
      "grid_column": null,
      "grid_gap": null,
      "grid_row": null,
      "grid_template_areas": null,
      "grid_template_columns": null,
      "grid_template_rows": null,
      "height": null,
      "justify_content": null,
      "justify_items": null,
      "left": null,
      "margin": null,
      "max_height": null,
      "max_width": null,
      "min_height": null,
      "min_width": null,
      "object_fit": null,
      "object_position": null,
      "order": null,
      "overflow": null,
      "overflow_x": null,
      "overflow_y": null,
      "padding": null,
      "right": null,
      "top": null,
      "visibility": null,
      "width": null
     }
    },
    "ebaa07e4bff0492c83df77ba9d233b5c": {
     "model_module": "@jupyter-widgets/controls",
     "model_name": "FloatProgressModel",
     "state": {
      "_dom_classes": [],
      "_model_module": "@jupyter-widgets/controls",
      "_model_module_version": "1.5.0",
      "_model_name": "FloatProgressModel",
      "_view_count": null,
      "_view_module": "@jupyter-widgets/controls",
      "_view_module_version": "1.5.0",
      "_view_name": "ProgressView",
      "bar_style": "danger",
      "description": "  0%",
      "description_tooltip": null,
      "layout": "IPY_MODEL_041ea88ce4e34a7b90d4cb82fcfbccfc",
      "max": 50,
      "min": 0,
      "orientation": "horizontal",
      "style": "IPY_MODEL_71846090601b4b51b2b53a3b71fbe019",
      "value": 0
     }
    },
    "fbe8f22ab8d3478fa8865e31a9f8beb9": {
     "model_module": "@jupyter-widgets/controls",
     "model_name": "HBoxModel",
     "state": {
      "_dom_classes": [],
      "_model_module": "@jupyter-widgets/controls",
      "_model_module_version": "1.5.0",
      "_model_name": "HBoxModel",
      "_view_count": null,
      "_view_module": "@jupyter-widgets/controls",
      "_view_module_version": "1.5.0",
      "_view_name": "HBoxView",
      "box_style": "",
      "children": [
       "IPY_MODEL_ebaa07e4bff0492c83df77ba9d233b5c",
       "IPY_MODEL_61715d8189544ef7ac54b3e544b7f976"
      ],
      "layout": "IPY_MODEL_d5c7c547ac084f1b87778d1a62851373"
     }
    }
   }
  }
 },
 "nbformat": 4,
 "nbformat_minor": 1
}
