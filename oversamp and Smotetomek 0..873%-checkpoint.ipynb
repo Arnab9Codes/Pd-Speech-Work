{
 "cells": [
  {
   "cell_type": "code",
   "execution_count": 113,
   "metadata": {
    "_cell_guid": "b1076dfc-b9ad-4769-8c92-a6c4dae69d19",
    "_uuid": "8f2839f25d086af736a60e9eeb907d3b93b6e0e5",
    "execution": {
     "iopub.execute_input": "2022-06-18T18:00:00.088793Z",
     "iopub.status.busy": "2022-06-18T18:00:00.088462Z",
     "iopub.status.idle": "2022-06-18T18:00:00.113185Z",
     "shell.execute_reply": "2022-06-18T18:00:00.112670Z",
     "shell.execute_reply.started": "2022-06-18T18:00:00.088752Z"
    }
   },
   "outputs": [],
   "source": [
    "# This Python 3 environment comes with many helpful analytics libraries installed\n",
    "# It is defined by the kaggle/python Docker image: https://github.com/kaggle/docker-python\n",
    "# For example, here's several helpful packages to load\n",
    "\n",
    "import numpy as np # linear algebra\n",
    "import pandas as pd # data processing, CSV file I/O (e.g. pd.read_csv)\n",
    "\n",
    "# Input data files are available in the read-only \"../input/\" directory\n",
    "# For example, running this (by clicking run or pressing Shift+Enter) will list all files under the input directory\n",
    "\n",
    "import os\n",
    "for dirname, _, filenames in os.walk('/kaggle/input'):\n",
    "    for filename in filenames:\n",
    "        print(os.path.join(dirname, filename))\n",
    "        \n",
    "\n",
    "# You can write up to 20GB to the current directory (/kaggle/working/) that gets preserved as output when you create a version using \"Save & Run All\" \n",
    "# You can also write temporary files to /kaggle/temp/, but they won't be saved outside of the current session"
   ]
  },
  {
   "cell_type": "code",
   "execution_count": 181,
   "metadata": {
    "execution": {
     "iopub.execute_input": "2022-06-18T18:02:23.259614Z",
     "iopub.status.busy": "2022-06-18T18:02:23.259245Z",
     "iopub.status.idle": "2022-06-18T18:02:23.266774Z",
     "shell.execute_reply": "2022-06-18T18:02:23.266264Z",
     "shell.execute_reply.started": "2022-06-18T18:02:23.259583Z"
    }
   },
   "outputs": [],
   "source": [
    "## Initial Imports\n",
    "\n",
    "%matplotlib inline\n",
    "\n",
    "import pandas as pd \n",
    "import numpy as np \n",
    "import matplotlib.pyplot as plt\n",
    "import seaborn as sns\n",
    "import random\n",
    "from tqdm import tqdm_notebook as tqdm\n",
    "from sklearn.model_selection import LeaveOneOut, GridSearchCV, KFold, train_test_split\n",
    "from sklearn import svm\n",
    "from sklearn.neighbors import KNeighborsClassifier\n",
    "from sklearn.metrics import accuracy_score, f1_score, classification_report, matthews_corrcoef, roc_auc_score\n",
    "from statistics import mean\n",
    "from imblearn.over_sampling import SMOTE, BorderlineSMOTE, ADASYN\n",
    "from collections import Counter\n",
    "random.seed(10)"
   ]
  },
  {
   "cell_type": "code",
   "execution_count": 223,
   "metadata": {
    "execution": {
     "iopub.execute_input": "2022-06-18T18:02:24.392510Z",
     "iopub.status.busy": "2022-06-18T18:02:24.392233Z",
     "iopub.status.idle": "2022-06-18T18:02:24.440119Z",
     "shell.execute_reply": "2022-06-18T18:02:24.439066Z",
     "shell.execute_reply.started": "2022-06-18T18:02:24.392478Z"
    }
   },
   "outputs": [
    {
     "name": "stdout",
     "output_type": "stream",
     "text": [
      "   tqwt_maxValue_dec_14  tqwt_entropy_log_dec_33  tqwt_meanValue_dec_17  \\\n",
      "0              0.105750               -4540.0830           9.600000e-20   \n",
      "1              0.121580               -4466.8949          -1.180000e-19   \n",
      "2              0.081818               -4455.2826          -7.420000e-20   \n",
      "3              0.567740               -2779.8086          -1.070000e-19   \n",
      "4              0.567490               -2910.9996           1.310000e-19   \n",
      "\n",
      "   tqwt_meanValue_dec_27  tqwt_entropy_log_dec_35  tqwt_entropy_log_dec_10  \\\n",
      "0           1.840000e-18               -3190.1752             -281439.2690   \n",
      "1          -4.270000e-18               -3106.4317             -285733.2255   \n",
      "2          -2.120000e-18               -3082.5691             -305145.0185   \n",
      "3           5.940000e-19               -1965.3808             -287896.7686   \n",
      "4           1.280000e-19               -2102.3852             -279129.6866   \n",
      "\n",
      "   tqwt_meanValue_dec_3  tqwt_entropy_log_dec_28  tqwt_meanValue_dec_6  \\\n",
      "0          1.700000e-22               -3160.3491         -2.860000e-21   \n",
      "1         -1.190000e-21               -3212.9726          3.080000e-21   \n",
      "2         -3.290000e-22               -3724.5248          3.100000e-21   \n",
      "3         -1.120000e-20               -4965.0071         -1.410000e-20   \n",
      "4         -2.460000e-21               -5832.5871          3.670000e-21   \n",
      "\n",
      "   tqwt_meanValue_dec_34  ...  app_LT_TKEO_std_9_coef  \\\n",
      "0           7.960000e-20  ...               4188.2456   \n",
      "1           2.430000e-20  ...               4148.9889   \n",
      "2           3.030000e-20  ...               4127.0967   \n",
      "3           2.430000e-20  ...               3910.7029   \n",
      "4           1.880000e-19  ...               4297.4639   \n",
      "\n",
      "   app_LT_TKEO_mean_9_coef  app_LT_TKEO_std_4_coef  app_LT_TKEO_std_7_coef  \\\n",
      "0                1586.1824                101.0889               1015.7707   \n",
      "1                1572.1837                100.0918               1006.3702   \n",
      "2                1564.1081                 99.6154               1001.7348   \n",
      "3                1448.7625                 94.4579                955.8128   \n",
      "4                1653.5676                108.6792               1057.2566   \n",
      "\n",
      "            f3           f2          f1           f4  gender  class  \n",
      "0  2447.162183  1031.849040  539.342735  3655.054806       1      1  \n",
      "1  2383.565201  1016.367294  564.363615  3498.681572       1      1  \n",
      "2  2357.826954  1032.406341  548.444604  3678.128717       1      1  \n",
      "3  3154.035654  1201.813897  819.529588  4122.163933       0      1  \n",
      "4  3201.513132  1215.346469  846.796144  4085.456839       0      1  \n",
      "\n",
      "[5 rows x 119 columns]\n",
      "['tqwt_maxValue_dec_14', 'tqwt_entropy_log_dec_33', 'tqwt_meanValue_dec_17', 'tqwt_meanValue_dec_27', 'tqwt_entropy_log_dec_35', 'tqwt_entropy_log_dec_10', 'tqwt_meanValue_dec_3', 'tqwt_entropy_log_dec_28', 'tqwt_meanValue_dec_6', 'tqwt_meanValue_dec_34', 'tqwt_meanValue_dec_31', 'tqwt_skewnessValue_dec_36', 'tqwt_meanValue_dec_20', 'tqwt_meanValue_dec_26', 'tqwt_entropy_log_dec_13', 'tqwt_meanValue_dec_15', 'tqwt_entropy_log_dec_34', 'tqwt_meanValue_dec_10', 'tqwt_meanValue_dec_9', 'tqwt_minValue_dec_16', 'tqwt_maxValue_dec_16', 'tqwt_entropy_log_dec_26', 'tqwt_entropy_log_dec_30', 'tqwt_meanValue_dec_33', 'tqwt_entropy_log_dec_32', 'tqwt_meanValue_dec_28', 'tqwt_entropy_shannon_dec_16', 'tqwt_energy_dec_17', 'tqwt_meanValue_dec_16', 'tqwt_meanValue_dec_21', 'tqwt_maxValue_dec_17', 'tqwt_meanValue_dec_11', 'tqwt_meanValue_dec_23', 'tqwt_meanValue_dec_13', 'tqwt_entropy_shannon_dec_22', 'tqwt_entropy_shannon_dec_21', 'tqwt_entropy_log_dec_31', 'tqwt_meanValue_dec_12', 'tqwt_skewnessValue_dec_35', 'tqwt_meanValue_dec_1', 'tqwt_meanValue_dec_32', 'tqwt_energy_dec_18', 'tqwt_meanValue_dec_24', 'tqwt_entropy_log_dec_14', 'tqwt_maxValue_dec_18', 'tqwt_minValue_dec_14', 'tqwt_minValue_dec_18', 'tqwt_stdValue_dec_16', 'tqwt_meanValue_dec_29', 'tqwt_meanValue_dec_19', 'tqwt_meanValue_dec_14', 'tqwt_meanValue_dec_25', 'tqwt_meanValue_dec_18', 'tqwt_kurtosisValue_dec_36', 'tqwt_stdValue_dec_15', 'tqwt_meanValue_dec_35', 'tqwt_stdValue_dec_17', 'tqwt_meanValue_dec_2', 'tqwt_maxValue_dec_15', 'tqwt_entropy_shannon_dec_15', 'tqwt_meanValue_dec_22', 'tqwt_entropy_shannon_dec_20', 'tqwt_entropy_log_dec_11', 'tqwt_entropy_log_dec_12', 'tqwt_meanValue_dec_5', 'tqwt_meanValue_dec_4', 'tqwt_minValue_dec_15', 'tqwt_meanValue_dec_30', 'tqwt_meanValue_dec_7', 'tqwt_meanValue_dec_8', 'std_MFCC_10th_coef', 'mean_8th_delta_delta', 'mean_MFCC_5th_coef', 'mean_MFCC_7th_coef', 'VFER_NSR_SEO', 'GNE_SNR_SEO', 'mean_MFCC_10th_coef', 'mean_MFCC_6th_coef', 'mean_MFCC_8th_coef', 'IMF_NSR_entropy', 'VFER_NSR_TKEO', 'mean_MFCC_4th_coef', 'mean_MFCC_1st_coef', 'mean_MFCC_3rd_coef', 'mean_MFCC_9th_coef', 'mean_MFCC_2nd_coef', 'mean_12th_delta_delta', 'mean_MFCC_12th_coef', 'std_MFCC_9th_coef', 'mean_MFCC_11th_coef', 'mean_11th_delta', 'RPDE', 'DFA', 'meanPeriodPulses', 'meanHarmToNoiseHarmonicity', 'app_LT_TKEO_std_2_coef', 'app_LT_TKEO_std_3_coef', 'app_LT_TKEO_mean_6_coef', 'app_LT_TKEO_std_8_coef', 'app_LT_entropy_log_10_coef', 'app_LT_TKEO_mean_10_coef', 'app_LT_TKEO_mean_4_coef', 'app_LT_TKEO_mean_8_coef', 'app_LT_TKEO_mean_7_coef', 'app_LT_TKEO_std_5_coef', 'app_LT_entropy_log_9_coef', 'app_LT_TKEO_std_10_coef', 'app_LT_TKEO_std_6_coef', 'app_LT_TKEO_mean_5_coef', 'app_LT_TKEO_std_9_coef', 'app_LT_TKEO_mean_9_coef', 'app_LT_TKEO_std_4_coef', 'app_LT_TKEO_std_7_coef', 'f3', 'f2', 'f1', 'f4', 'gender', 'class']\n"
     ]
    }
   ],
   "source": [
    "pdh = pd.read_csv(r'C:\\Users\\User\\Videos\\PD paper smote oversampling/gender_class_FH_corrected_Copy.csv')\n",
    "pdh = pd.read_csv(r'C:\\Users\\User\\Videos\\PD paper smote oversampling/tqwt_mfccs_concat_FH.csv')\n",
    "print(pdh.head())\n",
    "#print('The shape of the matrix is :', pdh.shape)\n",
    "print(list(pdh.columns))"
   ]
  },
  {
   "cell_type": "code",
   "execution_count": 224,
   "metadata": {
    "execution": {
     "iopub.execute_input": "2022-06-18T18:02:25.217107Z",
     "iopub.status.busy": "2022-06-18T18:02:25.216835Z",
     "iopub.status.idle": "2022-06-18T18:02:25.223336Z",
     "shell.execute_reply": "2022-06-18T18:02:25.222892Z",
     "shell.execute_reply.started": "2022-06-18T18:02:25.217073Z"
    }
   },
   "outputs": [
    {
     "name": "stdout",
     "output_type": "stream",
     "text": [
      "Counter({1.0: 564, 0.0: 192})\n",
      "(756, 118)\n",
      "(756,)\n",
      "756\n"
     ]
    }
   ],
   "source": [
    "df=pdh\n",
    "train_df=df.values\n",
    "x_train=train_df[:,:-1]\n",
    "y_train=train_df[:,-1]\n",
    "print(Counter(y_train))\n",
    "print(x_train.shape)\n",
    "print(y_train.shape)\n",
    "print(len(y_train))"
   ]
  },
  {
   "cell_type": "code",
   "execution_count": 225,
   "metadata": {},
   "outputs": [
    {
     "data": {
      "text/plain": [
       "0.0"
      ]
     },
     "execution_count": 225,
     "metadata": {},
     "output_type": "execute_result"
    }
   ],
   "source": [
    "pdg_gen=pdg.values\n",
    "pdg_gen[5,-2]"
   ]
  },
  {
   "cell_type": "code",
   "execution_count": 226,
   "metadata": {
    "execution": {
     "iopub.execute_input": "2022-06-18T18:02:26.310074Z",
     "iopub.status.busy": "2022-06-18T18:02:26.309778Z",
     "iopub.status.idle": "2022-06-18T18:02:26.317494Z",
     "shell.execute_reply": "2022-06-18T18:02:26.316693Z",
     "shell.execute_reply.started": "2022-06-18T18:02:26.310040Z"
    }
   },
   "outputs": [],
   "source": [
    "from sklearn.preprocessing import StandardScaler\n",
    "sc = StandardScaler()\n",
    "x_train= sc.fit_transform(x_train)\n",
    "#newly added\n",
    "\n",
    "kfold=KFold(252, shuffle=False)#random_state=10"
   ]
  },
  {
   "cell_type": "code",
   "execution_count": 227,
   "metadata": {
    "execution": {
     "iopub.execute_input": "2022-06-18T18:00:06.288074Z",
     "iopub.status.busy": "2022-06-18T18:00:06.287547Z",
     "iopub.status.idle": "2022-06-18T18:00:06.294638Z",
     "shell.execute_reply": "2022-06-18T18:00:06.293406Z",
     "shell.execute_reply.started": "2022-06-18T18:00:06.288036Z"
    }
   },
   "outputs": [],
   "source": [
    "def svm_model(X,y, kfold):\n",
    "    params={'C':[ 10,12], 'gamma':[ 0.001,0.0020,], 'kernel':['rbf', 'poly']}\n",
    "\n",
    "    grid=GridSearchCV(svm.SVC(probability=True, random_state=10),params,cv=kfold, refit=True, verbose=1)\n",
    "    grid.fit(X,y)\n",
    "    \n",
    "    return grid"
   ]
  },
  {
   "cell_type": "code",
   "execution_count": 38,
   "metadata": {
    "collapsed": true,
    "execution": {
     "iopub.execute_input": "2022-02-13T10:12:38.162378Z",
     "iopub.status.busy": "2022-02-13T10:12:38.16205Z",
     "iopub.status.idle": "2022-02-13T10:40:20.32767Z",
     "shell.execute_reply": "2022-02-13T10:40:20.326756Z",
     "shell.execute_reply.started": "2022-02-13T10:12:38.162344Z"
    }
   },
   "outputs": [
    {
     "name": "stdout",
     "output_type": "stream",
     "text": [
      "Fitting 252 folds for each of 8 candidates, totalling 2016 fits\n"
     ]
    },
    {
     "ename": "KeyboardInterrupt",
     "evalue": "",
     "output_type": "error",
     "traceback": [
      "\u001b[1;31m---------------------------------------------------------------------------\u001b[0m",
      "\u001b[1;31mKeyboardInterrupt\u001b[0m                         Traceback (most recent call last)",
      "\u001b[1;32m~\\AppData\\Local\\Temp/ipykernel_4580/349639204.py\u001b[0m in \u001b[0;36m<module>\u001b[1;34m\u001b[0m\n\u001b[1;32m----> 1\u001b[1;33m \u001b[0mgrid\u001b[0m\u001b[1;33m=\u001b[0m\u001b[0msvm_model\u001b[0m\u001b[1;33m(\u001b[0m\u001b[0mx_train\u001b[0m\u001b[1;33m,\u001b[0m \u001b[0my_train\u001b[0m\u001b[1;33m,\u001b[0m\u001b[0mkfold\u001b[0m\u001b[1;33m)\u001b[0m\u001b[1;33m\u001b[0m\u001b[1;33m\u001b[0m\u001b[0m\n\u001b[0m",
      "\u001b[1;32m~\\AppData\\Local\\Temp/ipykernel_4580/2925529062.py\u001b[0m in \u001b[0;36msvm_model\u001b[1;34m(X, y, kfold)\u001b[0m\n\u001b[0;32m      3\u001b[0m \u001b[1;33m\u001b[0m\u001b[0m\n\u001b[0;32m      4\u001b[0m     \u001b[0mgrid\u001b[0m\u001b[1;33m=\u001b[0m\u001b[0mGridSearchCV\u001b[0m\u001b[1;33m(\u001b[0m\u001b[0msvm\u001b[0m\u001b[1;33m.\u001b[0m\u001b[0mSVC\u001b[0m\u001b[1;33m(\u001b[0m\u001b[0mprobability\u001b[0m\u001b[1;33m=\u001b[0m\u001b[1;32mTrue\u001b[0m\u001b[1;33m,\u001b[0m \u001b[0mrandom_state\u001b[0m\u001b[1;33m=\u001b[0m\u001b[1;36m10\u001b[0m\u001b[1;33m)\u001b[0m\u001b[1;33m,\u001b[0m\u001b[0mparams\u001b[0m\u001b[1;33m,\u001b[0m\u001b[0mcv\u001b[0m\u001b[1;33m=\u001b[0m\u001b[0mkfold\u001b[0m\u001b[1;33m,\u001b[0m \u001b[0mrefit\u001b[0m\u001b[1;33m=\u001b[0m\u001b[1;32mTrue\u001b[0m\u001b[1;33m,\u001b[0m \u001b[0mverbose\u001b[0m\u001b[1;33m=\u001b[0m\u001b[1;36m1\u001b[0m\u001b[1;33m)\u001b[0m\u001b[1;33m\u001b[0m\u001b[1;33m\u001b[0m\u001b[0m\n\u001b[1;32m----> 5\u001b[1;33m     \u001b[0mgrid\u001b[0m\u001b[1;33m.\u001b[0m\u001b[0mfit\u001b[0m\u001b[1;33m(\u001b[0m\u001b[0mX\u001b[0m\u001b[1;33m,\u001b[0m\u001b[0my\u001b[0m\u001b[1;33m)\u001b[0m\u001b[1;33m\u001b[0m\u001b[1;33m\u001b[0m\u001b[0m\n\u001b[0m\u001b[0;32m      6\u001b[0m \u001b[1;33m\u001b[0m\u001b[0m\n\u001b[0;32m      7\u001b[0m     \u001b[1;32mreturn\u001b[0m \u001b[0mgrid\u001b[0m\u001b[1;33m\u001b[0m\u001b[1;33m\u001b[0m\u001b[0m\n",
      "\u001b[1;32m~\\.conda\\envs\\dl\\lib\\site-packages\\sklearn\\model_selection\\_search.py\u001b[0m in \u001b[0;36mfit\u001b[1;34m(self, X, y, groups, **fit_params)\u001b[0m\n\u001b[0;32m    889\u001b[0m                 \u001b[1;32mreturn\u001b[0m \u001b[0mresults\u001b[0m\u001b[1;33m\u001b[0m\u001b[1;33m\u001b[0m\u001b[0m\n\u001b[0;32m    890\u001b[0m \u001b[1;33m\u001b[0m\u001b[0m\n\u001b[1;32m--> 891\u001b[1;33m             \u001b[0mself\u001b[0m\u001b[1;33m.\u001b[0m\u001b[0m_run_search\u001b[0m\u001b[1;33m(\u001b[0m\u001b[0mevaluate_candidates\u001b[0m\u001b[1;33m)\u001b[0m\u001b[1;33m\u001b[0m\u001b[1;33m\u001b[0m\u001b[0m\n\u001b[0m\u001b[0;32m    892\u001b[0m \u001b[1;33m\u001b[0m\u001b[0m\n\u001b[0;32m    893\u001b[0m             \u001b[1;31m# multimetric is determined here because in the case of a callable\u001b[0m\u001b[1;33m\u001b[0m\u001b[1;33m\u001b[0m\u001b[0m\n",
      "\u001b[1;32m~\\.conda\\envs\\dl\\lib\\site-packages\\sklearn\\model_selection\\_search.py\u001b[0m in \u001b[0;36m_run_search\u001b[1;34m(self, evaluate_candidates)\u001b[0m\n\u001b[0;32m   1390\u001b[0m     \u001b[1;32mdef\u001b[0m \u001b[0m_run_search\u001b[0m\u001b[1;33m(\u001b[0m\u001b[0mself\u001b[0m\u001b[1;33m,\u001b[0m \u001b[0mevaluate_candidates\u001b[0m\u001b[1;33m)\u001b[0m\u001b[1;33m:\u001b[0m\u001b[1;33m\u001b[0m\u001b[1;33m\u001b[0m\u001b[0m\n\u001b[0;32m   1391\u001b[0m         \u001b[1;34m\"\"\"Search all candidates in param_grid\"\"\"\u001b[0m\u001b[1;33m\u001b[0m\u001b[1;33m\u001b[0m\u001b[0m\n\u001b[1;32m-> 1392\u001b[1;33m         \u001b[0mevaluate_candidates\u001b[0m\u001b[1;33m(\u001b[0m\u001b[0mParameterGrid\u001b[0m\u001b[1;33m(\u001b[0m\u001b[0mself\u001b[0m\u001b[1;33m.\u001b[0m\u001b[0mparam_grid\u001b[0m\u001b[1;33m)\u001b[0m\u001b[1;33m)\u001b[0m\u001b[1;33m\u001b[0m\u001b[1;33m\u001b[0m\u001b[0m\n\u001b[0m\u001b[0;32m   1393\u001b[0m \u001b[1;33m\u001b[0m\u001b[0m\n\u001b[0;32m   1394\u001b[0m \u001b[1;33m\u001b[0m\u001b[0m\n",
      "\u001b[1;32m~\\.conda\\envs\\dl\\lib\\site-packages\\sklearn\\model_selection\\_search.py\u001b[0m in \u001b[0;36mevaluate_candidates\u001b[1;34m(candidate_params, cv, more_results)\u001b[0m\n\u001b[0;32m    836\u001b[0m                     )\n\u001b[0;32m    837\u001b[0m \u001b[1;33m\u001b[0m\u001b[0m\n\u001b[1;32m--> 838\u001b[1;33m                 out = parallel(\n\u001b[0m\u001b[0;32m    839\u001b[0m                     delayed(_fit_and_score)(\n\u001b[0;32m    840\u001b[0m                         \u001b[0mclone\u001b[0m\u001b[1;33m(\u001b[0m\u001b[0mbase_estimator\u001b[0m\u001b[1;33m)\u001b[0m\u001b[1;33m,\u001b[0m\u001b[1;33m\u001b[0m\u001b[1;33m\u001b[0m\u001b[0m\n",
      "\u001b[1;32m~\\.conda\\envs\\dl\\lib\\site-packages\\joblib\\parallel.py\u001b[0m in \u001b[0;36m__call__\u001b[1;34m(self, iterable)\u001b[0m\n\u001b[0;32m   1044\u001b[0m                 \u001b[0mself\u001b[0m\u001b[1;33m.\u001b[0m\u001b[0m_iterating\u001b[0m \u001b[1;33m=\u001b[0m \u001b[0mself\u001b[0m\u001b[1;33m.\u001b[0m\u001b[0m_original_iterator\u001b[0m \u001b[1;32mis\u001b[0m \u001b[1;32mnot\u001b[0m \u001b[1;32mNone\u001b[0m\u001b[1;33m\u001b[0m\u001b[1;33m\u001b[0m\u001b[0m\n\u001b[0;32m   1045\u001b[0m \u001b[1;33m\u001b[0m\u001b[0m\n\u001b[1;32m-> 1046\u001b[1;33m             \u001b[1;32mwhile\u001b[0m \u001b[0mself\u001b[0m\u001b[1;33m.\u001b[0m\u001b[0mdispatch_one_batch\u001b[0m\u001b[1;33m(\u001b[0m\u001b[0miterator\u001b[0m\u001b[1;33m)\u001b[0m\u001b[1;33m:\u001b[0m\u001b[1;33m\u001b[0m\u001b[1;33m\u001b[0m\u001b[0m\n\u001b[0m\u001b[0;32m   1047\u001b[0m                 \u001b[1;32mpass\u001b[0m\u001b[1;33m\u001b[0m\u001b[1;33m\u001b[0m\u001b[0m\n\u001b[0;32m   1048\u001b[0m \u001b[1;33m\u001b[0m\u001b[0m\n",
      "\u001b[1;32m~\\.conda\\envs\\dl\\lib\\site-packages\\joblib\\parallel.py\u001b[0m in \u001b[0;36mdispatch_one_batch\u001b[1;34m(self, iterator)\u001b[0m\n\u001b[0;32m    859\u001b[0m                 \u001b[1;32mreturn\u001b[0m \u001b[1;32mFalse\u001b[0m\u001b[1;33m\u001b[0m\u001b[1;33m\u001b[0m\u001b[0m\n\u001b[0;32m    860\u001b[0m             \u001b[1;32melse\u001b[0m\u001b[1;33m:\u001b[0m\u001b[1;33m\u001b[0m\u001b[1;33m\u001b[0m\u001b[0m\n\u001b[1;32m--> 861\u001b[1;33m                 \u001b[0mself\u001b[0m\u001b[1;33m.\u001b[0m\u001b[0m_dispatch\u001b[0m\u001b[1;33m(\u001b[0m\u001b[0mtasks\u001b[0m\u001b[1;33m)\u001b[0m\u001b[1;33m\u001b[0m\u001b[1;33m\u001b[0m\u001b[0m\n\u001b[0m\u001b[0;32m    862\u001b[0m                 \u001b[1;32mreturn\u001b[0m \u001b[1;32mTrue\u001b[0m\u001b[1;33m\u001b[0m\u001b[1;33m\u001b[0m\u001b[0m\n\u001b[0;32m    863\u001b[0m \u001b[1;33m\u001b[0m\u001b[0m\n",
      "\u001b[1;32m~\\.conda\\envs\\dl\\lib\\site-packages\\joblib\\parallel.py\u001b[0m in \u001b[0;36m_dispatch\u001b[1;34m(self, batch)\u001b[0m\n\u001b[0;32m    777\u001b[0m         \u001b[1;32mwith\u001b[0m \u001b[0mself\u001b[0m\u001b[1;33m.\u001b[0m\u001b[0m_lock\u001b[0m\u001b[1;33m:\u001b[0m\u001b[1;33m\u001b[0m\u001b[1;33m\u001b[0m\u001b[0m\n\u001b[0;32m    778\u001b[0m             \u001b[0mjob_idx\u001b[0m \u001b[1;33m=\u001b[0m \u001b[0mlen\u001b[0m\u001b[1;33m(\u001b[0m\u001b[0mself\u001b[0m\u001b[1;33m.\u001b[0m\u001b[0m_jobs\u001b[0m\u001b[1;33m)\u001b[0m\u001b[1;33m\u001b[0m\u001b[1;33m\u001b[0m\u001b[0m\n\u001b[1;32m--> 779\u001b[1;33m             \u001b[0mjob\u001b[0m \u001b[1;33m=\u001b[0m \u001b[0mself\u001b[0m\u001b[1;33m.\u001b[0m\u001b[0m_backend\u001b[0m\u001b[1;33m.\u001b[0m\u001b[0mapply_async\u001b[0m\u001b[1;33m(\u001b[0m\u001b[0mbatch\u001b[0m\u001b[1;33m,\u001b[0m \u001b[0mcallback\u001b[0m\u001b[1;33m=\u001b[0m\u001b[0mcb\u001b[0m\u001b[1;33m)\u001b[0m\u001b[1;33m\u001b[0m\u001b[1;33m\u001b[0m\u001b[0m\n\u001b[0m\u001b[0;32m    780\u001b[0m             \u001b[1;31m# A job can complete so quickly than its callback is\u001b[0m\u001b[1;33m\u001b[0m\u001b[1;33m\u001b[0m\u001b[0m\n\u001b[0;32m    781\u001b[0m             \u001b[1;31m# called before we get here, causing self._jobs to\u001b[0m\u001b[1;33m\u001b[0m\u001b[1;33m\u001b[0m\u001b[0m\n",
      "\u001b[1;32m~\\.conda\\envs\\dl\\lib\\site-packages\\joblib\\_parallel_backends.py\u001b[0m in \u001b[0;36mapply_async\u001b[1;34m(self, func, callback)\u001b[0m\n\u001b[0;32m    206\u001b[0m     \u001b[1;32mdef\u001b[0m \u001b[0mapply_async\u001b[0m\u001b[1;33m(\u001b[0m\u001b[0mself\u001b[0m\u001b[1;33m,\u001b[0m \u001b[0mfunc\u001b[0m\u001b[1;33m,\u001b[0m \u001b[0mcallback\u001b[0m\u001b[1;33m=\u001b[0m\u001b[1;32mNone\u001b[0m\u001b[1;33m)\u001b[0m\u001b[1;33m:\u001b[0m\u001b[1;33m\u001b[0m\u001b[1;33m\u001b[0m\u001b[0m\n\u001b[0;32m    207\u001b[0m         \u001b[1;34m\"\"\"Schedule a func to be run\"\"\"\u001b[0m\u001b[1;33m\u001b[0m\u001b[1;33m\u001b[0m\u001b[0m\n\u001b[1;32m--> 208\u001b[1;33m         \u001b[0mresult\u001b[0m \u001b[1;33m=\u001b[0m \u001b[0mImmediateResult\u001b[0m\u001b[1;33m(\u001b[0m\u001b[0mfunc\u001b[0m\u001b[1;33m)\u001b[0m\u001b[1;33m\u001b[0m\u001b[1;33m\u001b[0m\u001b[0m\n\u001b[0m\u001b[0;32m    209\u001b[0m         \u001b[1;32mif\u001b[0m \u001b[0mcallback\u001b[0m\u001b[1;33m:\u001b[0m\u001b[1;33m\u001b[0m\u001b[1;33m\u001b[0m\u001b[0m\n\u001b[0;32m    210\u001b[0m             \u001b[0mcallback\u001b[0m\u001b[1;33m(\u001b[0m\u001b[0mresult\u001b[0m\u001b[1;33m)\u001b[0m\u001b[1;33m\u001b[0m\u001b[1;33m\u001b[0m\u001b[0m\n",
      "\u001b[1;32m~\\.conda\\envs\\dl\\lib\\site-packages\\joblib\\_parallel_backends.py\u001b[0m in \u001b[0;36m__init__\u001b[1;34m(self, batch)\u001b[0m\n\u001b[0;32m    570\u001b[0m         \u001b[1;31m# Don't delay the application, to avoid keeping the input\u001b[0m\u001b[1;33m\u001b[0m\u001b[1;33m\u001b[0m\u001b[0m\n\u001b[0;32m    571\u001b[0m         \u001b[1;31m# arguments in memory\u001b[0m\u001b[1;33m\u001b[0m\u001b[1;33m\u001b[0m\u001b[0m\n\u001b[1;32m--> 572\u001b[1;33m         \u001b[0mself\u001b[0m\u001b[1;33m.\u001b[0m\u001b[0mresults\u001b[0m \u001b[1;33m=\u001b[0m \u001b[0mbatch\u001b[0m\u001b[1;33m(\u001b[0m\u001b[1;33m)\u001b[0m\u001b[1;33m\u001b[0m\u001b[1;33m\u001b[0m\u001b[0m\n\u001b[0m\u001b[0;32m    573\u001b[0m \u001b[1;33m\u001b[0m\u001b[0m\n\u001b[0;32m    574\u001b[0m     \u001b[1;32mdef\u001b[0m \u001b[0mget\u001b[0m\u001b[1;33m(\u001b[0m\u001b[0mself\u001b[0m\u001b[1;33m)\u001b[0m\u001b[1;33m:\u001b[0m\u001b[1;33m\u001b[0m\u001b[1;33m\u001b[0m\u001b[0m\n",
      "\u001b[1;32m~\\.conda\\envs\\dl\\lib\\site-packages\\joblib\\parallel.py\u001b[0m in \u001b[0;36m__call__\u001b[1;34m(self)\u001b[0m\n\u001b[0;32m    260\u001b[0m         \u001b[1;31m# change the default number of processes to -1\u001b[0m\u001b[1;33m\u001b[0m\u001b[1;33m\u001b[0m\u001b[0m\n\u001b[0;32m    261\u001b[0m         \u001b[1;32mwith\u001b[0m \u001b[0mparallel_backend\u001b[0m\u001b[1;33m(\u001b[0m\u001b[0mself\u001b[0m\u001b[1;33m.\u001b[0m\u001b[0m_backend\u001b[0m\u001b[1;33m,\u001b[0m \u001b[0mn_jobs\u001b[0m\u001b[1;33m=\u001b[0m\u001b[0mself\u001b[0m\u001b[1;33m.\u001b[0m\u001b[0m_n_jobs\u001b[0m\u001b[1;33m)\u001b[0m\u001b[1;33m:\u001b[0m\u001b[1;33m\u001b[0m\u001b[1;33m\u001b[0m\u001b[0m\n\u001b[1;32m--> 262\u001b[1;33m             return [func(*args, **kwargs)\n\u001b[0m\u001b[0;32m    263\u001b[0m                     for func, args, kwargs in self.items]\n\u001b[0;32m    264\u001b[0m \u001b[1;33m\u001b[0m\u001b[0m\n",
      "\u001b[1;32m~\\.conda\\envs\\dl\\lib\\site-packages\\joblib\\parallel.py\u001b[0m in \u001b[0;36m<listcomp>\u001b[1;34m(.0)\u001b[0m\n\u001b[0;32m    260\u001b[0m         \u001b[1;31m# change the default number of processes to -1\u001b[0m\u001b[1;33m\u001b[0m\u001b[1;33m\u001b[0m\u001b[0m\n\u001b[0;32m    261\u001b[0m         \u001b[1;32mwith\u001b[0m \u001b[0mparallel_backend\u001b[0m\u001b[1;33m(\u001b[0m\u001b[0mself\u001b[0m\u001b[1;33m.\u001b[0m\u001b[0m_backend\u001b[0m\u001b[1;33m,\u001b[0m \u001b[0mn_jobs\u001b[0m\u001b[1;33m=\u001b[0m\u001b[0mself\u001b[0m\u001b[1;33m.\u001b[0m\u001b[0m_n_jobs\u001b[0m\u001b[1;33m)\u001b[0m\u001b[1;33m:\u001b[0m\u001b[1;33m\u001b[0m\u001b[1;33m\u001b[0m\u001b[0m\n\u001b[1;32m--> 262\u001b[1;33m             return [func(*args, **kwargs)\n\u001b[0m\u001b[0;32m    263\u001b[0m                     for func, args, kwargs in self.items]\n\u001b[0;32m    264\u001b[0m \u001b[1;33m\u001b[0m\u001b[0m\n",
      "\u001b[1;32m~\\.conda\\envs\\dl\\lib\\site-packages\\sklearn\\utils\\fixes.py\u001b[0m in \u001b[0;36m__call__\u001b[1;34m(self, *args, **kwargs)\u001b[0m\n\u001b[0;32m    209\u001b[0m     \u001b[1;32mdef\u001b[0m \u001b[0m__call__\u001b[0m\u001b[1;33m(\u001b[0m\u001b[0mself\u001b[0m\u001b[1;33m,\u001b[0m \u001b[1;33m*\u001b[0m\u001b[0margs\u001b[0m\u001b[1;33m,\u001b[0m \u001b[1;33m**\u001b[0m\u001b[0mkwargs\u001b[0m\u001b[1;33m)\u001b[0m\u001b[1;33m:\u001b[0m\u001b[1;33m\u001b[0m\u001b[1;33m\u001b[0m\u001b[0m\n\u001b[0;32m    210\u001b[0m         \u001b[1;32mwith\u001b[0m \u001b[0mconfig_context\u001b[0m\u001b[1;33m(\u001b[0m\u001b[1;33m**\u001b[0m\u001b[0mself\u001b[0m\u001b[1;33m.\u001b[0m\u001b[0mconfig\u001b[0m\u001b[1;33m)\u001b[0m\u001b[1;33m:\u001b[0m\u001b[1;33m\u001b[0m\u001b[1;33m\u001b[0m\u001b[0m\n\u001b[1;32m--> 211\u001b[1;33m             \u001b[1;32mreturn\u001b[0m \u001b[0mself\u001b[0m\u001b[1;33m.\u001b[0m\u001b[0mfunction\u001b[0m\u001b[1;33m(\u001b[0m\u001b[1;33m*\u001b[0m\u001b[0margs\u001b[0m\u001b[1;33m,\u001b[0m \u001b[1;33m**\u001b[0m\u001b[0mkwargs\u001b[0m\u001b[1;33m)\u001b[0m\u001b[1;33m\u001b[0m\u001b[1;33m\u001b[0m\u001b[0m\n\u001b[0m\u001b[0;32m    212\u001b[0m \u001b[1;33m\u001b[0m\u001b[0m\n\u001b[0;32m    213\u001b[0m \u001b[1;33m\u001b[0m\u001b[0m\n",
      "\u001b[1;32m~\\.conda\\envs\\dl\\lib\\site-packages\\sklearn\\model_selection\\_validation.py\u001b[0m in \u001b[0;36m_fit_and_score\u001b[1;34m(estimator, X, y, scorer, train, test, verbose, parameters, fit_params, return_train_score, return_parameters, return_n_test_samples, return_times, return_estimator, split_progress, candidate_progress, error_score)\u001b[0m\n\u001b[0;32m    679\u001b[0m             \u001b[0mestimator\u001b[0m\u001b[1;33m.\u001b[0m\u001b[0mfit\u001b[0m\u001b[1;33m(\u001b[0m\u001b[0mX_train\u001b[0m\u001b[1;33m,\u001b[0m \u001b[1;33m**\u001b[0m\u001b[0mfit_params\u001b[0m\u001b[1;33m)\u001b[0m\u001b[1;33m\u001b[0m\u001b[1;33m\u001b[0m\u001b[0m\n\u001b[0;32m    680\u001b[0m         \u001b[1;32melse\u001b[0m\u001b[1;33m:\u001b[0m\u001b[1;33m\u001b[0m\u001b[1;33m\u001b[0m\u001b[0m\n\u001b[1;32m--> 681\u001b[1;33m             \u001b[0mestimator\u001b[0m\u001b[1;33m.\u001b[0m\u001b[0mfit\u001b[0m\u001b[1;33m(\u001b[0m\u001b[0mX_train\u001b[0m\u001b[1;33m,\u001b[0m \u001b[0my_train\u001b[0m\u001b[1;33m,\u001b[0m \u001b[1;33m**\u001b[0m\u001b[0mfit_params\u001b[0m\u001b[1;33m)\u001b[0m\u001b[1;33m\u001b[0m\u001b[1;33m\u001b[0m\u001b[0m\n\u001b[0m\u001b[0;32m    682\u001b[0m \u001b[1;33m\u001b[0m\u001b[0m\n\u001b[0;32m    683\u001b[0m     \u001b[1;32mexcept\u001b[0m \u001b[0mException\u001b[0m\u001b[1;33m:\u001b[0m\u001b[1;33m\u001b[0m\u001b[1;33m\u001b[0m\u001b[0m\n",
      "\u001b[1;32m~\\.conda\\envs\\dl\\lib\\site-packages\\sklearn\\svm\\_base.py\u001b[0m in \u001b[0;36mfit\u001b[1;34m(self, X, y, sample_weight)\u001b[0m\n\u001b[0;32m    253\u001b[0m \u001b[1;33m\u001b[0m\u001b[0m\n\u001b[0;32m    254\u001b[0m         \u001b[0mseed\u001b[0m \u001b[1;33m=\u001b[0m \u001b[0mrnd\u001b[0m\u001b[1;33m.\u001b[0m\u001b[0mrandint\u001b[0m\u001b[1;33m(\u001b[0m\u001b[0mnp\u001b[0m\u001b[1;33m.\u001b[0m\u001b[0miinfo\u001b[0m\u001b[1;33m(\u001b[0m\u001b[1;34m\"i\"\u001b[0m\u001b[1;33m)\u001b[0m\u001b[1;33m.\u001b[0m\u001b[0mmax\u001b[0m\u001b[1;33m)\u001b[0m\u001b[1;33m\u001b[0m\u001b[1;33m\u001b[0m\u001b[0m\n\u001b[1;32m--> 255\u001b[1;33m         \u001b[0mfit\u001b[0m\u001b[1;33m(\u001b[0m\u001b[0mX\u001b[0m\u001b[1;33m,\u001b[0m \u001b[0my\u001b[0m\u001b[1;33m,\u001b[0m \u001b[0msample_weight\u001b[0m\u001b[1;33m,\u001b[0m \u001b[0msolver_type\u001b[0m\u001b[1;33m,\u001b[0m \u001b[0mkernel\u001b[0m\u001b[1;33m,\u001b[0m \u001b[0mrandom_seed\u001b[0m\u001b[1;33m=\u001b[0m\u001b[0mseed\u001b[0m\u001b[1;33m)\u001b[0m\u001b[1;33m\u001b[0m\u001b[1;33m\u001b[0m\u001b[0m\n\u001b[0m\u001b[0;32m    256\u001b[0m         \u001b[1;31m# see comment on the other call to np.iinfo in this file\u001b[0m\u001b[1;33m\u001b[0m\u001b[1;33m\u001b[0m\u001b[0m\n\u001b[0;32m    257\u001b[0m \u001b[1;33m\u001b[0m\u001b[0m\n",
      "\u001b[1;32m~\\.conda\\envs\\dl\\lib\\site-packages\\sklearn\\svm\\_base.py\u001b[0m in \u001b[0;36m_dense_fit\u001b[1;34m(self, X, y, sample_weight, solver_type, kernel, random_seed)\u001b[0m\n\u001b[0;32m    313\u001b[0m             \u001b[0mself\u001b[0m\u001b[1;33m.\u001b[0m\u001b[0m_probB\u001b[0m\u001b[1;33m,\u001b[0m\u001b[1;33m\u001b[0m\u001b[1;33m\u001b[0m\u001b[0m\n\u001b[0;32m    314\u001b[0m             \u001b[0mself\u001b[0m\u001b[1;33m.\u001b[0m\u001b[0mfit_status_\u001b[0m\u001b[1;33m,\u001b[0m\u001b[1;33m\u001b[0m\u001b[1;33m\u001b[0m\u001b[0m\n\u001b[1;32m--> 315\u001b[1;33m         \u001b[1;33m)\u001b[0m \u001b[1;33m=\u001b[0m \u001b[0mlibsvm\u001b[0m\u001b[1;33m.\u001b[0m\u001b[0mfit\u001b[0m\u001b[1;33m(\u001b[0m\u001b[1;33m\u001b[0m\u001b[1;33m\u001b[0m\u001b[0m\n\u001b[0m\u001b[0;32m    316\u001b[0m             \u001b[0mX\u001b[0m\u001b[1;33m,\u001b[0m\u001b[1;33m\u001b[0m\u001b[1;33m\u001b[0m\u001b[0m\n\u001b[0;32m    317\u001b[0m             \u001b[0my\u001b[0m\u001b[1;33m,\u001b[0m\u001b[1;33m\u001b[0m\u001b[1;33m\u001b[0m\u001b[0m\n",
      "\u001b[1;31mKeyboardInterrupt\u001b[0m: "
     ]
    }
   ],
   "source": [
    "grid=svm_model(x_train, y_train,kfold)"
   ]
  },
  {
   "cell_type": "code",
   "execution_count": 18,
   "metadata": {
    "collapsed": true,
    "execution": {
     "iopub.execute_input": "2022-06-18T15:56:44.371505Z",
     "iopub.status.busy": "2022-06-18T15:56:44.371215Z",
     "iopub.status.idle": "2022-06-18T15:56:44.387737Z",
     "shell.execute_reply": "2022-06-18T15:56:44.386774Z",
     "shell.execute_reply.started": "2022-06-18T15:56:44.371476Z"
    }
   },
   "outputs": [
    {
     "ename": "NameError",
     "evalue": "name 'grid' is not defined",
     "output_type": "error",
     "traceback": [
      "\u001b[1;31m---------------------------------------------------------------------------\u001b[0m",
      "\u001b[1;31mNameError\u001b[0m                                 Traceback (most recent call last)",
      "\u001b[1;32m~\\AppData\\Local\\Temp/ipykernel_8004/1211490153.py\u001b[0m in \u001b[0;36m<module>\u001b[1;34m\u001b[0m\n\u001b[0;32m      1\u001b[0m \u001b[1;32mfrom\u001b[0m \u001b[0mstatistics\u001b[0m \u001b[1;32mimport\u001b[0m \u001b[0mmean\u001b[0m\u001b[1;33m\u001b[0m\u001b[1;33m\u001b[0m\u001b[0m\n\u001b[1;32m----> 2\u001b[1;33m \u001b[0mprint\u001b[0m\u001b[1;33m(\u001b[0m\u001b[0mgrid\u001b[0m\u001b[1;33m.\u001b[0m\u001b[0mbest_params_\u001b[0m\u001b[1;33m)\u001b[0m\u001b[1;33m\u001b[0m\u001b[1;33m\u001b[0m\u001b[0m\n\u001b[0m\u001b[0;32m      3\u001b[0m \u001b[0mprint\u001b[0m\u001b[1;33m(\u001b[0m\u001b[0mgrid\u001b[0m\u001b[1;33m.\u001b[0m\u001b[0mbest_score_\u001b[0m\u001b[1;33m)\u001b[0m\u001b[1;33m\u001b[0m\u001b[1;33m\u001b[0m\u001b[0m\n\u001b[0;32m      4\u001b[0m \u001b[0mprint\u001b[0m\u001b[1;33m(\u001b[0m\u001b[0mgrid\u001b[0m\u001b[1;33m.\u001b[0m\u001b[0mcv_results_\u001b[0m\u001b[1;33m)\u001b[0m\u001b[1;33m\u001b[0m\u001b[1;33m\u001b[0m\u001b[0m\n",
      "\u001b[1;31mNameError\u001b[0m: name 'grid' is not defined"
     ]
    }
   ],
   "source": [
    "from statistics import mean\n",
    "print(grid.best_params_)\n",
    "print(grid.best_score_)\n",
    "print(grid.cv_results_)"
   ]
  },
  {
   "cell_type": "code",
   "execution_count": 353,
   "metadata": {
    "execution": {
     "iopub.execute_input": "2022-06-18T18:02:34.071393Z",
     "iopub.status.busy": "2022-06-18T18:02:34.070529Z",
     "iopub.status.idle": "2022-06-18T18:02:34.083676Z",
     "shell.execute_reply": "2022-06-18T18:02:34.082841Z",
     "shell.execute_reply.started": "2022-06-18T18:02:34.071327Z"
    }
   },
   "outputs": [],
   "source": [
    "def oversampling_smote(trainx,trainy, xs=2):\n",
    "    \n",
    "    # uses concept of smote for oversampling\n",
    "    \n",
    "    attrs=trainx.shape[1] # getting number of attributes\n",
    "    synthetic_sample=np.empty((2*(xs-1), attrs))\n",
    "    overx=trainx[0:3,:]\n",
    "    overy=[]\n",
    "    \n",
    "    for i in range(0,len(trainx),3):\n",
    "        if(trainy[i]==0):\n",
    "            gap1=trainx[i]-trainx[i+1]\n",
    "            gap2=trainx[i]-trainx[i+2]\n",
    "            gap3=trainx[i+1]-trainx[i+2]\n",
    "            \n",
    "            for j in range(synthetic_sample.shape[0],3):\n",
    "                #synthetic_sample[j]=trainx[i]+random.uniform(0,1)*gap1#trainx[i]+random.uniform(0,1)*gap1\n",
    "                synthetic_sample[j+1]=trainx[i+2]+random.uniform(0,1)*gap2\n",
    "                synthetic_sample[j+2]=train[i+1]+random.uniform(0,1)*gap3\n",
    "            \n",
    "            overx=np.vstack((overx,trainx[i:i+3,:]))\n",
    "            overx=np.vstack((overx, synthetic_sample))\n",
    "            \n",
    "            for j in trainy[i:(i+3)]:\n",
    "                overy.append(j)\n",
    "            \n",
    "            for l in range(synthetic_sample.shape[0]):\n",
    "                overy.append(trainy[i])\n",
    "            \n",
    "        else:\n",
    "            overx=np.vstack((overx,trainx[i:i+3,:]))\n",
    "            for j in trainy[i:i+3]:\n",
    "                overy.append(j)\n",
    "    overx=overx[3:,:]#cropping of the 1st 3 because it is reapeated\n",
    "    overy=np.array(overy)\n",
    "    print(overx.shape)\n",
    "    print(overy.shape)\n",
    "    print(Counter(overy))\n",
    "    return overx,overy"
   ]
  },
  {
   "cell_type": "code",
   "execution_count": 380,
   "metadata": {
    "execution": {
     "iopub.execute_input": "2022-06-18T18:02:47.515892Z",
     "iopub.status.busy": "2022-06-18T18:02:47.515607Z",
     "iopub.status.idle": "2022-06-18T18:05:16.675042Z",
     "shell.execute_reply": "2022-06-18T18:05:16.674018Z",
     "shell.execute_reply.started": "2022-06-18T18:02:47.515857Z"
    }
   },
   "outputs": [
    {
     "name": "stdout",
     "output_type": "stream",
     "text": [
      "1\n",
      "2\n",
      "3\n",
      "4\n",
      "5\n",
      "6\n",
      "7\n",
      "8\n",
      "9\n",
      "10\n",
      "11\n",
      "12\n",
      "13\n",
      "14\n",
      "15\n",
      "16\n",
      "17\n",
      "18\n",
      "19\n",
      "20\n",
      "21\n",
      "22\n",
      "23\n",
      "24\n",
      "25\n",
      "26\n",
      "27\n",
      "28\n",
      "29\n",
      "30\n",
      "31\n",
      "32\n",
      "33\n",
      "34\n",
      "35\n",
      "36\n",
      "37\n",
      "38\n",
      "39\n",
      "40\n",
      "41\n",
      "42\n"
     ]
    },
    {
     "name": "stderr",
     "output_type": "stream",
     "text": [
      "F-score is ill-defined and being set to 0.0 due to no true nor predicted samples. Use `zero_division` parameter to control this behavior.\n"
     ]
    },
    {
     "name": "stdout",
     "output_type": "stream",
     "text": [
      "43\n",
      "44\n",
      "45\n",
      "46\n"
     ]
    },
    {
     "name": "stderr",
     "output_type": "stream",
     "text": [
      "F-score is ill-defined and being set to 0.0 due to no true nor predicted samples. Use `zero_division` parameter to control this behavior.\n"
     ]
    },
    {
     "name": "stdout",
     "output_type": "stream",
     "text": [
      "47\n",
      "48\n"
     ]
    },
    {
     "name": "stderr",
     "output_type": "stream",
     "text": [
      "F-score is ill-defined and being set to 0.0 due to no true nor predicted samples. Use `zero_division` parameter to control this behavior.\n"
     ]
    },
    {
     "name": "stdout",
     "output_type": "stream",
     "text": [
      "49\n",
      "50\n"
     ]
    },
    {
     "name": "stderr",
     "output_type": "stream",
     "text": [
      "F-score is ill-defined and being set to 0.0 due to no true nor predicted samples. Use `zero_division` parameter to control this behavior.\n"
     ]
    },
    {
     "name": "stdout",
     "output_type": "stream",
     "text": [
      "51\n",
      "52\n",
      "53\n",
      "54\n",
      "55\n",
      "56\n",
      "57\n",
      "58\n",
      "59\n",
      "60\n",
      "61\n",
      "62\n",
      "63\n",
      "64\n",
      "65\n",
      "66\n",
      "67\n",
      "68\n",
      "69\n",
      "70\n",
      "71\n",
      "72\n",
      "73\n",
      "74\n",
      "75\n",
      "76\n",
      "77\n",
      "78\n",
      "79\n",
      "80\n",
      "81\n",
      "82\n",
      "83\n",
      "84\n",
      "85\n",
      "86\n",
      "87\n",
      "88\n",
      "89\n",
      "90\n",
      "91\n",
      "92\n",
      "93\n",
      "94\n",
      "95\n",
      "96\n"
     ]
    },
    {
     "name": "stderr",
     "output_type": "stream",
     "text": [
      "F-score is ill-defined and being set to 0.0 due to no true nor predicted samples. Use `zero_division` parameter to control this behavior.\n"
     ]
    },
    {
     "name": "stdout",
     "output_type": "stream",
     "text": [
      "97\n",
      "98\n",
      "99\n",
      "100\n",
      "101\n",
      "102\n",
      "103\n",
      "104\n",
      "105\n",
      "106\n",
      "107\n",
      "108\n",
      "109\n",
      "110\n",
      "111\n",
      "112\n",
      "113\n",
      "114\n",
      "115\n",
      "116\n",
      "117\n",
      "118\n",
      "119\n",
      "120\n"
     ]
    },
    {
     "name": "stderr",
     "output_type": "stream",
     "text": [
      "F-score is ill-defined and being set to 0.0 due to no true nor predicted samples. Use `zero_division` parameter to control this behavior.\n"
     ]
    },
    {
     "name": "stdout",
     "output_type": "stream",
     "text": [
      "121\n",
      "122\n",
      "123\n",
      "124\n",
      "125\n",
      "126\n",
      "127\n",
      "128\n",
      "129\n",
      "130\n",
      "131\n",
      "132\n"
     ]
    },
    {
     "name": "stderr",
     "output_type": "stream",
     "text": [
      "F-score is ill-defined and being set to 0.0 due to no true nor predicted samples. Use `zero_division` parameter to control this behavior.\n",
      "F-score is ill-defined and being set to 0.0 due to no true nor predicted samples. Use `zero_division` parameter to control this behavior.\n"
     ]
    },
    {
     "name": "stdout",
     "output_type": "stream",
     "text": [
      "133\n",
      "134\n",
      "135\n",
      "136\n"
     ]
    },
    {
     "name": "stderr",
     "output_type": "stream",
     "text": [
      "F-score is ill-defined and being set to 0.0 due to no true nor predicted samples. Use `zero_division` parameter to control this behavior.\n"
     ]
    },
    {
     "name": "stdout",
     "output_type": "stream",
     "text": [
      "137\n",
      "138\n",
      "139\n",
      "140\n",
      "141\n",
      "142\n",
      "143\n",
      "144\n",
      "145\n",
      "146\n",
      "147\n",
      "148\n",
      "149\n",
      "150\n"
     ]
    },
    {
     "name": "stderr",
     "output_type": "stream",
     "text": [
      "F-score is ill-defined and being set to 0.0 due to no true nor predicted samples. Use `zero_division` parameter to control this behavior.\n"
     ]
    },
    {
     "name": "stdout",
     "output_type": "stream",
     "text": [
      "151\n",
      "152\n",
      "153\n",
      "154\n",
      "155\n",
      "156\n"
     ]
    },
    {
     "name": "stderr",
     "output_type": "stream",
     "text": [
      "F-score is ill-defined and being set to 0.0 due to no true nor predicted samples. Use `zero_division` parameter to control this behavior.\n",
      "F-score is ill-defined and being set to 0.0 due to no true nor predicted samples. Use `zero_division` parameter to control this behavior.\n"
     ]
    },
    {
     "name": "stdout",
     "output_type": "stream",
     "text": [
      "157\n",
      "158\n",
      "159\n",
      "160\n",
      "161\n",
      "162\n",
      "163\n",
      "164\n",
      "165\n",
      "166\n",
      "167\n",
      "168\n",
      "169\n",
      "170\n",
      "171\n",
      "172\n",
      "173\n",
      "174\n",
      "175\n",
      "176\n",
      "177\n",
      "178\n",
      "179\n",
      "180\n"
     ]
    },
    {
     "name": "stderr",
     "output_type": "stream",
     "text": [
      "F-score is ill-defined and being set to 0.0 due to no true nor predicted samples. Use `zero_division` parameter to control this behavior.\n"
     ]
    },
    {
     "name": "stdout",
     "output_type": "stream",
     "text": [
      "181\n",
      "182\n",
      "183\n",
      "184\n",
      "185\n",
      "186\n",
      "187\n",
      "188\n"
     ]
    },
    {
     "name": "stderr",
     "output_type": "stream",
     "text": [
      "F-score is ill-defined and being set to 0.0 due to no true nor predicted samples. Use `zero_division` parameter to control this behavior.\n"
     ]
    },
    {
     "name": "stdout",
     "output_type": "stream",
     "text": [
      "189\n",
      "190\n"
     ]
    },
    {
     "name": "stderr",
     "output_type": "stream",
     "text": [
      "F-score is ill-defined and being set to 0.0 due to no true nor predicted samples. Use `zero_division` parameter to control this behavior.\n"
     ]
    },
    {
     "name": "stdout",
     "output_type": "stream",
     "text": [
      "191\n",
      "192\n"
     ]
    },
    {
     "name": "stderr",
     "output_type": "stream",
     "text": [
      "F-score is ill-defined and being set to 0.0 due to no true nor predicted samples. Use `zero_division` parameter to control this behavior.\n"
     ]
    },
    {
     "name": "stdout",
     "output_type": "stream",
     "text": [
      "193\n",
      "194\n"
     ]
    },
    {
     "name": "stderr",
     "output_type": "stream",
     "text": [
      "F-score is ill-defined and being set to 0.0 due to no true nor predicted samples. Use `zero_division` parameter to control this behavior.\n",
      "F-score is ill-defined and being set to 0.0 due to no true nor predicted samples. Use `zero_division` parameter to control this behavior.\n"
     ]
    },
    {
     "name": "stdout",
     "output_type": "stream",
     "text": [
      "195\n",
      "196\n"
     ]
    },
    {
     "name": "stderr",
     "output_type": "stream",
     "text": [
      "F-score is ill-defined and being set to 0.0 due to no true nor predicted samples. Use `zero_division` parameter to control this behavior.\n"
     ]
    },
    {
     "name": "stdout",
     "output_type": "stream",
     "text": [
      "197\n",
      "198\n"
     ]
    },
    {
     "name": "stderr",
     "output_type": "stream",
     "text": [
      "F-score is ill-defined and being set to 0.0 due to no true nor predicted samples. Use `zero_division` parameter to control this behavior.\n"
     ]
    },
    {
     "name": "stdout",
     "output_type": "stream",
     "text": [
      "199\n",
      "200\n",
      "201\n",
      "202\n",
      "203\n",
      "204\n",
      "205\n",
      "206\n",
      "207\n",
      "208\n",
      "209\n",
      "210\n",
      "211\n",
      "212\n",
      "213\n",
      "214\n",
      "215\n",
      "216\n",
      "217\n",
      "218\n",
      "219\n",
      "220\n",
      "221\n",
      "222\n"
     ]
    },
    {
     "name": "stderr",
     "output_type": "stream",
     "text": [
      "F-score is ill-defined and being set to 0.0 due to no true nor predicted samples. Use `zero_division` parameter to control this behavior.\n"
     ]
    },
    {
     "name": "stdout",
     "output_type": "stream",
     "text": [
      "223\n",
      "224\n",
      "225\n",
      "226\n",
      "227\n",
      "228\n",
      "229\n",
      "230\n",
      "231\n",
      "232\n"
     ]
    },
    {
     "name": "stderr",
     "output_type": "stream",
     "text": [
      "F-score is ill-defined and being set to 0.0 due to no true nor predicted samples. Use `zero_division` parameter to control this behavior.\n"
     ]
    },
    {
     "name": "stdout",
     "output_type": "stream",
     "text": [
      "233\n",
      "234\n",
      "235\n",
      "236\n"
     ]
    },
    {
     "name": "stderr",
     "output_type": "stream",
     "text": [
      "F-score is ill-defined and being set to 0.0 due to no true nor predicted samples. Use `zero_division` parameter to control this behavior.\n"
     ]
    },
    {
     "name": "stdout",
     "output_type": "stream",
     "text": [
      "237\n",
      "238\n",
      "239\n",
      "240\n",
      "241\n",
      "242\n",
      "243\n",
      "244\n"
     ]
    },
    {
     "name": "stderr",
     "output_type": "stream",
     "text": [
      "F-score is ill-defined and being set to 0.0 due to no true nor predicted samples. Use `zero_division` parameter to control this behavior.\n"
     ]
    },
    {
     "name": "stdout",
     "output_type": "stream",
     "text": [
      "245\n",
      "246\n"
     ]
    },
    {
     "name": "stderr",
     "output_type": "stream",
     "text": [
      "F-score is ill-defined and being set to 0.0 due to no true nor predicted samples. Use `zero_division` parameter to control this behavior.\n"
     ]
    },
    {
     "name": "stdout",
     "output_type": "stream",
     "text": [
      "247\n",
      "248\n",
      "249\n",
      "250\n",
      "251\n",
      "252\n"
     ]
    },
    {
     "name": "stderr",
     "output_type": "stream",
     "text": [
      "F-score is ill-defined and being set to 0.0 due to no true nor predicted samples. Use `zero_division` parameter to control this behavior.\n"
     ]
    }
   ],
   "source": [
    "wrong_pred_indices=[]\n",
    "d={}\n",
    "svm_estimator=svm.SVC(C= 12, gamma= 0.001, kernel= 'poly',probability=True, random_state=10)\n",
    "i=0\n",
    "\n",
    "correct_ones_=[]#collects correct pd postive predictions\n",
    "correct_zeros_=[]#collects correct pd negative predictions\n",
    "\n",
    "wrong_ones_=[]#collect wrong pd positive predictions\n",
    "wrong_zeros_=[]#collect wrong pd negative predictions\n",
    "\n",
    "tp=[]# true positive\n",
    "tn=[]# true negative\n",
    "fp=[]# false positive\n",
    "fn=[]# false negative\n",
    "\n",
    "tridx=[]\n",
    "tstidx=[]\n",
    "acc=[]\n",
    "mcc=[]\n",
    "f1=[]\n",
    "tsts=[]\n",
    "\n",
    "for trids, tstids in kfold.split(x_train):\n",
    "    \n",
    "    trainx, testx= x_train[trids,:], x_train[tstids,:]\n",
    "    trainy, testy= y_train[trids], y_train[tstids]\n",
    "    \n",
    "    #perform oversampling\n",
    "    #over_samp=ADASYN(sampling_strategy='all')#BorderlineSMOTE()\n",
    "    #trainx, trainy=over_samp.fit_resample(trainx, trainy)\n",
    "    #print(Counter(trainy))\n",
    "\n",
    "    ''''for i in range(0, len(trainx),3):\n",
    "        #print(type(x_train[i:i+3,:]))\n",
    "        if trainy[i]==0:\n",
    "            a=np.vstack((a,trainx[i:i+3,:]))\n",
    "            a=np.vstack((a,trainx[i:i+3,:]))\n",
    "            a=np.vstack((a,trainx[i:i+3,:]))\n",
    "    \n",
    "            for j in trainy[i:(i+3)]:\n",
    "                sampy.append(j)\n",
    "                sampy.append(j)\n",
    "                sampy.append(j)\n",
    "        else:\n",
    "            a=np.vstack((a,trainx[i:i+3,:]))\n",
    "            for j in trainy[i:(i+3)]:\n",
    "                sampy.append(j)\n",
    "    a=a[3:,:]\n",
    "    print(a.shape), print(np.array(sampy).shape)\n",
    "    \n",
    "    trainx=a\n",
    "    trainy=np.array(sampy)'''\n",
    "    \n",
    "\n",
    "    #trainx, trainy=oversampling_smote(trainx,trainy, xs=2)\n",
    "    over_samp=ADASYN(sampling_strategy='not minority', n_neighbors=4, )#\n",
    "    over_samp2=BorderlineSMOTE(sampling_strategy='not majority', m_neighbors=15)\n",
    "    trainx, trainy=over_samp.fit_resample(trainx, trainy)\n",
    "    #trainx, trainy=over_samp2.fit_resample(trainx, trainy)\n",
    "    \n",
    "    svm_estimator=svm.SVC(C= 10.5, gamma= 0.00152, tol=1e-3, kernel= 'rbf',probability=True, random_state=10)\n",
    "    \n",
    "    svm_estimator.fit(trainx, trainy)\n",
    "    \n",
    "    preds=svm_estimator.predict(x_train[tstids,:])\n",
    "    \n",
    "    acc.append(accuracy_score(testy,svm_estimator.predict(testx)))\n",
    "    #mcc.append(matthews_corrcoef(testy, svm_estimator.predict(testx)))\n",
    "    f1.append(f1_score(testy, svm_estimator.predict(testx)))\n",
    "    \n",
    "\n",
    "    i=i+1\n",
    "    print(i)\n",
    "#print('acc:', mean(acc))\n",
    "#print('f1:', mean(f1))\n",
    "#print('mcc:', mean(mcc))\n"
   ]
  },
  {
   "cell_type": "code",
   "execution_count": 381,
   "metadata": {
    "execution": {
     "iopub.execute_input": "2022-06-18T18:05:16.677066Z",
     "iopub.status.busy": "2022-06-18T18:05:16.676815Z",
     "iopub.status.idle": "2022-06-18T18:05:16.877685Z",
     "shell.execute_reply": "2022-06-18T18:05:16.876059Z",
     "shell.execute_reply.started": "2022-06-18T18:05:16.677033Z"
    }
   },
   "outputs": [
    {
     "name": "stdout",
     "output_type": "stream",
     "text": [
      "t: 0  original: 1.0  patient no:  0 correct prediction rate: 1.0\n",
      "t: 3  original: 1.0  patient no:  1 correct prediction rate: 1.0\n",
      "t: 6  original: 1.0  patient no:  2 correct prediction rate: 0.6666666666666666\n",
      "t: 9  original: 1.0  patient no:  3 correct prediction rate: 1.0\n",
      "t: 12  original: 1.0  patient no:  4 correct prediction rate: 1.0\n",
      "t: 15  original: 1.0  patient no:  5 correct prediction rate: 1.0\n",
      "t: 18  original: 1.0  patient no:  6 correct prediction rate: 1.0\n",
      "t: 21  original: 1.0  patient no:  7 correct prediction rate: 0.6666666666666666\n",
      "t: 24  original: 1.0  patient no:  8 correct prediction rate: 0.6666666666666666\n",
      "t: 27  original: 1.0  patient no:  9 correct prediction rate: 1.0\n",
      "t: 30  original: 1.0  patient no:  10 correct prediction rate: 1.0\n",
      "t: 33  original: 0.0  patient no:  11 correct prediction rate: 0.0\n",
      "t: 36  original: 1.0  patient no:  12 correct prediction rate: 1.0\n",
      "t: 39  original: 1.0  patient no:  13 correct prediction rate: 1.0\n",
      "t: 42  original: 0.0  patient no:  14 correct prediction rate: 0.0\n",
      "t: 45  original: 1.0  patient no:  15 correct prediction rate: 1.0\n",
      "t: 48  original: 1.0  patient no:  16 correct prediction rate: 1.0\n",
      "t: 51  original: 1.0  patient no:  17 correct prediction rate: 1.0\n",
      "t: 54  original: 1.0  patient no:  18 correct prediction rate: 1.0\n",
      "t: 57  original: 1.0  patient no:  19 correct prediction rate: 1.0\n",
      "t: 60  original: 1.0  patient no:  20 correct prediction rate: 1.0\n",
      "t: 63  original: 1.0  patient no:  21 correct prediction rate: 1.0\n",
      "t: 66  original: 1.0  patient no:  22 correct prediction rate: 1.0\n",
      "t: 69  original: 1.0  patient no:  23 correct prediction rate: 1.0\n",
      "t: 72  original: 0.0  patient no:  24 correct prediction rate: 0.3333333333333333\n",
      "t: 75  original: 1.0  patient no:  25 correct prediction rate: 1.0\n",
      "t: 78  original: 0.0  patient no:  26 correct prediction rate: 0.0\n",
      "t: 81  original: 0.0  patient no:  27 correct prediction rate: 0.0\n",
      "t: 84  original: 1.0  patient no:  28 correct prediction rate: 0.6666666666666666\n",
      "t: 87  original: 0.0  patient no:  29 correct prediction rate: 0.3333333333333333\n",
      "t: 90  original: 1.0  patient no:  30 correct prediction rate: 1.0\n",
      "t: 93  original: 1.0  patient no:  31 correct prediction rate: 1.0\n",
      "t: 96  original: 1.0  patient no:  32 correct prediction rate: 1.0\n",
      "t: 99  original: 0.0  patient no:  33 correct prediction rate: 0.6666666666666666\n",
      "t: 102  original: 0.0  patient no:  34 correct prediction rate: 0.3333333333333333\n",
      "t: 105  original: 1.0  patient no:  35 correct prediction rate: 1.0\n",
      "t: 108  original: 1.0  patient no:  36 correct prediction rate: 1.0\n",
      "t: 111  original: 1.0  patient no:  37 correct prediction rate: 1.0\n",
      "t: 114  original: 1.0  patient no:  38 correct prediction rate: 1.0\n",
      "t: 117  original: 1.0  patient no:  39 correct prediction rate: 1.0\n",
      "t: 120  original: 1.0  patient no:  40 correct prediction rate: 1.0\n",
      "t: 123  original: 0.0  patient no:  41 correct prediction rate: 1.0\n",
      "t: 126  original: 0.0  patient no:  42 correct prediction rate: 0.0\n",
      "t: 129  original: 1.0  patient no:  43 correct prediction rate: 1.0\n",
      "t: 132  original: 1.0  patient no:  44 correct prediction rate: 1.0\n",
      "t: 135  original: 0.0  patient no:  45 correct prediction rate: 1.0\n",
      "t: 138  original: 1.0  patient no:  46 correct prediction rate: 1.0\n",
      "t: 141  original: 0.0  patient no:  47 correct prediction rate: 1.0\n",
      "t: 144  original: 0.0  patient no:  48 correct prediction rate: 0.3333333333333333\n",
      "t: 147  original: 0.0  patient no:  49 correct prediction rate: 1.0\n",
      "t: 150  original: 1.0  patient no:  50 correct prediction rate: 1.0\n",
      "t: 153  original: 1.0  patient no:  51 correct prediction rate: 1.0\n",
      "t: 156  original: 1.0  patient no:  52 correct prediction rate: 1.0\n",
      "t: 159  original: 1.0  patient no:  53 correct prediction rate: 1.0\n",
      "t: 162  original: 1.0  patient no:  54 correct prediction rate: 1.0\n",
      "t: 165  original: 1.0  patient no:  55 correct prediction rate: 1.0\n",
      "t: 168  original: 1.0  patient no:  56 correct prediction rate: 1.0\n",
      "t: 171  original: 1.0  patient no:  57 correct prediction rate: 1.0\n",
      "t: 174  original: 1.0  patient no:  58 correct prediction rate: 1.0\n",
      "t: 177  original: 1.0  patient no:  59 correct prediction rate: 1.0\n",
      "t: 180  original: 1.0  patient no:  60 correct prediction rate: 0.6666666666666666\n",
      "t: 183  original: 1.0  patient no:  61 correct prediction rate: 1.0\n",
      "t: 186  original: 1.0  patient no:  62 correct prediction rate: 1.0\n",
      "t: 189  original: 1.0  patient no:  63 correct prediction rate: 1.0\n",
      "t: 192  original: 1.0  patient no:  64 correct prediction rate: 1.0\n",
      "t: 195  original: 0.0  patient no:  65 correct prediction rate: 0.0\n",
      "t: 198  original: 1.0  patient no:  66 correct prediction rate: 1.0\n",
      "t: 201  original: 1.0  patient no:  67 correct prediction rate: 0.6666666666666666\n",
      "t: 204  original: 1.0  patient no:  68 correct prediction rate: 0.6666666666666666\n",
      "t: 207  original: 0.0  patient no:  69 correct prediction rate: 0.6666666666666666\n",
      "t: 210  original: 1.0  patient no:  70 correct prediction rate: 1.0\n",
      "t: 213  original: 1.0  patient no:  71 correct prediction rate: 1.0\n",
      "t: 216  original: 1.0  patient no:  72 correct prediction rate: 1.0\n",
      "t: 219  original: 0.0  patient no:  73 correct prediction rate: 0.6666666666666666\n",
      "t: 222  original: 1.0  patient no:  74 correct prediction rate: 1.0\n",
      "t: 225  original: 0.0  patient no:  75 correct prediction rate: 0.0\n",
      "t: 228  original: 1.0  patient no:  76 correct prediction rate: 1.0\n",
      "t: 231  original: 1.0  patient no:  77 correct prediction rate: 1.0\n",
      "t: 234  original: 0.0  patient no:  78 correct prediction rate: 0.0\n",
      "t: 237  original: 1.0  patient no:  79 correct prediction rate: 1.0\n",
      "t: 240  original: 1.0  patient no:  80 correct prediction rate: 1.0\n",
      "t: 243  original: 1.0  patient no:  81 correct prediction rate: 0.0\n",
      "t: 246  original: 1.0  patient no:  82 correct prediction rate: 1.0\n",
      "t: 249  original: 0.0  patient no:  83 correct prediction rate: 0.0\n",
      "t: 252  original: 1.0  patient no:  84 correct prediction rate: 1.0\n",
      "t: 255  original: 1.0  patient no:  85 correct prediction rate: 1.0\n",
      "t: 258  original: 1.0  patient no:  86 correct prediction rate: 1.0\n",
      "t: 261  original: 1.0  patient no:  87 correct prediction rate: 1.0\n",
      "t: 264  original: 1.0  patient no:  88 correct prediction rate: 0.6666666666666666\n",
      "t: 267  original: 0.0  patient no:  89 correct prediction rate: 0.6666666666666666\n",
      "t: 270  original: 1.0  patient no:  90 correct prediction rate: 1.0\n",
      "t: 273  original: 1.0  patient no:  91 correct prediction rate: 1.0\n",
      "t: 276  original: 1.0  patient no:  92 correct prediction rate: 1.0\n",
      "t: 279  original: 1.0  patient no:  93 correct prediction rate: 1.0\n",
      "t: 282  original: 1.0  patient no:  94 correct prediction rate: 1.0\n",
      "t: 285  original: 1.0  patient no:  95 correct prediction rate: 1.0\n",
      "t: 288  original: 0.0  patient no:  96 correct prediction rate: 1.0\n",
      "t: 291  original: 1.0  patient no:  97 correct prediction rate: 1.0\n",
      "t: 294  original: 1.0  patient no:  98 correct prediction rate: 1.0\n",
      "t: 297  original: 1.0  patient no:  99 correct prediction rate: 1.0\n",
      "t: 300  original: 1.0  patient no:  100 correct prediction rate: 1.0\n",
      "t: 303  original: 1.0  patient no:  101 correct prediction rate: 1.0\n",
      "t: 306  original: 1.0  patient no:  102 correct prediction rate: 1.0\n",
      "t: 309  original: 0.0  patient no:  103 correct prediction rate: 0.6666666666666666\n",
      "t: 312  original: 1.0  patient no:  104 correct prediction rate: 1.0\n",
      "t: 315  original: 1.0  patient no:  105 correct prediction rate: 1.0\n",
      "t: 318  original: 1.0  patient no:  106 correct prediction rate: 1.0\n",
      "t: 321  original: 1.0  patient no:  107 correct prediction rate: 0.0\n",
      "t: 324  original: 1.0  patient no:  108 correct prediction rate: 1.0\n",
      "t: 327  original: 1.0  patient no:  109 correct prediction rate: 1.0\n",
      "t: 330  original: 1.0  patient no:  110 correct prediction rate: 1.0\n",
      "t: 333  original: 0.0  patient no:  111 correct prediction rate: 0.0\n",
      "t: 336  original: 1.0  patient no:  112 correct prediction rate: 1.0\n",
      "t: 339  original: 1.0  patient no:  113 correct prediction rate: 1.0\n",
      "t: 342  original: 1.0  patient no:  114 correct prediction rate: 1.0\n",
      "t: 345  original: 1.0  patient no:  115 correct prediction rate: 1.0\n",
      "t: 348  original: 1.0  patient no:  116 correct prediction rate: 1.0\n",
      "t: 351  original: 1.0  patient no:  117 correct prediction rate: 1.0\n",
      "t: 354  original: 1.0  patient no:  118 correct prediction rate: 1.0\n",
      "t: 357  original: 0.0  patient no:  119 correct prediction rate: 1.0\n",
      "t: 360  original: 1.0  patient no:  120 correct prediction rate: 1.0\n",
      "t: 363  original: 1.0  patient no:  121 correct prediction rate: 0.6666666666666666\n",
      "t: 366  original: 1.0  patient no:  122 correct prediction rate: 1.0\n",
      "t: 369  original: 0.0  patient no:  123 correct prediction rate: 0.6666666666666666\n",
      "t: 372  original: 1.0  patient no:  124 correct prediction rate: 1.0\n",
      "t: 375  original: 0.0  patient no:  125 correct prediction rate: 0.6666666666666666\n",
      "t: 378  original: 1.0  patient no:  126 correct prediction rate: 1.0\n",
      "t: 381  original: 1.0  patient no:  127 correct prediction rate: 1.0\n",
      "t: 384  original: 1.0  patient no:  128 correct prediction rate: 1.0\n",
      "t: 387  original: 1.0  patient no:  129 correct prediction rate: 1.0\n",
      "t: 390  original: 0.0  patient no:  130 correct prediction rate: 0.0\n",
      "t: 393  original: 0.0  patient no:  131 correct prediction rate: 1.0\n",
      "t: 396  original: 0.0  patient no:  132 correct prediction rate: 1.0\n",
      "t: 399  original: 1.0  patient no:  133 correct prediction rate: 0.6666666666666666\n",
      "t: 402  original: 1.0  patient no:  134 correct prediction rate: 1.0\n",
      "t: 405  original: 0.0  patient no:  135 correct prediction rate: 1.0\n",
      "t: 408  original: 0.0  patient no:  136 correct prediction rate: 0.0\n",
      "t: 411  original: 1.0  patient no:  137 correct prediction rate: 1.0\n",
      "t: 414  original: 1.0  patient no:  138 correct prediction rate: 1.0\n",
      "t: 417  original: 1.0  patient no:  139 correct prediction rate: 1.0\n",
      "t: 420  original: 1.0  patient no:  140 correct prediction rate: 1.0\n",
      "t: 423  original: 1.0  patient no:  141 correct prediction rate: 1.0\n",
      "t: 426  original: 1.0  patient no:  142 correct prediction rate: 1.0\n",
      "t: 429  original: 1.0  patient no:  143 correct prediction rate: 1.0\n",
      "t: 432  original: 1.0  patient no:  144 correct prediction rate: 0.6666666666666666\n",
      "t: 435  original: 1.0  patient no:  145 correct prediction rate: 1.0\n",
      "t: 438  original: 1.0  patient no:  146 correct prediction rate: 1.0\n",
      "t: 441  original: 1.0  patient no:  147 correct prediction rate: 0.3333333333333333\n",
      "t: 444  original: 1.0  patient no:  148 correct prediction rate: 1.0\n",
      "t: 447  original: 0.0  patient no:  149 correct prediction rate: 1.0\n",
      "t: 450  original: 1.0  patient no:  150 correct prediction rate: 1.0\n",
      "t: 453  original: 1.0  patient no:  151 correct prediction rate: 1.0\n",
      "t: 456  original: 1.0  patient no:  152 correct prediction rate: 1.0\n",
      "t: 459  original: 0.0  patient no:  153 correct prediction rate: 0.0\n",
      "t: 462  original: 1.0  patient no:  154 correct prediction rate: 0.6666666666666666\n",
      "t: 465  original: 1.0  patient no:  155 correct prediction rate: 1.0\n",
      "t: 468  original: 0.0  patient no:  156 correct prediction rate: 1.0\n",
      "t: 471  original: 0.0  patient no:  157 correct prediction rate: 1.0\n",
      "t: 474  original: 1.0  patient no:  158 correct prediction rate: 0.3333333333333333\n",
      "t: 477  original: 1.0  patient no:  159 correct prediction rate: 1.0\n",
      "t: 480  original: 1.0  patient no:  160 correct prediction rate: 1.0\n",
      "t: 483  original: 1.0  patient no:  161 correct prediction rate: 1.0\n",
      "t: 486  original: 1.0  patient no:  162 correct prediction rate: 1.0\n",
      "t: 489  original: 0.0  patient no:  163 correct prediction rate: 0.0\n",
      "t: 492  original: 1.0  patient no:  164 correct prediction rate: 1.0\n",
      "t: 495  original: 1.0  patient no:  165 correct prediction rate: 1.0\n",
      "t: 498  original: 1.0  patient no:  166 correct prediction rate: 1.0\n",
      "t: 501  original: 1.0  patient no:  167 correct prediction rate: 1.0\n",
      "t: 504  original: 1.0  patient no:  168 correct prediction rate: 1.0\n",
      "t: 507  original: 1.0  patient no:  169 correct prediction rate: 1.0\n",
      "t: 510  original: 1.0  patient no:  170 correct prediction rate: 1.0\n",
      "t: 513  original: 1.0  patient no:  171 correct prediction rate: 1.0\n"
     ]
    },
    {
     "name": "stdout",
     "output_type": "stream",
     "text": [
      "t: 516  original: 1.0  patient no:  172 correct prediction rate: 0.0\n",
      "t: 519  original: 0.0  patient no:  173 correct prediction rate: 0.3333333333333333\n",
      "t: 522  original: 1.0  patient no:  174 correct prediction rate: 1.0\n",
      "t: 525  original: 1.0  patient no:  175 correct prediction rate: 1.0\n",
      "t: 528  original: 1.0  patient no:  176 correct prediction rate: 1.0\n",
      "t: 531  original: 1.0  patient no:  177 correct prediction rate: 1.0\n",
      "t: 534  original: 0.0  patient no:  178 correct prediction rate: 0.6666666666666666\n",
      "t: 537  original: 1.0  patient no:  179 correct prediction rate: 1.0\n",
      "t: 540  original: 0.0  patient no:  180 correct prediction rate: 1.0\n",
      "t: 543  original: 1.0  patient no:  181 correct prediction rate: 1.0\n",
      "t: 546  original: 1.0  patient no:  182 correct prediction rate: 1.0\n",
      "t: 549  original: 1.0  patient no:  183 correct prediction rate: 1.0\n",
      "t: 552  original: 1.0  patient no:  184 correct prediction rate: 1.0\n",
      "t: 555  original: 1.0  patient no:  185 correct prediction rate: 1.0\n",
      "t: 558  original: 1.0  patient no:  186 correct prediction rate: 1.0\n",
      "t: 561  original: 0.0  patient no:  187 correct prediction rate: 1.0\n",
      "t: 564  original: 1.0  patient no:  188 correct prediction rate: 1.0\n",
      "t: 567  original: 0.0  patient no:  189 correct prediction rate: 1.0\n",
      "t: 570  original: 1.0  patient no:  190 correct prediction rate: 1.0\n",
      "t: 573  original: 1.0  patient no:  191 correct prediction rate: 1.0\n",
      "t: 576  original: 0.0  patient no:  192 correct prediction rate: 1.0\n",
      "t: 579  original: 1.0  patient no:  193 correct prediction rate: 1.0\n",
      "t: 582  original: 0.0  patient no:  194 correct prediction rate: 1.0\n",
      "t: 585  original: 0.0  patient no:  195 correct prediction rate: 1.0\n",
      "t: 588  original: 0.0  patient no:  196 correct prediction rate: 1.0\n",
      "t: 591  original: 1.0  patient no:  197 correct prediction rate: 0.3333333333333333\n",
      "t: 594  original: 0.0  patient no:  198 correct prediction rate: 1.0\n",
      "t: 597  original: 1.0  patient no:  199 correct prediction rate: 1.0\n",
      "t: 600  original: 1.0  patient no:  200 correct prediction rate: 1.0\n",
      "t: 603  original: 1.0  patient no:  201 correct prediction rate: 1.0\n",
      "t: 606  original: 1.0  patient no:  202 correct prediction rate: 1.0\n",
      "t: 609  original: 0.0  patient no:  203 correct prediction rate: 0.0\n",
      "t: 612  original: 1.0  patient no:  204 correct prediction rate: 1.0\n",
      "t: 615  original: 1.0  patient no:  205 correct prediction rate: 1.0\n",
      "t: 618  original: 1.0  patient no:  206 correct prediction rate: 1.0\n",
      "t: 621  original: 1.0  patient no:  207 correct prediction rate: 1.0\n",
      "t: 624  original: 1.0  patient no:  208 correct prediction rate: 1.0\n",
      "t: 627  original: 1.0  patient no:  209 correct prediction rate: 0.6666666666666666\n",
      "t: 630  original: 0.0  patient no:  210 correct prediction rate: 0.3333333333333333\n",
      "t: 633  original: 1.0  patient no:  211 correct prediction rate: 1.0\n",
      "t: 636  original: 1.0  patient no:  212 correct prediction rate: 1.0\n",
      "t: 639  original: 0.0  patient no:  213 correct prediction rate: 0.3333333333333333\n",
      "t: 642  original: 1.0  patient no:  214 correct prediction rate: 1.0\n",
      "t: 645  original: 1.0  patient no:  215 correct prediction rate: 1.0\n",
      "t: 648  original: 0.0  patient no:  216 correct prediction rate: 0.6666666666666666\n",
      "t: 651  original: 1.0  patient no:  217 correct prediction rate: 1.0\n",
      "t: 654  original: 1.0  patient no:  218 correct prediction rate: 1.0\n",
      "t: 657  original: 0.0  patient no:  219 correct prediction rate: 0.0\n",
      "t: 660  original: 1.0  patient no:  220 correct prediction rate: 1.0\n",
      "t: 663  original: 0.0  patient no:  221 correct prediction rate: 1.0\n",
      "t: 666  original: 0.0  patient no:  222 correct prediction rate: 0.0\n",
      "t: 669  original: 1.0  patient no:  223 correct prediction rate: 1.0\n",
      "t: 672  original: 1.0  patient no:  224 correct prediction rate: 1.0\n",
      "t: 675  original: 1.0  patient no:  225 correct prediction rate: 1.0\n",
      "t: 678  original: 1.0  patient no:  226 correct prediction rate: 1.0\n",
      "t: 681  original: 1.0  patient no:  227 correct prediction rate: 1.0\n",
      "t: 684  original: 1.0  patient no:  228 correct prediction rate: 1.0\n",
      "t: 687  original: 1.0  patient no:  229 correct prediction rate: 1.0\n",
      "t: 690  original: 1.0  patient no:  230 correct prediction rate: 1.0\n",
      "t: 693  original: 1.0  patient no:  231 correct prediction rate: 1.0\n",
      "t: 696  original: 0.0  patient no:  232 correct prediction rate: 1.0\n",
      "t: 699  original: 1.0  patient no:  233 correct prediction rate: 0.0\n",
      "t: 702  original: 0.0  patient no:  234 correct prediction rate: 0.6666666666666666\n",
      "t: 705  original: 0.0  patient no:  235 correct prediction rate: 1.0\n",
      "t: 708  original: 1.0  patient no:  236 correct prediction rate: 0.3333333333333333\n",
      "t: 711  original: 0.0  patient no:  237 correct prediction rate: 0.6666666666666666\n",
      "t: 714  original: 1.0  patient no:  238 correct prediction rate: 1.0\n",
      "t: 717  original: 1.0  patient no:  239 correct prediction rate: 1.0\n",
      "t: 720  original: 1.0  patient no:  240 correct prediction rate: 1.0\n",
      "t: 723  original: 1.0  patient no:  241 correct prediction rate: 0.3333333333333333\n",
      "t: 726  original: 0.0  patient no:  242 correct prediction rate: 0.0\n",
      "t: 729  original: 1.0  patient no:  243 correct prediction rate: 1.0\n",
      "t: 732  original: 0.0  patient no:  244 correct prediction rate: 1.0\n",
      "t: 735  original: 0.0  patient no:  245 correct prediction rate: 0.0\n",
      "t: 738  original: 0.0  patient no:  246 correct prediction rate: 1.0\n",
      "t: 741  original: 1.0  patient no:  247 correct prediction rate: 1.0\n",
      "t: 744  original: 1.0  patient no:  248 correct prediction rate: 1.0\n",
      "t: 747  original: 1.0  patient no:  249 correct prediction rate: 1.0\n",
      "t: 750  original: 0.0  patient no:  250 correct prediction rate: 1.0\n",
      "t: 753  original: 0.0  patient no:  251 correct prediction rate: 0.6666666666666666\n",
      "true positives:  179\n",
      "true negatives:  38\n",
      "fales positives:  26\n",
      "false negatives:  9\n"
     ]
    }
   ],
   "source": [
    "j=0\n",
    "tpids=[]\n",
    "tpc=0\n",
    "tnids=[]\n",
    "tnc=0\n",
    "fpids=[]\n",
    "fpc=0\n",
    "fnids=[]\n",
    "fnc=0\n",
    "\n",
    "#performing majority voting\n",
    "# if accurately predicted over 0.66 for 3 that means we predicted correctly for the whole sample\n",
    "\n",
    "for t in range(0,len(y_train),3):\n",
    "    print('t:',t,\" original:\", y_train[t],' patient no: ',j, 'correct prediction rate:',acc[j] )\n",
    "\n",
    "    \n",
    "    if y_train[t]==1 and acc[j]>0.5:\n",
    "        tpc=tpc+1\n",
    "        tpids.append(t)\n",
    "    if y_train[t]==1 and acc[j]<0.5:\n",
    "        fnc=fnc+1\n",
    "        fnids.append(t)\n",
    "    if y_train[t]==0 and acc[j]>0.5:\n",
    "        tnc=tnc+1\n",
    "        tnids.append(t)\n",
    "    if y_train[t]==0 and acc[j]<0.5:\n",
    "        fpc=fpc+1\n",
    "        fpids.append(t)\n",
    "    \n",
    "    j=j+1\n",
    "\n",
    "print(\"true positives: \", tpc)\n",
    "print(\"true negatives: \", tnc)\n",
    "print(\"fales positives: \", fpc)\n",
    "print(\"false negatives: \", fnc)"
   ]
  },
  {
   "cell_type": "code",
   "execution_count": 382,
   "metadata": {
    "execution": {
     "iopub.execute_input": "2022-06-18T18:05:16.880466Z",
     "iopub.status.busy": "2022-06-18T18:05:16.880167Z",
     "iopub.status.idle": "2022-06-18T18:05:16.918303Z",
     "shell.execute_reply": "2022-06-18T18:05:16.917366Z",
     "shell.execute_reply.started": "2022-06-18T18:05:16.880430Z"
    }
   },
   "outputs": [
    {
     "name": "stdout",
     "output_type": "stream",
     "text": [
      "f1 score: 0.910941475826972\n"
     ]
    }
   ],
   "source": [
    "f1=0\n",
    "f1=(tpc)/((tpc+0.5*(fpc+fnc)))\n",
    "print('f1 score:', f1)"
   ]
  },
  {
   "cell_type": "code",
   "execution_count": 383,
   "metadata": {
    "execution": {
     "iopub.execute_input": "2022-06-18T18:05:16.920180Z",
     "iopub.status.busy": "2022-06-18T18:05:16.919981Z",
     "iopub.status.idle": "2022-06-18T18:05:16.928316Z",
     "shell.execute_reply": "2022-06-18T18:05:16.927515Z",
     "shell.execute_reply.started": "2022-06-18T18:05:16.920156Z"
    }
   },
   "outputs": [
    {
     "name": "stdout",
     "output_type": "stream",
     "text": [
      "mcc:  0.6100119923689614\n",
      "precision:  0.8731707317073171\n",
      "recall:  0.9521276595744681\n",
      "accuracy:  0.8611111111111112\n"
     ]
    }
   ],
   "source": [
    "import math\n",
    "mcc=0\n",
    "\n",
    "mcc=(tpc*tnc-fpc*fnc)/math.sqrt((tpc+fpc)*(tpc+fnc)*(tnc+fpc)*(tnc+fnc))\n",
    "print('mcc: ',mcc)\n",
    "precision=tpc/(tpc+fpc)\n",
    "print('precision: ', precision)\n",
    "recall=tpc/(tpc+fnc)\n",
    "print('recall: ',recall)\n",
    "acc=(tpc+tnc)/(tpc+tnc+fpc+fnc)\n",
    "print('accuracy: ', acc)"
   ]
  },
  {
   "cell_type": "code",
   "execution_count": 384,
   "metadata": {
    "execution": {
     "iopub.execute_input": "2022-06-18T18:05:16.929499Z",
     "iopub.status.busy": "2022-06-18T18:05:16.929288Z",
     "iopub.status.idle": "2022-06-18T18:05:16.939006Z",
     "shell.execute_reply": "2022-06-18T18:05:16.938088Z",
     "shell.execute_reply.started": "2022-06-18T18:05:16.929474Z"
    }
   },
   "outputs": [
    {
     "data": {
      "text/plain": [
       "(179, 38, 26, 9)"
      ]
     },
     "execution_count": 384,
     "metadata": {},
     "output_type": "execute_result"
    }
   ],
   "source": [
    "tpc,tnc, fpc, fnc"
   ]
  },
  {
   "cell_type": "code",
   "execution_count": 359,
   "metadata": {
    "execution": {
     "iopub.status.busy": "2022-06-18T15:55:30.592569Z",
     "iopub.status.idle": "2022-06-18T15:55:30.593090Z",
     "shell.execute_reply": "2022-06-18T15:55:30.592927Z",
     "shell.execute_reply.started": "2022-06-18T15:55:30.592908Z"
    }
   },
   "outputs": [],
   "source": [
    "import lime\n",
    "import shap"
   ]
  },
  {
   "cell_type": "code",
   "execution_count": 323,
   "metadata": {
    "execution": {
     "iopub.execute_input": "2022-02-12T09:37:23.871289Z",
     "iopub.status.busy": "2022-02-12T09:37:23.870932Z",
     "iopub.status.idle": "2022-02-12T09:37:23.875471Z",
     "shell.execute_reply": "2022-02-12T09:37:23.874504Z",
     "shell.execute_reply.started": "2022-02-12T09:37:23.871255Z"
    }
   },
   "outputs": [],
   "source": [
    "#would have to do lime and shape later"
   ]
  },
  {
   "cell_type": "code",
   "execution_count": 324,
   "metadata": {
    "execution": {
     "iopub.execute_input": "2022-06-18T11:54:01.758389Z",
     "iopub.status.busy": "2022-06-18T11:54:01.758101Z",
     "iopub.status.idle": "2022-06-18T11:54:01.764377Z",
     "shell.execute_reply": "2022-06-18T11:54:01.763567Z",
     "shell.execute_reply.started": "2022-06-18T11:54:01.758362Z"
    }
   },
   "outputs": [
    {
     "name": "stdout",
     "output_type": "stream",
     "text": [
      "Counter({1.0: 564, 0.0: 189})\n"
     ]
    }
   ],
   "source": [
    "print(Counter(trainy))"
   ]
  },
  {
   "cell_type": "code",
   "execution_count": null,
   "metadata": {},
   "outputs": [],
   "source": []
  },
  {
   "cell_type": "markdown",
   "metadata": {},
   "source": [
    "wrong_pred_indices=[]\n",
    "d={}\n",
    "svm_estimator=svm.SVC(C= 12, gamma= 0.001, kernel= 'poly',probability=True, random_state=10)\n",
    "i=0\n",
    "\n",
    "correct_ones_=[]#collects correct pd postive predictions\n",
    "correct_zeros_=[]#collects correct pd negative predictions\n",
    "\n",
    "wrong_ones_=[]#collect wrong pd positive predictions\n",
    "wrong_zeros_=[]#collect wrong pd negative predictions\n",
    "\n",
    "tp=[]# true positive\n",
    "tn=[]# true negative\n",
    "fp=[]# false positive\n",
    "fn=[]# false negative\n",
    "\n",
    "tridx=[]\n",
    "tstidx=[]\n",
    "acc=[]\n",
    "mcc=[]\n",
    "f1=[]\n",
    "tsts=[]\n",
    "\n",
    "for trids, tstids in kfold.split(x_train):\n",
    "    \n",
    "    trainx, testx= x_train[trids,:], x_train[tstids,:]\n",
    "    trainy, testy= y_train[trids], y_train[tstids]\n",
    "    \n",
    "    #perform oversampling\n",
    "    #over_samp=ADASYN(sampling_strategy='all')#BorderlineSMOTE()\n",
    "    #trainx, trainy=over_samp.fit_resample(trainx, trainy)\n",
    "    #print(Counter(trainy))\n",
    "\n",
    "    ''''for i in range(0, len(trainx),3):\n",
    "        #print(type(x_train[i:i+3,:]))\n",
    "        if trainy[i]==0:\n",
    "            a=np.vstack((a,trainx[i:i+3,:]))\n",
    "            a=np.vstack((a,trainx[i:i+3,:]))\n",
    "            a=np.vstack((a,trainx[i:i+3,:]))\n",
    "    \n",
    "            for j in trainy[i:(i+3)]:\n",
    "                sampy.append(j)\n",
    "                sampy.append(j)\n",
    "                sampy.append(j)\n",
    "        else:\n",
    "            a=np.vstack((a,trainx[i:i+3,:]))\n",
    "            for j in trainy[i:(i+3)]:\n",
    "                sampy.append(j)\n",
    "    a=a[3:,:]\n",
    "    print(a.shape), print(np.array(sampy).shape)\n",
    "    \n",
    "    trainx=a\n",
    "    trainy=np.array(sampy)'''\n",
    "    \n",
    "\n",
    "    #trainx, trainy=oversampling_smote(trainx,trainy, xs=2)\n",
    "    over_samp=ADASYN(sampling_strategy='not minority', n_neighbors=3, )#\n",
    "    over_samp2=BorderlineSMOTE(sampling_strategy='not majority', m_neighbors=15)\n",
    "    trainx, trainy=over_samp.fit_resample(trainx, trainy)\n",
    "    #trainx, trainy=over_samp2.fit_resample(trainx, trainy)\n",
    "    \n",
    "    svm_estimator=svm.SVC(C= 10.5, gamma= 0.00152, tol=1e-3, kernel= 'rbf',probability=True, random_state=10)\n",
    "    \n",
    "    svm_estimator.fit(trainx, trainy)\n",
    "    \n",
    "    preds=svm_estimator.predict(x_train[tstids,:])\n",
    "    \n",
    "    acc.append(accuracy_score(testy,svm_estimator.predict(testx)))\n",
    "    #mcc.append(matthews_corrcoef(testy, svm_estimator.predict(testx)))\n",
    "    f1.append(f1_score(testy, svm_estimator.predict(testx)))\n",
    "    \n",
    "\n",
    "    i=i+1\n",
    "    print(i)\n",
    "#print('acc:', mean(acc))\n",
    "#print('f1:', mean(f1))\n",
    "#print('mcc:', mean(mcc))\n"
   ]
  },
  {
   "cell_type": "code",
   "execution_count": null,
   "metadata": {},
   "outputs": [],
   "source": []
  }
 ],
 "metadata": {
  "kernelspec": {
   "display_name": "Python 3 (ipykernel)",
   "language": "python",
   "name": "python3"
  },
  "language_info": {
   "codemirror_mode": {
    "name": "ipython",
    "version": 3
   },
   "file_extension": ".py",
   "mimetype": "text/x-python",
   "name": "python",
   "nbconvert_exporter": "python",
   "pygments_lexer": "ipython3",
   "version": "3.9.7"
  }
 },
 "nbformat": 4,
 "nbformat_minor": 4
}
