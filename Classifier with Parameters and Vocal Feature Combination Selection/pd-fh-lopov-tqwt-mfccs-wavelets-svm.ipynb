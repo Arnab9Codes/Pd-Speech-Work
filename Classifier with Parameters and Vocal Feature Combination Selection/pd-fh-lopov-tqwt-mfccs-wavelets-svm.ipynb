{
 "cells": [
  {
   "cell_type": "code",
   "execution_count": 1,
   "id": "12c2b4c2",
   "metadata": {
    "_cell_guid": "b1076dfc-b9ad-4769-8c92-a6c4dae69d19",
    "_uuid": "8f2839f25d086af736a60e9eeb907d3b93b6e0e5",
    "execution": {
     "iopub.execute_input": "2022-02-13T10:09:09.085857Z",
     "iopub.status.busy": "2022-02-13T10:09:09.084813Z",
     "iopub.status.idle": "2022-02-13T10:09:09.120564Z",
     "shell.execute_reply": "2022-02-13T10:09:09.119079Z",
     "shell.execute_reply.started": "2022-02-13T09:22:16.044839Z"
    },
    "papermill": {
     "duration": 0.065267,
     "end_time": "2022-02-13T10:09:09.120854",
     "exception": false,
     "start_time": "2022-02-13T10:09:09.055587",
     "status": "completed"
    },
    "tags": []
   },
   "outputs": [
    {
     "name": "stdout",
     "output_type": "stream",
     "text": [
      "/kaggle/input/pd-datas/trinary_datasets_only/tqwt_mfccs_concat.csv\n",
      "/kaggle/input/pd-datas/trinary_datasets_only/mfccs_wavelet_concat.csv\n",
      "/kaggle/input/pd-datas/trinary_datasets_only/tqwt_mfccs_wavelet.csv\n",
      "/kaggle/input/pd-datas/trinary_datasets_only/tqwt_wavelet_concat.csv\n",
      "/kaggle/input/pd-datas/binary_datasets_only/tqwt_concat.csv\n",
      "/kaggle/input/pd-datas/binary_datasets_only/mfccs_wavelet.csv\n",
      "/kaggle/input/pd-datas/binary_datasets_only/tqwt_mfccs.csv\n",
      "/kaggle/input/pd-datas/binary_datasets_only/concat_wavelet.csv\n",
      "/kaggle/input/pd-datas/binary_datasets_only/mfccs_concat.csv\n",
      "/kaggle/input/pd-datas/binary_datasets_only/tqwt_wavelet.csv\n",
      "/kaggle/input/pd-datas/trinary_feature_FH/tqwt_wavelet_concat_FH.csv\n",
      "/kaggle/input/pd-datas/trinary_feature_FH/tqwt_mfccs_wavelet_FH.csv\n",
      "/kaggle/input/pd-datas/trinary_feature_FH/tqwt_mfccs_concat_FH.csv\n",
      "/kaggle/input/pd-datas/trinary_feature_FH/mfccs_wavelet_concat_FH.csv\n",
      "/kaggle/input/pd-datas/binary_feature_set_FH/mfccs_wavelet_FH.csv\n",
      "/kaggle/input/pd-datas/binary_feature_set_FH/concat_wavelet_FH.csv\n",
      "/kaggle/input/pd-datas/binary_feature_set_FH/tqwt_wavelet_FH.csv\n",
      "/kaggle/input/pd-datas/binary_feature_set_FH/tqwt_concat_FH.csv\n",
      "/kaggle/input/pd-datas/binary_feature_set_FH/mfccs_concat_FH.csv\n",
      "/kaggle/input/pd-datas/binary_feature_set_FH/tqwt_mfccs_FH.csv\n",
      "/kaggle/input/pd-datas/data/gender_class_FH_corrected.csv\n",
      "/kaggle/input/pd-datas/data/gender_FG_v2.csv\n"
     ]
    }
   ],
   "source": [
    "# This Python 3 environment comes with many helpful analytics libraries installed\n",
    "# It is defined by the kaggle/python Docker image: https://github.com/kaggle/docker-python\n",
    "# For example, here's several helpful packages to load\n",
    "\n",
    "import numpy as np # linear algebra\n",
    "import pandas as pd # data processing, CSV file I/O (e.g. pd.read_csv)\n",
    "\n",
    "# Input data files are available in the read-only \"../input/\" directory\n",
    "# For example, running this (by clicking run or pressing Shift+Enter) will list all files under the input directory\n",
    "\n",
    "import os\n",
    "for dirname, _, filenames in os.walk('/kaggle/input'):\n",
    "    for filename in filenames:\n",
    "        print(os.path.join(dirname, filename))\n",
    "\n",
    "# You can write up to 20GB to the current directory (/kaggle/working/) that gets preserved as output when you create a version using \"Save & Run All\" \n",
    "# You can also write temporary files to /kaggle/temp/, but they won't be saved outside of the current session"
   ]
  },
  {
   "cell_type": "code",
   "execution_count": 2,
   "id": "4ab584e3",
   "metadata": {
    "execution": {
     "iopub.execute_input": "2022-02-13T10:09:09.161168Z",
     "iopub.status.busy": "2022-02-13T10:09:09.160413Z",
     "iopub.status.idle": "2022-02-13T10:09:10.631867Z",
     "shell.execute_reply": "2022-02-13T10:09:10.630780Z",
     "shell.execute_reply.started": "2022-02-13T09:22:17.66037Z"
    },
    "papermill": {
     "duration": 1.492469,
     "end_time": "2022-02-13T10:09:10.632089",
     "exception": false,
     "start_time": "2022-02-13T10:09:09.139620",
     "status": "completed"
    },
    "tags": []
   },
   "outputs": [],
   "source": [
    "## Initial Imports\n",
    "\n",
    "%matplotlib inline\n",
    "\n",
    "import pandas as pd \n",
    "import numpy as np \n",
    "import matplotlib.pyplot as plt\n",
    "import seaborn as sns\n",
    "import random\n",
    "from tqdm import tqdm_notebook as tqdm\n",
    "from sklearn.model_selection import LeaveOneOut, GridSearchCV, KFold, train_test_split\n",
    "from sklearn import svm\n",
    "from sklearn.metrics import accuracy_score, f1_score, classification_report, matthews_corrcoef, roc_auc_score\n",
    "from statistics import mean"
   ]
  },
  {
   "cell_type": "code",
   "execution_count": 3,
   "id": "8a582c75",
   "metadata": {
    "execution": {
     "iopub.execute_input": "2022-02-13T10:09:10.672424Z",
     "iopub.status.busy": "2022-02-13T10:09:10.671320Z",
     "iopub.status.idle": "2022-02-13T10:09:10.743284Z",
     "shell.execute_reply": "2022-02-13T10:09:10.743816Z",
     "shell.execute_reply.started": "2022-02-13T06:50:17.477869Z"
    },
    "papermill": {
     "duration": 0.093523,
     "end_time": "2022-02-13T10:09:10.744047",
     "exception": false,
     "start_time": "2022-02-13T10:09:10.650524",
     "status": "completed"
    },
    "tags": []
   },
   "outputs": [
    {
     "name": "stdout",
     "output_type": "stream",
     "text": [
      "   tqwt_maxValue_dec_14  tqwt_entropy_log_dec_33  tqwt_meanValue_dec_17  \\\n",
      "0              0.105750               -4540.0830           9.600000e-20   \n",
      "1              0.121580               -4466.8949          -1.180000e-19   \n",
      "2              0.081818               -4455.2826          -7.420000e-20   \n",
      "3              0.567740               -2779.8086          -1.070000e-19   \n",
      "4              0.567490               -2910.9996           1.310000e-19   \n",
      "\n",
      "   tqwt_meanValue_dec_27  tqwt_entropy_log_dec_35  tqwt_entropy_log_dec_10  \\\n",
      "0           1.840000e-18               -3190.1752             -281439.2690   \n",
      "1          -4.270000e-18               -3106.4317             -285733.2255   \n",
      "2          -2.120000e-18               -3082.5691             -305145.0185   \n",
      "3           5.940000e-19               -1965.3808             -287896.7686   \n",
      "4           1.280000e-19               -2102.3852             -279129.6866   \n",
      "\n",
      "   tqwt_meanValue_dec_3  tqwt_entropy_log_dec_28  tqwt_meanValue_dec_6  \\\n",
      "0          1.700000e-22               -3160.3491         -2.860000e-21   \n",
      "1         -1.190000e-21               -3212.9726          3.080000e-21   \n",
      "2         -3.290000e-22               -3724.5248          3.100000e-21   \n",
      "3         -1.120000e-20               -4965.0071         -1.410000e-20   \n",
      "4         -2.460000e-21               -5832.5871          3.670000e-21   \n",
      "\n",
      "   tqwt_meanValue_dec_34  ...  det_LT_entropy_log_9_coef  \\\n",
      "0           7.960000e-20  ...                  -175.6679   \n",
      "1           2.430000e-20  ...                  -177.7185   \n",
      "2           3.030000e-20  ...                  -203.4729   \n",
      "3           2.430000e-20  ...                   -53.0037   \n",
      "4           1.880000e-19  ...                   -34.3376   \n",
      "\n",
      "   app_entropy_log_6_coef  std_11th_delta_delta  \\\n",
      "0                234.6861              0.010043   \n",
      "1                233.8954              0.015488   \n",
      "2                233.4170              0.015073   \n",
      "3                229.4475              0.013770   \n",
      "4                231.7202              0.013402   \n",
      "\n",
      "   app_LT_entropy_shannon_10_coef  std_10th_delta  app_entropy_log_9_coef  \\\n",
      "0                    -3601122.613        0.035775                238.2690   \n",
      "1                    -3563560.603        0.030383                237.5807   \n",
      "2                    -3539902.400        0.031811                237.1451   \n",
      "3                    -3271399.011        0.032300                233.0128   \n",
      "4                    -3367165.736        0.028222                234.5705   \n",
      "\n",
      "   app_LT_entropy_shannon_4_coef  std_6th_delta_delta  \\\n",
      "0                    -57264.6625             0.014642   \n",
      "1                    -56599.2563             0.025500   \n",
      "2                    -56258.4752             0.024607   \n",
      "3                    -54370.9290             0.017274   \n",
      "4                    -57514.4436             0.013791   \n",
      "\n",
      "   det_entropy_log_10_coef  class  \n",
      "0                 -18.7456    1.0  \n",
      "1                 -22.4413    1.0  \n",
      "2                 -39.3774    1.0  \n",
      "3                 109.5148    1.0  \n",
      "4                 138.1052    1.0  \n",
      "\n",
      "[5 rows x 122 columns]\n",
      "['tqwt_maxValue_dec_14', 'tqwt_entropy_log_dec_33', 'tqwt_meanValue_dec_17', 'tqwt_meanValue_dec_27', 'tqwt_entropy_log_dec_35', 'tqwt_entropy_log_dec_10', 'tqwt_meanValue_dec_3', 'tqwt_entropy_log_dec_28', 'tqwt_meanValue_dec_6', 'tqwt_meanValue_dec_34', 'tqwt_meanValue_dec_31', 'tqwt_skewnessValue_dec_36', 'tqwt_meanValue_dec_20', 'tqwt_meanValue_dec_26', 'tqwt_entropy_log_dec_13', 'tqwt_meanValue_dec_15', 'tqwt_entropy_log_dec_34', 'tqwt_meanValue_dec_10', 'tqwt_meanValue_dec_9', 'tqwt_minValue_dec_16', 'tqwt_maxValue_dec_16', 'tqwt_entropy_log_dec_26', 'tqwt_entropy_log_dec_30', 'tqwt_meanValue_dec_33', 'tqwt_entropy_log_dec_32', 'tqwt_meanValue_dec_28', 'tqwt_entropy_shannon_dec_16', 'tqwt_energy_dec_17', 'tqwt_meanValue_dec_16', 'tqwt_meanValue_dec_21', 'tqwt_maxValue_dec_17', 'tqwt_meanValue_dec_11', 'tqwt_meanValue_dec_23', 'tqwt_meanValue_dec_13', 'tqwt_entropy_shannon_dec_22', 'tqwt_entropy_shannon_dec_21', 'tqwt_entropy_log_dec_31', 'tqwt_meanValue_dec_12', 'tqwt_skewnessValue_dec_35', 'tqwt_meanValue_dec_1', 'tqwt_meanValue_dec_32', 'tqwt_energy_dec_18', 'tqwt_meanValue_dec_24', 'tqwt_entropy_log_dec_14', 'tqwt_maxValue_dec_18', 'tqwt_minValue_dec_14', 'tqwt_minValue_dec_18', 'tqwt_stdValue_dec_16', 'tqwt_meanValue_dec_29', 'tqwt_meanValue_dec_19', 'tqwt_meanValue_dec_14', 'tqwt_meanValue_dec_25', 'tqwt_meanValue_dec_18', 'tqwt_kurtosisValue_dec_36', 'tqwt_stdValue_dec_15', 'tqwt_meanValue_dec_35', 'tqwt_stdValue_dec_17', 'tqwt_meanValue_dec_2', 'tqwt_maxValue_dec_15', 'tqwt_entropy_shannon_dec_15', 'tqwt_meanValue_dec_22', 'tqwt_entropy_shannon_dec_20', 'tqwt_entropy_log_dec_11', 'tqwt_entropy_log_dec_12', 'tqwt_meanValue_dec_5', 'tqwt_meanValue_dec_4', 'tqwt_minValue_dec_15', 'tqwt_meanValue_dec_30', 'tqwt_meanValue_dec_7', 'tqwt_meanValue_dec_8', 'std_MFCC_10th_coef', 'mean_8th_delta_delta', 'mean_MFCC_5th_coef', 'mean_MFCC_7th_coef', 'VFER_NSR_SEO', 'GNE_SNR_SEO', 'mean_MFCC_10th_coef', 'mean_MFCC_6th_coef', 'mean_MFCC_8th_coef', 'IMF_NSR_entropy', 'VFER_NSR_TKEO', 'mean_MFCC_4th_coef', 'mean_MFCC_1st_coef', 'mean_MFCC_3rd_coef', 'mean_MFCC_9th_coef', 'mean_MFCC_2nd_coef', 'mean_12th_delta_delta', 'mean_MFCC_12th_coef', 'std_MFCC_9th_coef', 'mean_MFCC_11th_coef', 'mean_11th_delta', 'std_12th_delta_delta', 'std_9th_delta', 'std_8th_delta', 'app_LT_entropy_log_8_coef', 'app_LT_entropy_shannon_2_coef', 'std_12th_delta', 'det_LT_entropy_log_10_coef', 'std_10th_delta_delta', 'app_LT_entropy_shannon_3_coef', 'app_LT_entropy_shannon_8_coef', 'det_entropy_log_9_coef', 'app_entropy_log_10_coef', 'std_8th_delta_delta', 'std_9th_delta_delta', 'app_entropy_log_8_coef', 'app_LT_entropy_shannon_5_coef', 'app_LT_entropy_shannon_6_coef', 'app_LT_entropy_shannon_7_coef', 'det_entropy_log_8_coef', 'app_entropy_log_7_coef', 'app_LT_entropy_shannon_9_coef', 'det_LT_entropy_log_9_coef', 'app_entropy_log_6_coef', 'std_11th_delta_delta', 'app_LT_entropy_shannon_10_coef', 'std_10th_delta', 'app_entropy_log_9_coef', 'app_LT_entropy_shannon_4_coef', 'std_6th_delta_delta', 'det_entropy_log_10_coef', 'class']\n"
     ]
    }
   ],
   "source": [
    "pdh = pd.read_csv(r'/kaggle/input/pd-datas/trinary_feature_FH/tqwt_mfccs_wavelet_FH.csv')\n",
    "\n",
    "print(pdh.head())\n",
    "#print('The shape of the matrix is :', pdh.shape)\n",
    "print(list(pdh.columns))"
   ]
  },
  {
   "cell_type": "code",
   "execution_count": 4,
   "id": "1cb2671f",
   "metadata": {
    "execution": {
     "iopub.execute_input": "2022-02-13T10:09:10.785271Z",
     "iopub.status.busy": "2022-02-13T10:09:10.784522Z",
     "iopub.status.idle": "2022-02-13T10:09:10.788897Z",
     "shell.execute_reply": "2022-02-13T10:09:10.789506Z",
     "shell.execute_reply.started": "2022-02-13T06:50:38.560777Z"
    },
    "papermill": {
     "duration": 0.027541,
     "end_time": "2022-02-13T10:09:10.789708",
     "exception": false,
     "start_time": "2022-02-13T10:09:10.762167",
     "status": "completed"
    },
    "tags": []
   },
   "outputs": [],
   "source": [
    "df=pdh\n",
    "train_df=df.values\n",
    "x_train=train_df[:,:-1]\n",
    "y_train=train_df[:,-1]"
   ]
  },
  {
   "cell_type": "code",
   "execution_count": 5,
   "id": "dc87b7be",
   "metadata": {
    "execution": {
     "iopub.execute_input": "2022-02-13T10:09:10.830356Z",
     "iopub.status.busy": "2022-02-13T10:09:10.829579Z",
     "iopub.status.idle": "2022-02-13T10:09:10.836940Z",
     "shell.execute_reply": "2022-02-13T10:09:10.836271Z",
     "shell.execute_reply.started": "2022-02-13T06:50:42.113794Z"
    },
    "papermill": {
     "duration": 0.028556,
     "end_time": "2022-02-13T10:09:10.837114",
     "exception": false,
     "start_time": "2022-02-13T10:09:10.808558",
     "status": "completed"
    },
    "tags": []
   },
   "outputs": [],
   "source": [
    "from sklearn.preprocessing import StandardScaler\n",
    "sc = StandardScaler()\n",
    "x_train= sc.fit_transform(x_train)\n",
    "#newly added\n",
    "kfold=KFold(252, shuffle=False)#random_state=10"
   ]
  },
  {
   "cell_type": "code",
   "execution_count": 6,
   "id": "fa4724e3",
   "metadata": {
    "execution": {
     "iopub.execute_input": "2022-02-13T10:09:10.877168Z",
     "iopub.status.busy": "2022-02-13T10:09:10.876452Z",
     "iopub.status.idle": "2022-02-13T10:09:10.882759Z",
     "shell.execute_reply": "2022-02-13T10:09:10.883349Z",
     "shell.execute_reply.started": "2022-02-13T06:52:10.938966Z"
    },
    "papermill": {
     "duration": 0.028355,
     "end_time": "2022-02-13T10:09:10.883528",
     "exception": false,
     "start_time": "2022-02-13T10:09:10.855173",
     "status": "completed"
    },
    "tags": []
   },
   "outputs": [],
   "source": [
    "def svm_model(X,y, kfold):\n",
    "    params={'C':[0.1, 1, 10, 100,], 'gamma':[ 0.1, 0.01, 0.001, 0.0001], 'kernel':['rbf']}\n",
    "\n",
    "    grid=GridSearchCV(svm.SVC(probability=True, random_state=10),params,cv=kfold, refit=True, verbose=1)\n",
    "    grid.fit(X,y)\n",
    "    \n",
    "    return grid"
   ]
  },
  {
   "cell_type": "code",
   "execution_count": 7,
   "id": "ff72b43e",
   "metadata": {
    "execution": {
     "iopub.execute_input": "2022-02-13T10:09:10.925427Z",
     "iopub.status.busy": "2022-02-13T10:09:10.924776Z",
     "iopub.status.idle": "2022-02-13T10:36:08.673589Z",
     "shell.execute_reply": "2022-02-13T10:36:08.672921Z",
     "shell.execute_reply.started": "2022-02-13T06:53:21.703522Z"
    },
    "papermill": {
     "duration": 1617.772412,
     "end_time": "2022-02-13T10:36:08.673739",
     "exception": false,
     "start_time": "2022-02-13T10:09:10.901327",
     "status": "completed"
    },
    "tags": []
   },
   "outputs": [
    {
     "name": "stdout",
     "output_type": "stream",
     "text": [
      "Fitting 252 folds for each of 16 candidates, totalling 4032 fits\n"
     ]
    },
    {
     "name": "stderr",
     "output_type": "stream",
     "text": [
      "[Parallel(n_jobs=1)]: Using backend SequentialBackend with 1 concurrent workers.\n",
      "[Parallel(n_jobs=1)]: Done 4032 out of 4032 | elapsed: 27.0min finished\n"
     ]
    }
   ],
   "source": [
    "grid=svm_model(x_train, y_train,kfold)"
   ]
  },
  {
   "cell_type": "code",
   "execution_count": 8,
   "id": "89f69a42",
   "metadata": {
    "execution": {
     "iopub.execute_input": "2022-02-13T10:36:08.718928Z",
     "iopub.status.busy": "2022-02-13T10:36:08.718278Z",
     "iopub.status.idle": "2022-02-13T10:36:08.723395Z",
     "shell.execute_reply": "2022-02-13T10:36:08.722807Z",
     "shell.execute_reply.started": "2022-02-13T07:22:31.917867Z"
    },
    "papermill": {
     "duration": 0.029856,
     "end_time": "2022-02-13T10:36:08.723539",
     "exception": false,
     "start_time": "2022-02-13T10:36:08.693683",
     "status": "completed"
    },
    "tags": []
   },
   "outputs": [
    {
     "name": "stdout",
     "output_type": "stream",
     "text": [
      "{'C': 10, 'gamma': 0.001, 'kernel': 'rbf'}\n",
      "0.8544973544973544\n"
     ]
    }
   ],
   "source": [
    "from statistics import mean\n",
    "print(grid.best_params_)\n",
    "print(grid.best_score_)"
   ]
  },
  {
   "cell_type": "code",
   "execution_count": 9,
   "id": "41e4fcfe",
   "metadata": {
    "execution": {
     "iopub.execute_input": "2022-02-13T10:36:08.767022Z",
     "iopub.status.busy": "2022-02-13T10:36:08.766158Z",
     "iopub.status.idle": "2022-02-13T10:37:17.900097Z",
     "shell.execute_reply": "2022-02-13T10:37:17.899510Z",
     "shell.execute_reply.started": "2022-02-13T07:22:45.154836Z"
    },
    "papermill": {
     "duration": 69.157186,
     "end_time": "2022-02-13T10:37:17.900276",
     "exception": false,
     "start_time": "2022-02-13T10:36:08.743090",
     "status": "completed"
    },
    "tags": []
   },
   "outputs": [
    {
     "name": "stderr",
     "output_type": "stream",
     "text": [
      "/opt/conda/lib/python3.7/site-packages/sklearn/metrics/_classification.py:1465: UndefinedMetricWarning: F-score is ill-defined and being set to 0.0 due to no true nor predicted samples. Use `zero_division` parameter to control this behavior.\n",
      "  average, \"true nor predicted\", 'F-score is', len(true_sum)\n",
      "/opt/conda/lib/python3.7/site-packages/sklearn/metrics/_classification.py:1465: UndefinedMetricWarning: F-score is ill-defined and being set to 0.0 due to no true nor predicted samples. Use `zero_division` parameter to control this behavior.\n",
      "  average, \"true nor predicted\", 'F-score is', len(true_sum)\n",
      "/opt/conda/lib/python3.7/site-packages/sklearn/metrics/_classification.py:1465: UndefinedMetricWarning: F-score is ill-defined and being set to 0.0 due to no true nor predicted samples. Use `zero_division` parameter to control this behavior.\n",
      "  average, \"true nor predicted\", 'F-score is', len(true_sum)\n",
      "/opt/conda/lib/python3.7/site-packages/sklearn/metrics/_classification.py:1465: UndefinedMetricWarning: F-score is ill-defined and being set to 0.0 due to no true nor predicted samples. Use `zero_division` parameter to control this behavior.\n",
      "  average, \"true nor predicted\", 'F-score is', len(true_sum)\n",
      "/opt/conda/lib/python3.7/site-packages/sklearn/metrics/_classification.py:1465: UndefinedMetricWarning: F-score is ill-defined and being set to 0.0 due to no true nor predicted samples. Use `zero_division` parameter to control this behavior.\n",
      "  average, \"true nor predicted\", 'F-score is', len(true_sum)\n",
      "/opt/conda/lib/python3.7/site-packages/sklearn/metrics/_classification.py:1465: UndefinedMetricWarning: F-score is ill-defined and being set to 0.0 due to no true nor predicted samples. Use `zero_division` parameter to control this behavior.\n",
      "  average, \"true nor predicted\", 'F-score is', len(true_sum)\n",
      "/opt/conda/lib/python3.7/site-packages/sklearn/metrics/_classification.py:1465: UndefinedMetricWarning: F-score is ill-defined and being set to 0.0 due to no true nor predicted samples. Use `zero_division` parameter to control this behavior.\n",
      "  average, \"true nor predicted\", 'F-score is', len(true_sum)\n",
      "/opt/conda/lib/python3.7/site-packages/sklearn/metrics/_classification.py:1465: UndefinedMetricWarning: F-score is ill-defined and being set to 0.0 due to no true nor predicted samples. Use `zero_division` parameter to control this behavior.\n",
      "  average, \"true nor predicted\", 'F-score is', len(true_sum)\n",
      "/opt/conda/lib/python3.7/site-packages/sklearn/metrics/_classification.py:1465: UndefinedMetricWarning: F-score is ill-defined and being set to 0.0 due to no true nor predicted samples. Use `zero_division` parameter to control this behavior.\n",
      "  average, \"true nor predicted\", 'F-score is', len(true_sum)\n",
      "/opt/conda/lib/python3.7/site-packages/sklearn/metrics/_classification.py:1465: UndefinedMetricWarning: F-score is ill-defined and being set to 0.0 due to no true nor predicted samples. Use `zero_division` parameter to control this behavior.\n",
      "  average, \"true nor predicted\", 'F-score is', len(true_sum)\n",
      "/opt/conda/lib/python3.7/site-packages/sklearn/metrics/_classification.py:1465: UndefinedMetricWarning: F-score is ill-defined and being set to 0.0 due to no true nor predicted samples. Use `zero_division` parameter to control this behavior.\n",
      "  average, \"true nor predicted\", 'F-score is', len(true_sum)\n",
      "/opt/conda/lib/python3.7/site-packages/sklearn/metrics/_classification.py:1465: UndefinedMetricWarning: F-score is ill-defined and being set to 0.0 due to no true nor predicted samples. Use `zero_division` parameter to control this behavior.\n",
      "  average, \"true nor predicted\", 'F-score is', len(true_sum)\n",
      "/opt/conda/lib/python3.7/site-packages/sklearn/metrics/_classification.py:1465: UndefinedMetricWarning: F-score is ill-defined and being set to 0.0 due to no true nor predicted samples. Use `zero_division` parameter to control this behavior.\n",
      "  average, \"true nor predicted\", 'F-score is', len(true_sum)\n",
      "/opt/conda/lib/python3.7/site-packages/sklearn/metrics/_classification.py:1465: UndefinedMetricWarning: F-score is ill-defined and being set to 0.0 due to no true nor predicted samples. Use `zero_division` parameter to control this behavior.\n",
      "  average, \"true nor predicted\", 'F-score is', len(true_sum)\n",
      "/opt/conda/lib/python3.7/site-packages/sklearn/metrics/_classification.py:1465: UndefinedMetricWarning: F-score is ill-defined and being set to 0.0 due to no true nor predicted samples. Use `zero_division` parameter to control this behavior.\n",
      "  average, \"true nor predicted\", 'F-score is', len(true_sum)\n",
      "/opt/conda/lib/python3.7/site-packages/sklearn/metrics/_classification.py:1465: UndefinedMetricWarning: F-score is ill-defined and being set to 0.0 due to no true nor predicted samples. Use `zero_division` parameter to control this behavior.\n",
      "  average, \"true nor predicted\", 'F-score is', len(true_sum)\n",
      "/opt/conda/lib/python3.7/site-packages/sklearn/metrics/_classification.py:1465: UndefinedMetricWarning: F-score is ill-defined and being set to 0.0 due to no true nor predicted samples. Use `zero_division` parameter to control this behavior.\n",
      "  average, \"true nor predicted\", 'F-score is', len(true_sum)\n",
      "/opt/conda/lib/python3.7/site-packages/sklearn/metrics/_classification.py:1465: UndefinedMetricWarning: F-score is ill-defined and being set to 0.0 due to no true nor predicted samples. Use `zero_division` parameter to control this behavior.\n",
      "  average, \"true nor predicted\", 'F-score is', len(true_sum)\n",
      "/opt/conda/lib/python3.7/site-packages/sklearn/metrics/_classification.py:1465: UndefinedMetricWarning: F-score is ill-defined and being set to 0.0 due to no true nor predicted samples. Use `zero_division` parameter to control this behavior.\n",
      "  average, \"true nor predicted\", 'F-score is', len(true_sum)\n",
      "/opt/conda/lib/python3.7/site-packages/sklearn/metrics/_classification.py:1465: UndefinedMetricWarning: F-score is ill-defined and being set to 0.0 due to no true nor predicted samples. Use `zero_division` parameter to control this behavior.\n",
      "  average, \"true nor predicted\", 'F-score is', len(true_sum)\n",
      "/opt/conda/lib/python3.7/site-packages/sklearn/metrics/_classification.py:1465: UndefinedMetricWarning: F-score is ill-defined and being set to 0.0 due to no true nor predicted samples. Use `zero_division` parameter to control this behavior.\n",
      "  average, \"true nor predicted\", 'F-score is', len(true_sum)\n",
      "/opt/conda/lib/python3.7/site-packages/sklearn/metrics/_classification.py:1465: UndefinedMetricWarning: F-score is ill-defined and being set to 0.0 due to no true nor predicted samples. Use `zero_division` parameter to control this behavior.\n",
      "  average, \"true nor predicted\", 'F-score is', len(true_sum)\n",
      "/opt/conda/lib/python3.7/site-packages/sklearn/metrics/_classification.py:1465: UndefinedMetricWarning: F-score is ill-defined and being set to 0.0 due to no true nor predicted samples. Use `zero_division` parameter to control this behavior.\n",
      "  average, \"true nor predicted\", 'F-score is', len(true_sum)\n",
      "/opt/conda/lib/python3.7/site-packages/sklearn/metrics/_classification.py:1465: UndefinedMetricWarning: F-score is ill-defined and being set to 0.0 due to no true nor predicted samples. Use `zero_division` parameter to control this behavior.\n",
      "  average, \"true nor predicted\", 'F-score is', len(true_sum)\n",
      "/opt/conda/lib/python3.7/site-packages/sklearn/metrics/_classification.py:1465: UndefinedMetricWarning: F-score is ill-defined and being set to 0.0 due to no true nor predicted samples. Use `zero_division` parameter to control this behavior.\n",
      "  average, \"true nor predicted\", 'F-score is', len(true_sum)\n"
     ]
    },
    {
     "name": "stdout",
     "output_type": "stream",
     "text": [
      "acc: 0.8544973544973545\n",
      "f1: 0.7198412698412698\n"
     ]
    }
   ],
   "source": [
    "wrong_pred_indices=[]\n",
    "d={}\n",
    "svm_estimator=svm.SVC(C= 10, gamma= 0.001, kernel= 'rbf',probability=True, random_state=10)\n",
    "i=0\n",
    "\n",
    "correct_ones_=[]#collects correct pd postive predictions\n",
    "correct_zeros_=[]#collects correct pd negative predictions\n",
    "\n",
    "wrong_ones_=[]#collect wrong pd positive predictions\n",
    "wrong_zeros_=[]#collect wrong pd negative predictions\n",
    "\n",
    "tp=[]# true positive\n",
    "tn=[]# true negative\n",
    "fp=[]# false positive\n",
    "fn=[]# false negative\n",
    "\n",
    "tridx=[]\n",
    "tstidx=[]\n",
    "acc=[]\n",
    "mcc=[]\n",
    "f1=[]\n",
    "tsts=[]\n",
    "\n",
    "for trids, tstids in kfold.split(x_train):\n",
    "    \n",
    "    trainx, testx= x_train[trids,:], x_train[tstids,:]\n",
    "    trainy, testy= y_train[trids], y_train[tstids]\n",
    "    \n",
    "    svm_estimator.fit(trainx, trainy)\n",
    "    \n",
    "    preds=svm_estimator.predict(x_train[tstids,:])\n",
    "    \n",
    "    acc.append(accuracy_score(testy,svm_estimator.predict(testx)))\n",
    "    #mcc.append(matthews_corrcoef(testy, svm_estimator.predict(testx)))\n",
    "    f1.append(f1_score(testy, svm_estimator.predict(testx)))\n",
    "    \n",
    "    for i in range(len(tstids)):\n",
    "        tsts.append(tstids[i])\n",
    "    \n",
    "    \n",
    "    if (i==9):#checking if it is last split\n",
    "        tridx=trids\n",
    "        tstidx=tstids\n",
    "\n",
    "        for j in range(len(tstids)):\n",
    "            if(preds[j]==0 and (y_train[tstids[j]]==0) ):\n",
    "                correct_zeros_.append(j)\n",
    "                tn.append(j)\n",
    "                \n",
    "            if(preds[j]==0 and (y_train[tstids[j]]==1) ):\n",
    "                wrong_zeros_.append(j)\n",
    "                fn.append(j)\n",
    "                \n",
    "            if(preds[j]==1 and (y_train[tstids[j]]==1) ):\n",
    "                correct_ones_.append(j)\n",
    "                tp.append(j)\n",
    "                \n",
    "            if(preds[j]==1 and y_train[tstids[j]]==0):\n",
    "                wrong_ones_.append(j)  \n",
    "                fp.append(j)\n",
    "    i=i+1\n",
    "\n",
    "print('acc:', mean(acc))\n",
    "print('f1:', mean(f1))\n",
    "#print('mcc:', mean(mcc))\n"
   ]
  },
  {
   "cell_type": "code",
   "execution_count": 10,
   "id": "6422c296",
   "metadata": {
    "execution": {
     "iopub.execute_input": "2022-02-13T10:37:17.968675Z",
     "iopub.status.busy": "2022-02-13T10:37:17.967929Z",
     "iopub.status.idle": "2022-02-13T10:37:18.236954Z",
     "shell.execute_reply": "2022-02-13T10:37:18.237815Z",
     "shell.execute_reply.started": "2022-02-13T07:24:32.60631Z"
    },
    "papermill": {
     "duration": 0.308576,
     "end_time": "2022-02-13T10:37:18.238040",
     "exception": false,
     "start_time": "2022-02-13T10:37:17.929464",
     "status": "completed"
    },
    "tags": []
   },
   "outputs": [
    {
     "name": "stdout",
     "output_type": "stream",
     "text": [
      "t: 0  original: 1.0  patient no:  0  prediction 1.0\n",
      "t: 3  original: 1.0  patient no:  1  prediction 1.0\n",
      "t: 6  original: 1.0  patient no:  2  prediction 0.3333333333333333\n",
      "t: 9  original: 1.0  patient no:  3  prediction 1.0\n",
      "t: 12  original: 1.0  patient no:  4  prediction 1.0\n",
      "t: 15  original: 1.0  patient no:  5  prediction 1.0\n",
      "t: 18  original: 1.0  patient no:  6  prediction 1.0\n",
      "t: 21  original: 1.0  patient no:  7  prediction 0.6666666666666666\n",
      "t: 24  original: 1.0  patient no:  8  prediction 0.6666666666666666\n",
      "t: 27  original: 1.0  patient no:  9  prediction 1.0\n",
      "t: 30  original: 1.0  patient no:  10  prediction 1.0\n",
      "t: 33  original: 0.0  patient no:  11  prediction 0.6666666666666666\n",
      "t: 36  original: 1.0  patient no:  12  prediction 1.0\n",
      "t: 39  original: 1.0  patient no:  13  prediction 1.0\n",
      "t: 42  original: 0.0  patient no:  14  prediction 0.0\n",
      "t: 45  original: 1.0  patient no:  15  prediction 1.0\n",
      "t: 48  original: 1.0  patient no:  16  prediction 1.0\n",
      "t: 51  original: 1.0  patient no:  17  prediction 1.0\n",
      "t: 54  original: 1.0  patient no:  18  prediction 1.0\n",
      "t: 57  original: 1.0  patient no:  19  prediction 1.0\n",
      "t: 60  original: 1.0  patient no:  20  prediction 1.0\n",
      "t: 63  original: 1.0  patient no:  21  prediction 1.0\n",
      "t: 66  original: 1.0  patient no:  22  prediction 1.0\n",
      "t: 69  original: 1.0  patient no:  23  prediction 1.0\n",
      "t: 72  original: 0.0  patient no:  24  prediction 0.3333333333333333\n",
      "t: 75  original: 1.0  patient no:  25  prediction 1.0\n",
      "t: 78  original: 0.0  patient no:  26  prediction 0.3333333333333333\n",
      "t: 81  original: 0.0  patient no:  27  prediction 0.0\n",
      "t: 84  original: 1.0  patient no:  28  prediction 1.0\n",
      "t: 87  original: 0.0  patient no:  29  prediction 1.0\n",
      "t: 90  original: 1.0  patient no:  30  prediction 1.0\n",
      "t: 93  original: 1.0  patient no:  31  prediction 1.0\n",
      "t: 96  original: 1.0  patient no:  32  prediction 1.0\n",
      "t: 99  original: 0.0  patient no:  33  prediction 0.0\n",
      "t: 102  original: 0.0  patient no:  34  prediction 0.3333333333333333\n",
      "t: 105  original: 1.0  patient no:  35  prediction 1.0\n",
      "t: 108  original: 1.0  patient no:  36  prediction 0.6666666666666666\n",
      "t: 111  original: 1.0  patient no:  37  prediction 1.0\n",
      "t: 114  original: 1.0  patient no:  38  prediction 1.0\n",
      "t: 117  original: 1.0  patient no:  39  prediction 1.0\n",
      "t: 120  original: 1.0  patient no:  40  prediction 1.0\n",
      "t: 123  original: 0.0  patient no:  41  prediction 1.0\n",
      "t: 126  original: 0.0  patient no:  42  prediction 0.0\n",
      "t: 129  original: 1.0  patient no:  43  prediction 1.0\n",
      "t: 132  original: 1.0  patient no:  44  prediction 1.0\n",
      "t: 135  original: 0.0  patient no:  45  prediction 0.3333333333333333\n",
      "t: 138  original: 1.0  patient no:  46  prediction 1.0\n",
      "t: 141  original: 0.0  patient no:  47  prediction 1.0\n",
      "t: 144  original: 0.0  patient no:  48  prediction 0.6666666666666666\n",
      "t: 147  original: 0.0  patient no:  49  prediction 1.0\n",
      "t: 150  original: 1.0  patient no:  50  prediction 1.0\n",
      "t: 153  original: 1.0  patient no:  51  prediction 1.0\n",
      "t: 156  original: 1.0  patient no:  52  prediction 1.0\n",
      "t: 159  original: 1.0  patient no:  53  prediction 1.0\n",
      "t: 162  original: 1.0  patient no:  54  prediction 1.0\n",
      "t: 165  original: 1.0  patient no:  55  prediction 1.0\n",
      "t: 168  original: 1.0  patient no:  56  prediction 1.0\n",
      "t: 171  original: 1.0  patient no:  57  prediction 1.0\n",
      "t: 174  original: 1.0  patient no:  58  prediction 1.0\n",
      "t: 177  original: 1.0  patient no:  59  prediction 1.0\n",
      "t: 180  original: 1.0  patient no:  60  prediction 1.0\n",
      "t: 183  original: 1.0  patient no:  61  prediction 1.0\n",
      "t: 186  original: 1.0  patient no:  62  prediction 1.0\n",
      "t: 189  original: 1.0  patient no:  63  prediction 1.0\n",
      "t: 192  original: 1.0  patient no:  64  prediction 1.0\n",
      "t: 195  original: 0.0  patient no:  65  prediction 0.3333333333333333\n",
      "t: 198  original: 1.0  patient no:  66  prediction 1.0\n",
      "t: 201  original: 1.0  patient no:  67  prediction 0.6666666666666666\n",
      "t: 204  original: 1.0  patient no:  68  prediction 1.0\n",
      "t: 207  original: 0.0  patient no:  69  prediction 1.0\n",
      "t: 210  original: 1.0  patient no:  70  prediction 1.0\n",
      "t: 213  original: 1.0  patient no:  71  prediction 1.0\n",
      "t: 216  original: 1.0  patient no:  72  prediction 1.0\n",
      "t: 219  original: 0.0  patient no:  73  prediction 0.0\n",
      "t: 222  original: 1.0  patient no:  74  prediction 1.0\n",
      "t: 225  original: 0.0  patient no:  75  prediction 0.0\n",
      "t: 228  original: 1.0  patient no:  76  prediction 1.0\n",
      "t: 231  original: 1.0  patient no:  77  prediction 1.0\n",
      "t: 234  original: 0.0  patient no:  78  prediction 0.0\n",
      "t: 237  original: 1.0  patient no:  79  prediction 1.0\n",
      "t: 240  original: 1.0  patient no:  80  prediction 1.0\n",
      "t: 243  original: 1.0  patient no:  81  prediction 0.6666666666666666\n",
      "t: 246  original: 1.0  patient no:  82  prediction 1.0\n",
      "t: 249  original: 0.0  patient no:  83  prediction 0.0\n",
      "t: 252  original: 1.0  patient no:  84  prediction 1.0\n",
      "t: 255  original: 1.0  patient no:  85  prediction 1.0\n",
      "t: 258  original: 1.0  patient no:  86  prediction 1.0\n",
      "t: 261  original: 1.0  patient no:  87  prediction 1.0\n",
      "t: 264  original: 1.0  patient no:  88  prediction 0.6666666666666666\n",
      "t: 267  original: 0.0  patient no:  89  prediction 0.6666666666666666\n",
      "t: 270  original: 1.0  patient no:  90  prediction 1.0\n",
      "t: 273  original: 1.0  patient no:  91  prediction 1.0\n",
      "t: 276  original: 1.0  patient no:  92  prediction 1.0\n",
      "t: 279  original: 1.0  patient no:  93  prediction 1.0\n",
      "t: 282  original: 1.0  patient no:  94  prediction 1.0\n",
      "t: 285  original: 1.0  patient no:  95  prediction 1.0\n",
      "t: 288  original: 0.0  patient no:  96  prediction 0.6666666666666666\n",
      "t: 291  original: 1.0  patient no:  97  prediction 1.0\n",
      "t: 294  original: 1.0  patient no:  98  prediction 1.0\n",
      "t: 297  original: 1.0  patient no:  99  prediction 0.3333333333333333\n",
      "t: 300  original: 1.0  patient no:  100  prediction 1.0\n",
      "t: 303  original: 1.0  patient no:  101  prediction 1.0\n",
      "t: 306  original: 1.0  patient no:  102  prediction 1.0\n",
      "t: 309  original: 0.0  patient no:  103  prediction 0.6666666666666666\n",
      "t: 312  original: 1.0  patient no:  104  prediction 1.0\n",
      "t: 315  original: 1.0  patient no:  105  prediction 1.0\n",
      "t: 318  original: 1.0  patient no:  106  prediction 1.0\n",
      "t: 321  original: 1.0  patient no:  107  prediction 0.6666666666666666\n",
      "t: 324  original: 1.0  patient no:  108  prediction 1.0\n",
      "t: 327  original: 1.0  patient no:  109  prediction 1.0\n",
      "t: 330  original: 1.0  patient no:  110  prediction 1.0\n",
      "t: 333  original: 0.0  patient no:  111  prediction 0.0\n",
      "t: 336  original: 1.0  patient no:  112  prediction 1.0\n",
      "t: 339  original: 1.0  patient no:  113  prediction 1.0\n",
      "t: 342  original: 1.0  patient no:  114  prediction 0.6666666666666666\n",
      "t: 345  original: 1.0  patient no:  115  prediction 1.0\n",
      "t: 348  original: 1.0  patient no:  116  prediction 1.0\n",
      "t: 351  original: 1.0  patient no:  117  prediction 1.0\n",
      "t: 354  original: 1.0  patient no:  118  prediction 1.0\n",
      "t: 357  original: 0.0  patient no:  119  prediction 1.0\n",
      "t: 360  original: 1.0  patient no:  120  prediction 0.6666666666666666\n",
      "t: 363  original: 1.0  patient no:  121  prediction 1.0\n",
      "t: 366  original: 1.0  patient no:  122  prediction 1.0\n",
      "t: 369  original: 0.0  patient no:  123  prediction 0.6666666666666666\n",
      "t: 372  original: 1.0  patient no:  124  prediction 1.0\n",
      "t: 375  original: 0.0  patient no:  125  prediction 0.6666666666666666\n",
      "t: 378  original: 1.0  patient no:  126  prediction 1.0\n",
      "t: 381  original: 1.0  patient no:  127  prediction 1.0\n",
      "t: 384  original: 1.0  patient no:  128  prediction 1.0\n",
      "t: 387  original: 1.0  patient no:  129  prediction 1.0\n",
      "t: 390  original: 0.0  patient no:  130  prediction 0.0\n",
      "t: 393  original: 0.0  patient no:  131  prediction 0.6666666666666666\n",
      "t: 396  original: 0.0  patient no:  132  prediction 0.3333333333333333\n",
      "t: 399  original: 1.0  patient no:  133  prediction 0.3333333333333333\n",
      "t: 402  original: 1.0  patient no:  134  prediction 1.0\n",
      "t: 405  original: 0.0  patient no:  135  prediction 1.0\n",
      "t: 408  original: 0.0  patient no:  136  prediction 0.3333333333333333\n",
      "t: 411  original: 1.0  patient no:  137  prediction 1.0\n",
      "t: 414  original: 1.0  patient no:  138  prediction 1.0\n",
      "t: 417  original: 1.0  patient no:  139  prediction 1.0\n",
      "t: 420  original: 1.0  patient no:  140  prediction 1.0\n",
      "t: 423  original: 1.0  patient no:  141  prediction 1.0\n",
      "t: 426  original: 1.0  patient no:  142  prediction 1.0\n",
      "t: 429  original: 1.0  patient no:  143  prediction 1.0\n",
      "t: 432  original: 1.0  patient no:  144  prediction 1.0\n",
      "t: 435  original: 1.0  patient no:  145  prediction 1.0\n",
      "t: 438  original: 1.0  patient no:  146  prediction 1.0\n",
      "t: 441  original: 1.0  patient no:  147  prediction 1.0\n",
      "t: 444  original: 1.0  patient no:  148  prediction 1.0\n",
      "t: 447  original: 0.0  patient no:  149  prediction 1.0\n",
      "t: 450  original: 1.0  patient no:  150  prediction 1.0\n",
      "t: 453  original: 1.0  patient no:  151  prediction 1.0\n",
      "t: 456  original: 1.0  patient no:  152  prediction 1.0\n",
      "t: 459  original: 0.0  patient no:  153  prediction 0.0\n",
      "t: 462  original: 1.0  patient no:  154  prediction 1.0\n",
      "t: 465  original: 1.0  patient no:  155  prediction 1.0\n",
      "t: 468  original: 0.0  patient no:  156  prediction 1.0\n",
      "t: 471  original: 0.0  patient no:  157  prediction 0.6666666666666666\n",
      "t: 474  original: 1.0  patient no:  158  prediction 0.6666666666666666\n",
      "t: 477  original: 1.0  patient no:  159  prediction 1.0\n",
      "t: 480  original: 1.0  patient no:  160  prediction 1.0\n",
      "t: 483  original: 1.0  patient no:  161  prediction 1.0\n",
      "t: 486  original: 1.0  patient no:  162  prediction 1.0\n",
      "t: 489  original: 0.0  patient no:  163  prediction 0.0\n",
      "t: 492  original: 1.0  patient no:  164  prediction 1.0\n",
      "t: 495  original: 1.0  patient no:  165  prediction 1.0\n",
      "t: 498  original: 1.0  patient no:  166  prediction 1.0\n",
      "t: 501  original: 1.0  patient no:  167  prediction 1.0\n",
      "t: 504  original: 1.0  patient no:  168  prediction 1.0\n",
      "t: 507  original: 1.0  patient no:  169  prediction 1.0\n",
      "t: 510  original: 1.0  patient no:  170  prediction 1.0\n",
      "t: 513  original: 1.0  patient no:  171  prediction 1.0\n",
      "t: 516  original: 1.0  patient no:  172  prediction 0.6666666666666666\n",
      "t: 519  original: 0.0  patient no:  173  prediction 1.0\n",
      "t: 522  original: 1.0  patient no:  174  prediction 1.0\n",
      "t: 525  original: 1.0  patient no:  175  prediction 0.6666666666666666\n",
      "t: 528  original: 1.0  patient no:  176  prediction 0.6666666666666666\n",
      "t: 531  original: 1.0  patient no:  177  prediction 1.0\n",
      "t: 534  original: 0.0  patient no:  178  prediction 1.0\n",
      "t: 537  original: 1.0  patient no:  179  prediction 1.0\n",
      "t: 540  original: 0.0  patient no:  180  prediction 1.0\n",
      "t: 543  original: 1.0  patient no:  181  prediction 1.0\n",
      "t: 546  original: 1.0  patient no:  182  prediction 1.0\n",
      "t: 549  original: 1.0  patient no:  183  prediction 1.0\n",
      "t: 552  original: 1.0  patient no:  184  prediction 1.0\n",
      "t: 555  original: 1.0  patient no:  185  prediction 1.0\n",
      "t: 558  original: 1.0  patient no:  186  prediction 1.0\n",
      "t: 561  original: 0.0  patient no:  187  prediction 1.0\n",
      "t: 564  original: 1.0  patient no:  188  prediction 1.0\n",
      "t: 567  original: 0.0  patient no:  189  prediction 1.0\n",
      "t: 570  original: 1.0  patient no:  190  prediction 1.0\n",
      "t: 573  original: 1.0  patient no:  191  prediction 1.0\n",
      "t: 576  original: 0.0  patient no:  192  prediction 1.0\n",
      "t: 579  original: 1.0  patient no:  193  prediction 1.0\n",
      "t: 582  original: 0.0  patient no:  194  prediction 1.0\n",
      "t: 585  original: 0.0  patient no:  195  prediction 1.0\n",
      "t: 588  original: 0.0  patient no:  196  prediction 1.0\n",
      "t: 591  original: 1.0  patient no:  197  prediction 0.3333333333333333\n",
      "t: 594  original: 0.0  patient no:  198  prediction 1.0\n",
      "t: 597  original: 1.0  patient no:  199  prediction 1.0\n",
      "t: 600  original: 1.0  patient no:  200  prediction 1.0\n",
      "t: 603  original: 1.0  patient no:  201  prediction 1.0\n",
      "t: 606  original: 1.0  patient no:  202  prediction 1.0\n",
      "t: 609  original: 0.0  patient no:  203  prediction 0.0\n",
      "t: 612  original: 1.0  patient no:  204  prediction 1.0\n",
      "t: 615  original: 1.0  patient no:  205  prediction 1.0\n",
      "t: 618  original: 1.0  patient no:  206  prediction 1.0\n",
      "t: 621  original: 1.0  patient no:  207  prediction 1.0\n",
      "t: 624  original: 1.0  patient no:  208  prediction 1.0\n",
      "t: 627  original: 1.0  patient no:  209  prediction 1.0\n",
      "t: 630  original: 0.0  patient no:  210  prediction 0.3333333333333333\n",
      "t: 633  original: 1.0  patient no:  211  prediction 1.0\n",
      "t: 636  original: 1.0  patient no:  212  prediction 1.0\n",
      "t: 639  original: 0.0  patient no:  213  prediction 1.0\n",
      "t: 642  original: 1.0  patient no:  214  prediction 1.0\n",
      "t: 645  original: 1.0  patient no:  215  prediction 1.0\n",
      "t: 648  original: 0.0  patient no:  216  prediction 1.0\n",
      "t: 651  original: 1.0  patient no:  217  prediction 1.0\n",
      "t: 654  original: 1.0  patient no:  218  prediction 1.0\n",
      "t: 657  original: 0.0  patient no:  219  prediction 0.0\n",
      "t: 660  original: 1.0  patient no:  220  prediction 1.0\n",
      "t: 663  original: 0.0  patient no:  221  prediction 1.0\n",
      "t: 666  original: 0.0  patient no:  222  prediction 0.0\n",
      "t: 669  original: 1.0  patient no:  223  prediction 1.0\n",
      "t: 672  original: 1.0  patient no:  224  prediction 1.0\n",
      "t: 675  original: 1.0  patient no:  225  prediction 1.0\n",
      "t: 678  original: 1.0  patient no:  226  prediction 1.0\n",
      "t: 681  original: 1.0  patient no:  227  prediction 1.0\n",
      "t: 684  original: 1.0  patient no:  228  prediction 1.0\n",
      "t: 687  original: 1.0  patient no:  229  prediction 1.0\n",
      "t: 690  original: 1.0  patient no:  230  prediction 1.0\n",
      "t: 693  original: 1.0  patient no:  231  prediction 1.0\n",
      "t: 696  original: 0.0  patient no:  232  prediction 1.0\n",
      "t: 699  original: 1.0  patient no:  233  prediction 0.0\n",
      "t: 702  original: 0.0  patient no:  234  prediction 0.6666666666666666\n",
      "t: 705  original: 0.0  patient no:  235  prediction 0.3333333333333333\n",
      "t: 708  original: 1.0  patient no:  236  prediction 0.3333333333333333\n",
      "t: 711  original: 0.0  patient no:  237  prediction 0.6666666666666666\n",
      "t: 714  original: 1.0  patient no:  238  prediction 1.0\n",
      "t: 717  original: 1.0  patient no:  239  prediction 1.0\n",
      "t: 720  original: 1.0  patient no:  240  prediction 1.0\n",
      "t: 723  original: 1.0  patient no:  241  prediction 0.3333333333333333\n",
      "t: 726  original: 0.0  patient no:  242  prediction 0.0\n",
      "t: 729  original: 1.0  patient no:  243  prediction 1.0\n",
      "t: 732  original: 0.0  patient no:  244  prediction 1.0\n",
      "t: 735  original: 0.0  patient no:  245  prediction 0.0\n",
      "t: 738  original: 0.0  patient no:  246  prediction 1.0\n",
      "t: 741  original: 1.0  patient no:  247  prediction 1.0\n",
      "t: 744  original: 1.0  patient no:  248  prediction 1.0\n",
      "t: 747  original: 1.0  patient no:  249  prediction 1.0\n",
      "t: 750  original: 0.0  patient no:  250  prediction 0.6666666666666666\n",
      "t: 753  original: 0.0  patient no:  251  prediction 0.6666666666666666\n",
      "true positives:  181\n",
      "true negatives:  38\n",
      "fales positives:  26\n",
      "false negatives:  7\n"
     ]
    }
   ],
   "source": [
    "j=0\n",
    "tpids=[]\n",
    "tpc=0\n",
    "tnids=[]\n",
    "tnc=0\n",
    "fpids=[]\n",
    "fpc=0\n",
    "fnids=[]\n",
    "fnc=0\n",
    "\n",
    "#performing majority voting\n",
    "# if accurately predicted over 0.66 for 3 that means we predicted correctly for the whole sample\n",
    "\n",
    "for t in range(0,len(y_train),3):\n",
    "    print('t:',t,\" original:\", y_train[t],' patient no: ',j, ' prediction',acc[j] )\n",
    "\n",
    "    \n",
    "    if y_train[t]==1 and acc[j]>0.5:\n",
    "        tpc=tpc+1\n",
    "        tpids.append(t)\n",
    "    if y_train[t]==1 and acc[j]<0.5:\n",
    "        fnc=fnc+1\n",
    "        fnids.append(t)\n",
    "    if y_train[t]==0 and acc[j]>0.5:\n",
    "        tnc=tnc+1\n",
    "        tnids.append(t)\n",
    "    if y_train[t]==0 and acc[j]<0.5:\n",
    "        fpc=fpc+1\n",
    "        fpids.append(t)\n",
    "    \n",
    "    j=j+1\n",
    "\n",
    "print(\"true positives: \", tpc)\n",
    "print(\"true negatives: \", tnc)\n",
    "print(\"fales positives: \", fpc)\n",
    "print(\"false negatives: \", fnc)"
   ]
  },
  {
   "cell_type": "code",
   "execution_count": 11,
   "id": "b7db881e",
   "metadata": {
    "execution": {
     "iopub.execute_input": "2022-02-13T10:37:18.304805Z",
     "iopub.status.busy": "2022-02-13T10:37:18.301609Z",
     "iopub.status.idle": "2022-02-13T10:37:18.308248Z",
     "shell.execute_reply": "2022-02-13T10:37:18.308794Z",
     "shell.execute_reply.started": "2022-02-13T07:24:52.45559Z"
    },
    "papermill": {
     "duration": 0.04061,
     "end_time": "2022-02-13T10:37:18.309054",
     "exception": false,
     "start_time": "2022-02-13T10:37:18.268444",
     "status": "completed"
    },
    "tags": []
   },
   "outputs": [
    {
     "name": "stdout",
     "output_type": "stream",
     "text": [
      "f1 score: 0.9164556962025316\n"
     ]
    }
   ],
   "source": [
    "f1=0\n",
    "f1=(tpc)/((tpc+0.5*(fpc+fnc)))\n",
    "print('f1 score:', f1)"
   ]
  },
  {
   "cell_type": "code",
   "execution_count": 12,
   "id": "c1aaeb2d",
   "metadata": {
    "execution": {
     "iopub.execute_input": "2022-02-13T10:37:18.380919Z",
     "iopub.status.busy": "2022-02-13T10:37:18.380162Z",
     "iopub.status.idle": "2022-02-13T10:37:18.385115Z",
     "shell.execute_reply": "2022-02-13T10:37:18.383971Z",
     "shell.execute_reply.started": "2022-02-13T07:25:27.892529Z"
    },
    "papermill": {
     "duration": 0.0446,
     "end_time": "2022-02-13T10:37:18.385354",
     "exception": false,
     "start_time": "2022-02-13T10:37:18.340754",
     "status": "completed"
    },
    "tags": []
   },
   "outputs": [
    {
     "name": "stdout",
     "output_type": "stream",
     "text": [
      "mcc:  0.632492097554594\n",
      "precision:  0.8743961352657005\n",
      "recall:  0.9627659574468085\n",
      "accuracy:  0.8690476190476191\n"
     ]
    }
   ],
   "source": [
    "import math\n",
    "mcc=0\n",
    "\n",
    "mcc=(tpc*tnc-fpc*fnc)/math.sqrt((tpc+fpc)*(tpc+fnc)*(tnc+fpc)*(tnc+fnc))\n",
    "print('mcc: ',mcc)\n",
    "precision=tpc/(tpc+fpc)\n",
    "print('precision: ', precision)\n",
    "recall=tpc/(tpc+fnc)\n",
    "print('recall: ',recall)\n",
    "acc=(tpc+tnc)/(tpc+tnc+fpc+fnc)\n",
    "print('accuracy: ', acc)"
   ]
  },
  {
   "cell_type": "code",
   "execution_count": 13,
   "id": "1effff97",
   "metadata": {
    "execution": {
     "iopub.execute_input": "2022-02-13T10:37:18.455337Z",
     "iopub.status.busy": "2022-02-13T10:37:18.454547Z",
     "iopub.status.idle": "2022-02-13T10:37:20.383634Z",
     "shell.execute_reply": "2022-02-13T10:37:20.384197Z",
     "shell.execute_reply.started": "2022-02-12T09:35:42.966203Z"
    },
    "papermill": {
     "duration": 1.965794,
     "end_time": "2022-02-13T10:37:20.384433",
     "exception": false,
     "start_time": "2022-02-13T10:37:18.418639",
     "status": "completed"
    },
    "tags": []
   },
   "outputs": [],
   "source": [
    "import lime\n",
    "import shap"
   ]
  },
  {
   "cell_type": "code",
   "execution_count": 14,
   "id": "2e676b68",
   "metadata": {
    "execution": {
     "iopub.execute_input": "2022-02-13T10:37:20.454527Z",
     "iopub.status.busy": "2022-02-13T10:37:20.453580Z",
     "iopub.status.idle": "2022-02-13T10:37:20.456726Z",
     "shell.execute_reply": "2022-02-13T10:37:20.456224Z",
     "shell.execute_reply.started": "2022-02-12T09:37:23.871255Z"
    },
    "papermill": {
     "duration": 0.0398,
     "end_time": "2022-02-13T10:37:20.456898",
     "exception": false,
     "start_time": "2022-02-13T10:37:20.417098",
     "status": "completed"
    },
    "tags": []
   },
   "outputs": [],
   "source": [
    "#would have to do lime and shape later"
   ]
  },
  {
   "cell_type": "code",
   "execution_count": null,
   "id": "108c0365",
   "metadata": {
    "papermill": {
     "duration": 0.031962,
     "end_time": "2022-02-13T10:37:20.520876",
     "exception": false,
     "start_time": "2022-02-13T10:37:20.488914",
     "status": "completed"
    },
    "tags": []
   },
   "outputs": [],
   "source": []
  }
 ],
 "metadata": {
  "kernelspec": {
   "display_name": "Python 3",
   "language": "python",
   "name": "python3"
  },
  "language_info": {
   "codemirror_mode": {
    "name": "ipython",
    "version": 3
   },
   "file_extension": ".py",
   "mimetype": "text/x-python",
   "name": "python",
   "nbconvert_exporter": "python",
   "pygments_lexer": "ipython3",
   "version": "3.7.12"
  },
  "papermill": {
   "default_parameters": {},
   "duration": 1702.718596,
   "end_time": "2022-02-13T10:37:21.470838",
   "environment_variables": {},
   "exception": null,
   "input_path": "__notebook__.ipynb",
   "output_path": "__notebook__.ipynb",
   "parameters": {},
   "start_time": "2022-02-13T10:08:58.752242",
   "version": "2.3.3"
  }
 },
 "nbformat": 4,
 "nbformat_minor": 5
}
