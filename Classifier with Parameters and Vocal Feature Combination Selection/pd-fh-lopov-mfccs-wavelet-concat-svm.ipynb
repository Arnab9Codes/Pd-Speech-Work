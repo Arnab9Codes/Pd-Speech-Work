{
 "cells": [
  {
   "cell_type": "code",
   "execution_count": 1,
   "id": "454a13d6",
   "metadata": {
    "_cell_guid": "b1076dfc-b9ad-4769-8c92-a6c4dae69d19",
    "_uuid": "8f2839f25d086af736a60e9eeb907d3b93b6e0e5",
    "execution": {
     "iopub.execute_input": "2022-02-13T13:23:57.537384Z",
     "iopub.status.busy": "2022-02-13T13:23:57.536241Z",
     "iopub.status.idle": "2022-02-13T13:23:57.570148Z",
     "shell.execute_reply": "2022-02-13T13:23:57.570760Z",
     "shell.execute_reply.started": "2022-02-13T12:50:10.746185Z"
    },
    "papermill": {
     "duration": 0.05367,
     "end_time": "2022-02-13T13:23:57.571042",
     "exception": false,
     "start_time": "2022-02-13T13:23:57.517372",
     "status": "completed"
    },
    "tags": []
   },
   "outputs": [
    {
     "name": "stdout",
     "output_type": "stream",
     "text": [
      "/kaggle/input/pd-datas/trinary_datasets_only/tqwt_mfccs_concat.csv\n",
      "/kaggle/input/pd-datas/trinary_datasets_only/mfccs_wavelet_concat.csv\n",
      "/kaggle/input/pd-datas/trinary_datasets_only/tqwt_mfccs_wavelet.csv\n",
      "/kaggle/input/pd-datas/trinary_datasets_only/tqwt_wavelet_concat.csv\n",
      "/kaggle/input/pd-datas/binary_datasets_only/tqwt_concat.csv\n",
      "/kaggle/input/pd-datas/binary_datasets_only/mfccs_wavelet.csv\n",
      "/kaggle/input/pd-datas/binary_datasets_only/tqwt_mfccs.csv\n",
      "/kaggle/input/pd-datas/binary_datasets_only/concat_wavelet.csv\n",
      "/kaggle/input/pd-datas/binary_datasets_only/mfccs_concat.csv\n",
      "/kaggle/input/pd-datas/binary_datasets_only/tqwt_wavelet.csv\n",
      "/kaggle/input/pd-datas/trinary_feature_FH/tqwt_wavelet_concat_FH.csv\n",
      "/kaggle/input/pd-datas/trinary_feature_FH/tqwt_mfccs_wavelet_FH.csv\n",
      "/kaggle/input/pd-datas/trinary_feature_FH/tqwt_mfccs_concat_FH.csv\n",
      "/kaggle/input/pd-datas/trinary_feature_FH/mfccs_wavelet_concat_FH.csv\n",
      "/kaggle/input/pd-datas/binary_feature_set_FH/mfccs_wavelet_FH.csv\n",
      "/kaggle/input/pd-datas/binary_feature_set_FH/concat_wavelet_FH.csv\n",
      "/kaggle/input/pd-datas/binary_feature_set_FH/tqwt_wavelet_FH.csv\n",
      "/kaggle/input/pd-datas/binary_feature_set_FH/tqwt_concat_FH.csv\n",
      "/kaggle/input/pd-datas/binary_feature_set_FH/mfccs_concat_FH.csv\n",
      "/kaggle/input/pd-datas/binary_feature_set_FH/tqwt_mfccs_FH.csv\n",
      "/kaggle/input/pd-datas/data/gender_class_FH_corrected.csv\n",
      "/kaggle/input/pd-datas/data/gender_FG_v2.csv\n"
     ]
    }
   ],
   "source": [
    "# This Python 3 environment comes with many helpful analytics libraries installed\n",
    "# It is defined by the kaggle/python Docker image: https://github.com/kaggle/docker-python\n",
    "# For example, here's several helpful packages to load\n",
    "\n",
    "import numpy as np # linear algebra\n",
    "import pandas as pd # data processing, CSV file I/O (e.g. pd.read_csv)\n",
    "\n",
    "# Input data files are available in the read-only \"../input/\" directory\n",
    "# For example, running this (by clicking run or pressing Shift+Enter) will list all files under the input directory\n",
    "\n",
    "import os\n",
    "for dirname, _, filenames in os.walk('/kaggle/input'):\n",
    "    for filename in filenames:\n",
    "        print(os.path.join(dirname, filename))\n",
    "\n",
    "# You can write up to 20GB to the current directory (/kaggle/working/) that gets preserved as output when you create a version using \"Save & Run All\" \n",
    "# You can also write temporary files to /kaggle/temp/, but they won't be saved outside of the current session"
   ]
  },
  {
   "cell_type": "code",
   "execution_count": 2,
   "id": "f594b802",
   "metadata": {
    "execution": {
     "iopub.execute_input": "2022-02-13T13:23:57.603118Z",
     "iopub.status.busy": "2022-02-13T13:23:57.602594Z",
     "iopub.status.idle": "2022-02-13T13:23:58.741975Z",
     "shell.execute_reply": "2022-02-13T13:23:58.741187Z",
     "shell.execute_reply.started": "2022-02-13T12:50:27.209255Z"
    },
    "papermill": {
     "duration": 1.155942,
     "end_time": "2022-02-13T13:23:58.742120",
     "exception": false,
     "start_time": "2022-02-13T13:23:57.586178",
     "status": "completed"
    },
    "tags": []
   },
   "outputs": [],
   "source": [
    "## Initial Imports\n",
    "\n",
    "%matplotlib inline\n",
    "\n",
    "import pandas as pd \n",
    "import numpy as np \n",
    "import matplotlib.pyplot as plt\n",
    "import seaborn as sns\n",
    "import random\n",
    "from tqdm import tqdm_notebook as tqdm\n",
    "from sklearn.model_selection import LeaveOneOut, GridSearchCV, KFold, train_test_split\n",
    "from sklearn import svm\n",
    "from sklearn.metrics import accuracy_score, f1_score, classification_report, matthews_corrcoef, roc_auc_score\n",
    "from statistics import mean"
   ]
  },
  {
   "cell_type": "code",
   "execution_count": 3,
   "id": "ffdd86bf",
   "metadata": {
    "execution": {
     "iopub.execute_input": "2022-02-13T13:23:58.776942Z",
     "iopub.status.busy": "2022-02-13T13:23:58.775945Z",
     "iopub.status.idle": "2022-02-13T13:23:58.833969Z",
     "shell.execute_reply": "2022-02-13T13:23:58.834427Z",
     "shell.execute_reply.started": "2022-02-13T12:50:34.578936Z"
    },
    "papermill": {
     "duration": 0.077383,
     "end_time": "2022-02-13T13:23:58.834783",
     "exception": false,
     "start_time": "2022-02-13T13:23:58.757400",
     "status": "completed"
    },
    "tags": []
   },
   "outputs": [
    {
     "name": "stdout",
     "output_type": "stream",
     "text": [
      "   std_MFCC_10th_coef  mean_8th_delta_delta  mean_MFCC_5th_coef  \\\n",
      "0             0.21511              0.000430             -1.6334   \n",
      "1             0.22222             -0.000072             -1.3427   \n",
      "2             0.22618             -0.000037             -1.7334   \n",
      "3             0.20629             -0.000232             -1.0083   \n",
      "4             0.23269              0.000576             -1.0392   \n",
      "\n",
      "   mean_MFCC_7th_coef  VFER_NSR_SEO  GNE_SNR_SEO  mean_MFCC_10th_coef  \\\n",
      "0             0.39725        1.3305  1200445.612              0.54775   \n",
      "1             0.17695        1.3177  1298455.445              0.54722   \n",
      "2             0.70520        1.3078  1272869.841              0.79354   \n",
      "3             0.86495        1.2986  1932289.206             -0.89378   \n",
      "4             0.94225        1.3156  1861807.802             -1.03360   \n",
      "\n",
      "   mean_MFCC_6th_coef  mean_MFCC_8th_coef  IMF_NSR_entropy  ...  \\\n",
      "0            -1.51440             0.61775          0.20023  ...   \n",
      "1            -1.67590             0.72944          0.20336  ...   \n",
      "2            -1.49290             0.51173          0.17296  ...   \n",
      "3            -0.65556             1.48370          0.17510  ...   \n",
      "4            -0.51876             1.54980          0.21877  ...   \n",
      "\n",
      "   app_LT_TKEO_mean_5_coef  app_LT_TKEO_std_9_coef  app_LT_TKEO_mean_9_coef  \\\n",
      "0                  74.3411               4188.2456                1586.1824   \n",
      "1                  73.7185               4148.9889                1572.1837   \n",
      "2                  73.3297               4127.0967                1564.1081   \n",
      "3                  67.4885               3910.7029                1448.7625   \n",
      "4                  78.2530               4297.4639                1653.5676   \n",
      "\n",
      "   app_LT_TKEO_std_4_coef  app_LT_TKEO_std_7_coef           f3           f2  \\\n",
      "0                101.0889               1015.7707  2447.162183  1031.849040   \n",
      "1                100.0918               1006.3702  2383.565201  1016.367294   \n",
      "2                 99.6154               1001.7348  2357.826954  1032.406341   \n",
      "3                 94.4579                955.8128  3154.035654  1201.813897   \n",
      "4                108.6792               1057.2566  3201.513132  1215.346469   \n",
      "\n",
      "           f1           f4  class  \n",
      "0  539.342735  3655.054806    1.0  \n",
      "1  564.363615  3498.681572    1.0  \n",
      "2  548.444604  3678.128717    1.0  \n",
      "3  819.529588  4122.163933    1.0  \n",
      "4  846.796144  4085.456839    1.0  \n",
      "\n",
      "[5 rows x 78 columns]\n",
      "['std_MFCC_10th_coef', 'mean_8th_delta_delta', 'mean_MFCC_5th_coef', 'mean_MFCC_7th_coef', 'VFER_NSR_SEO', 'GNE_SNR_SEO', 'mean_MFCC_10th_coef', 'mean_MFCC_6th_coef', 'mean_MFCC_8th_coef', 'IMF_NSR_entropy', 'VFER_NSR_TKEO', 'mean_MFCC_4th_coef', 'mean_MFCC_1st_coef', 'mean_MFCC_3rd_coef', 'mean_MFCC_9th_coef', 'mean_MFCC_2nd_coef', 'mean_12th_delta_delta', 'mean_MFCC_12th_coef', 'std_MFCC_9th_coef', 'mean_MFCC_11th_coef', 'mean_11th_delta', 'std_12th_delta_delta', 'std_9th_delta', 'std_8th_delta', 'app_LT_entropy_log_8_coef', 'app_LT_entropy_shannon_2_coef', 'std_12th_delta', 'det_LT_entropy_log_10_coef', 'std_10th_delta_delta', 'app_LT_entropy_shannon_3_coef', 'app_LT_entropy_shannon_8_coef', 'det_entropy_log_9_coef', 'app_entropy_log_10_coef', 'std_8th_delta_delta', 'std_9th_delta_delta', 'app_entropy_log_8_coef', 'app_LT_entropy_shannon_5_coef', 'app_LT_entropy_shannon_6_coef', 'app_LT_entropy_shannon_7_coef', 'det_entropy_log_8_coef', 'app_entropy_log_7_coef', 'app_LT_entropy_shannon_9_coef', 'det_LT_entropy_log_9_coef', 'app_entropy_log_6_coef', 'std_11th_delta_delta', 'app_LT_entropy_shannon_10_coef', 'std_10th_delta', 'app_entropy_log_9_coef', 'app_LT_entropy_shannon_4_coef', 'std_6th_delta_delta', 'det_entropy_log_10_coef', 'RPDE', 'DFA', 'meanPeriodPulses', 'meanHarmToNoiseHarmonicity', 'app_LT_TKEO_std_2_coef', 'app_LT_TKEO_std_3_coef', 'app_LT_TKEO_mean_6_coef', 'app_LT_TKEO_std_8_coef', 'app_LT_entropy_log_10_coef', 'app_LT_TKEO_mean_10_coef', 'app_LT_TKEO_mean_4_coef', 'app_LT_TKEO_mean_8_coef', 'app_LT_TKEO_mean_7_coef', 'app_LT_TKEO_std_5_coef', 'app_LT_entropy_log_9_coef', 'app_LT_TKEO_std_10_coef', 'app_LT_TKEO_std_6_coef', 'app_LT_TKEO_mean_5_coef', 'app_LT_TKEO_std_9_coef', 'app_LT_TKEO_mean_9_coef', 'app_LT_TKEO_std_4_coef', 'app_LT_TKEO_std_7_coef', 'f3', 'f2', 'f1', 'f4', 'class']\n"
     ]
    }
   ],
   "source": [
    "pdh = pd.read_csv(r'/kaggle/input/pd-datas/trinary_feature_FH/mfccs_wavelet_concat_FH.csv')\n",
    "\n",
    "print(pdh.head())\n",
    "#print('The shape of the matrix is :', pdh.shape)\n",
    "print(list(pdh.columns))"
   ]
  },
  {
   "cell_type": "code",
   "execution_count": 4,
   "id": "f63cd4a0",
   "metadata": {
    "execution": {
     "iopub.execute_input": "2022-02-13T13:23:58.876101Z",
     "iopub.status.busy": "2022-02-13T13:23:58.875164Z",
     "iopub.status.idle": "2022-02-13T13:23:58.877276Z",
     "shell.execute_reply": "2022-02-13T13:23:58.877712Z",
     "shell.execute_reply.started": "2022-02-13T12:50:40.926211Z"
    },
    "papermill": {
     "duration": 0.024577,
     "end_time": "2022-02-13T13:23:58.877845",
     "exception": false,
     "start_time": "2022-02-13T13:23:58.853268",
     "status": "completed"
    },
    "tags": []
   },
   "outputs": [],
   "source": [
    "df=pdh\n",
    "train_df=df.values\n",
    "x_train=train_df[:,:-1]\n",
    "y_train=train_df[:,-1]"
   ]
  },
  {
   "cell_type": "code",
   "execution_count": 5,
   "id": "7008a1cb",
   "metadata": {
    "execution": {
     "iopub.execute_input": "2022-02-13T13:23:58.911519Z",
     "iopub.status.busy": "2022-02-13T13:23:58.910605Z",
     "iopub.status.idle": "2022-02-13T13:23:58.916454Z",
     "shell.execute_reply": "2022-02-13T13:23:58.916908Z",
     "shell.execute_reply.started": "2022-02-13T12:50:41.422290Z"
    },
    "papermill": {
     "duration": 0.024209,
     "end_time": "2022-02-13T13:23:58.917074",
     "exception": false,
     "start_time": "2022-02-13T13:23:58.892865",
     "status": "completed"
    },
    "tags": []
   },
   "outputs": [],
   "source": [
    "from sklearn.preprocessing import StandardScaler\n",
    "sc = StandardScaler()\n",
    "x_train= sc.fit_transform(x_train)\n",
    "#newly added\n",
    "kfold=KFold(252, shuffle=False)#random_state=10"
   ]
  },
  {
   "cell_type": "code",
   "execution_count": 6,
   "id": "20ab67d2",
   "metadata": {
    "execution": {
     "iopub.execute_input": "2022-02-13T13:23:58.954145Z",
     "iopub.status.busy": "2022-02-13T13:23:58.953364Z",
     "iopub.status.idle": "2022-02-13T13:23:58.955622Z",
     "shell.execute_reply": "2022-02-13T13:23:58.956137Z",
     "shell.execute_reply.started": "2022-02-13T12:50:43.010628Z"
    },
    "papermill": {
     "duration": 0.02385,
     "end_time": "2022-02-13T13:23:58.956307",
     "exception": false,
     "start_time": "2022-02-13T13:23:58.932457",
     "status": "completed"
    },
    "tags": []
   },
   "outputs": [],
   "source": [
    "def svm_model(X,y, kfold):\n",
    "    params={'C':[0.1, 1, 10, 100,], 'gamma':[ 0.1, 0.01, 0.001, 0.0001], 'kernel':['rbf']}\n",
    "\n",
    "    grid=GridSearchCV(svm.SVC(probability=True, random_state=10),params,cv=kfold, refit=True, verbose=1)\n",
    "    grid.fit(X,y)\n",
    "    \n",
    "    return grid"
   ]
  },
  {
   "cell_type": "code",
   "execution_count": 7,
   "id": "f46cd872",
   "metadata": {
    "execution": {
     "iopub.execute_input": "2022-02-13T13:23:58.991675Z",
     "iopub.status.busy": "2022-02-13T13:23:58.991039Z",
     "iopub.status.idle": "2022-02-13T13:39:01.357671Z",
     "shell.execute_reply": "2022-02-13T13:39:01.358129Z",
     "shell.execute_reply.started": "2022-02-13T12:50:45.393136Z"
    },
    "papermill": {
     "duration": 902.387008,
     "end_time": "2022-02-13T13:39:01.358282",
     "exception": false,
     "start_time": "2022-02-13T13:23:58.971274",
     "status": "completed"
    },
    "tags": []
   },
   "outputs": [
    {
     "name": "stdout",
     "output_type": "stream",
     "text": [
      "Fitting 252 folds for each of 16 candidates, totalling 4032 fits\n"
     ]
    },
    {
     "name": "stderr",
     "output_type": "stream",
     "text": [
      "[Parallel(n_jobs=1)]: Using backend SequentialBackend with 1 concurrent workers.\n",
      "[Parallel(n_jobs=1)]: Done 4032 out of 4032 | elapsed: 15.0min finished\n"
     ]
    }
   ],
   "source": [
    "grid=svm_model(x_train, y_train,kfold)"
   ]
  },
  {
   "cell_type": "code",
   "execution_count": 8,
   "id": "d70a3281",
   "metadata": {
    "execution": {
     "iopub.execute_input": "2022-02-13T13:39:01.396931Z",
     "iopub.status.busy": "2022-02-13T13:39:01.395009Z",
     "iopub.status.idle": "2022-02-13T13:39:01.400776Z",
     "shell.execute_reply": "2022-02-13T13:39:01.401330Z",
     "shell.execute_reply.started": "2022-02-13T13:07:23.328295Z"
    },
    "papermill": {
     "duration": 0.02608,
     "end_time": "2022-02-13T13:39:01.401485",
     "exception": false,
     "start_time": "2022-02-13T13:39:01.375405",
     "status": "completed"
    },
    "tags": []
   },
   "outputs": [
    {
     "name": "stdout",
     "output_type": "stream",
     "text": [
      "{'C': 100, 'gamma': 0.0001, 'kernel': 'rbf'}\n",
      "0.8042328042328043\n"
     ]
    }
   ],
   "source": [
    "from statistics import mean\n",
    "print(grid.best_params_)\n",
    "print(grid.best_score_)"
   ]
  },
  {
   "cell_type": "code",
   "execution_count": 9,
   "id": "0d9a6eb3",
   "metadata": {
    "execution": {
     "iopub.execute_input": "2022-02-13T13:39:01.438551Z",
     "iopub.status.busy": "2022-02-13T13:39:01.437995Z",
     "iopub.status.idle": "2022-02-13T13:39:44.417901Z",
     "shell.execute_reply": "2022-02-13T13:39:44.417335Z",
     "shell.execute_reply.started": "2022-02-13T13:20:18.555306Z"
    },
    "papermill": {
     "duration": 42.99895,
     "end_time": "2022-02-13T13:39:44.418044",
     "exception": false,
     "start_time": "2022-02-13T13:39:01.419094",
     "status": "completed"
    },
    "tags": []
   },
   "outputs": [
    {
     "name": "stderr",
     "output_type": "stream",
     "text": [
      "/opt/conda/lib/python3.7/site-packages/sklearn/metrics/_classification.py:1465: UndefinedMetricWarning: F-score is ill-defined and being set to 0.0 due to no true nor predicted samples. Use `zero_division` parameter to control this behavior.\n",
      "  average, \"true nor predicted\", 'F-score is', len(true_sum)\n",
      "/opt/conda/lib/python3.7/site-packages/sklearn/metrics/_classification.py:1465: UndefinedMetricWarning: F-score is ill-defined and being set to 0.0 due to no true nor predicted samples. Use `zero_division` parameter to control this behavior.\n",
      "  average, \"true nor predicted\", 'F-score is', len(true_sum)\n",
      "/opt/conda/lib/python3.7/site-packages/sklearn/metrics/_classification.py:1465: UndefinedMetricWarning: F-score is ill-defined and being set to 0.0 due to no true nor predicted samples. Use `zero_division` parameter to control this behavior.\n",
      "  average, \"true nor predicted\", 'F-score is', len(true_sum)\n",
      "/opt/conda/lib/python3.7/site-packages/sklearn/metrics/_classification.py:1465: UndefinedMetricWarning: F-score is ill-defined and being set to 0.0 due to no true nor predicted samples. Use `zero_division` parameter to control this behavior.\n",
      "  average, \"true nor predicted\", 'F-score is', len(true_sum)\n",
      "/opt/conda/lib/python3.7/site-packages/sklearn/metrics/_classification.py:1465: UndefinedMetricWarning: F-score is ill-defined and being set to 0.0 due to no true nor predicted samples. Use `zero_division` parameter to control this behavior.\n",
      "  average, \"true nor predicted\", 'F-score is', len(true_sum)\n",
      "/opt/conda/lib/python3.7/site-packages/sklearn/metrics/_classification.py:1465: UndefinedMetricWarning: F-score is ill-defined and being set to 0.0 due to no true nor predicted samples. Use `zero_division` parameter to control this behavior.\n",
      "  average, \"true nor predicted\", 'F-score is', len(true_sum)\n",
      "/opt/conda/lib/python3.7/site-packages/sklearn/metrics/_classification.py:1465: UndefinedMetricWarning: F-score is ill-defined and being set to 0.0 due to no true nor predicted samples. Use `zero_division` parameter to control this behavior.\n",
      "  average, \"true nor predicted\", 'F-score is', len(true_sum)\n",
      "/opt/conda/lib/python3.7/site-packages/sklearn/metrics/_classification.py:1465: UndefinedMetricWarning: F-score is ill-defined and being set to 0.0 due to no true nor predicted samples. Use `zero_division` parameter to control this behavior.\n",
      "  average, \"true nor predicted\", 'F-score is', len(true_sum)\n",
      "/opt/conda/lib/python3.7/site-packages/sklearn/metrics/_classification.py:1465: UndefinedMetricWarning: F-score is ill-defined and being set to 0.0 due to no true nor predicted samples. Use `zero_division` parameter to control this behavior.\n",
      "  average, \"true nor predicted\", 'F-score is', len(true_sum)\n",
      "/opt/conda/lib/python3.7/site-packages/sklearn/metrics/_classification.py:1465: UndefinedMetricWarning: F-score is ill-defined and being set to 0.0 due to no true nor predicted samples. Use `zero_division` parameter to control this behavior.\n",
      "  average, \"true nor predicted\", 'F-score is', len(true_sum)\n",
      "/opt/conda/lib/python3.7/site-packages/sklearn/metrics/_classification.py:1465: UndefinedMetricWarning: F-score is ill-defined and being set to 0.0 due to no true nor predicted samples. Use `zero_division` parameter to control this behavior.\n",
      "  average, \"true nor predicted\", 'F-score is', len(true_sum)\n",
      "/opt/conda/lib/python3.7/site-packages/sklearn/metrics/_classification.py:1465: UndefinedMetricWarning: F-score is ill-defined and being set to 0.0 due to no true nor predicted samples. Use `zero_division` parameter to control this behavior.\n",
      "  average, \"true nor predicted\", 'F-score is', len(true_sum)\n",
      "/opt/conda/lib/python3.7/site-packages/sklearn/metrics/_classification.py:1465: UndefinedMetricWarning: F-score is ill-defined and being set to 0.0 due to no true nor predicted samples. Use `zero_division` parameter to control this behavior.\n",
      "  average, \"true nor predicted\", 'F-score is', len(true_sum)\n",
      "/opt/conda/lib/python3.7/site-packages/sklearn/metrics/_classification.py:1465: UndefinedMetricWarning: F-score is ill-defined and being set to 0.0 due to no true nor predicted samples. Use `zero_division` parameter to control this behavior.\n",
      "  average, \"true nor predicted\", 'F-score is', len(true_sum)\n",
      "/opt/conda/lib/python3.7/site-packages/sklearn/metrics/_classification.py:1465: UndefinedMetricWarning: F-score is ill-defined and being set to 0.0 due to no true nor predicted samples. Use `zero_division` parameter to control this behavior.\n",
      "  average, \"true nor predicted\", 'F-score is', len(true_sum)\n",
      "/opt/conda/lib/python3.7/site-packages/sklearn/metrics/_classification.py:1465: UndefinedMetricWarning: F-score is ill-defined and being set to 0.0 due to no true nor predicted samples. Use `zero_division` parameter to control this behavior.\n",
      "  average, \"true nor predicted\", 'F-score is', len(true_sum)\n"
     ]
    },
    {
     "name": "stdout",
     "output_type": "stream",
     "text": [
      "acc: 0.8042328042328042\n",
      "f1: 0.7083333333333334\n"
     ]
    }
   ],
   "source": [
    "wrong_pred_indices=[]\n",
    "d={}\n",
    "svm_estimator=svm.SVC(C= 100, gamma= 0.0001, kernel= 'rbf',probability=True, random_state=10)\n",
    "i=0\n",
    "\n",
    "correct_ones_=[]#collects correct pd postive predictions\n",
    "correct_zeros_=[]#collects correct pd negative predictions\n",
    "\n",
    "wrong_ones_=[]#collect wrong pd positive predictions\n",
    "wrong_zeros_=[]#collect wrong pd negative predictions\n",
    "\n",
    "tp=[]# true positive\n",
    "tn=[]# true negative\n",
    "fp=[]# false positive\n",
    "fn=[]# false negative\n",
    "\n",
    "tridx=[]\n",
    "tstidx=[]\n",
    "acc=[]\n",
    "mcc=[]\n",
    "f1=[]\n",
    "tsts=[]\n",
    "\n",
    "for trids, tstids in kfold.split(x_train):\n",
    "    \n",
    "    trainx, testx= x_train[trids,:], x_train[tstids,:]\n",
    "    trainy, testy= y_train[trids], y_train[tstids]\n",
    "    \n",
    "    svm_estimator.fit(trainx, trainy)\n",
    "    \n",
    "    preds=svm_estimator.predict(x_train[tstids,:])\n",
    "    \n",
    "    acc.append(accuracy_score(testy,svm_estimator.predict(testx)))\n",
    "    #mcc.append(matthews_corrcoef(testy, svm_estimator.predict(testx)))\n",
    "    f1.append(f1_score(testy, svm_estimator.predict(testx)))\n",
    "    \n",
    "    for i in range(len(tstids)):\n",
    "        tsts.append(tstids[i])\n",
    "    \n",
    "    \n",
    "    if (i==9):#checking if it is last split\n",
    "        tridx=trids\n",
    "        tstidx=tstids\n",
    "\n",
    "        for j in range(len(tstids)):\n",
    "            if(preds[j]==0 and (y_train[tstids[j]]==0) ):\n",
    "                correct_zeros_.append(j)\n",
    "                tn.append(j)\n",
    "                \n",
    "            if(preds[j]==0 and (y_train[tstids[j]]==1) ):\n",
    "                wrong_zeros_.append(j)\n",
    "                fn.append(j)\n",
    "                \n",
    "            if(preds[j]==1 and (y_train[tstids[j]]==1) ):\n",
    "                correct_ones_.append(j)\n",
    "                tp.append(j)\n",
    "                \n",
    "            if(preds[j]==1 and y_train[tstids[j]]==0):\n",
    "                wrong_ones_.append(j)  \n",
    "                fp.append(j)\n",
    "    i=i+1\n",
    "\n",
    "print('acc:', mean(acc))\n",
    "print('f1:', mean(f1))\n",
    "#print('mcc:', mean(mcc))\n"
   ]
  },
  {
   "cell_type": "code",
   "execution_count": 10,
   "id": "eaae6fd6",
   "metadata": {
    "execution": {
     "iopub.execute_input": "2022-02-13T13:39:44.467047Z",
     "iopub.status.busy": "2022-02-13T13:39:44.466459Z",
     "iopub.status.idle": "2022-02-13T13:39:44.669692Z",
     "shell.execute_reply": "2022-02-13T13:39:44.669190Z",
     "shell.execute_reply.started": "2022-02-13T13:21:06.221768Z"
    },
    "papermill": {
     "duration": 0.227694,
     "end_time": "2022-02-13T13:39:44.669850",
     "exception": false,
     "start_time": "2022-02-13T13:39:44.442156",
     "status": "completed"
    },
    "tags": []
   },
   "outputs": [
    {
     "name": "stdout",
     "output_type": "stream",
     "text": [
      "t: 0  original: 1.0  patient no:  0  prediction 1.0\n",
      "t: 3  original: 1.0  patient no:  1  prediction 1.0\n",
      "t: 6  original: 1.0  patient no:  2  prediction 1.0\n",
      "t: 9  original: 1.0  patient no:  3  prediction 1.0\n",
      "t: 12  original: 1.0  patient no:  4  prediction 1.0\n",
      "t: 15  original: 1.0  patient no:  5  prediction 1.0\n",
      "t: 18  original: 1.0  patient no:  6  prediction 1.0\n",
      "t: 21  original: 1.0  patient no:  7  prediction 1.0\n",
      "t: 24  original: 1.0  patient no:  8  prediction 1.0\n",
      "t: 27  original: 1.0  patient no:  9  prediction 1.0\n",
      "t: 30  original: 1.0  patient no:  10  prediction 1.0\n",
      "t: 33  original: 0.0  patient no:  11  prediction 0.6666666666666666\n",
      "t: 36  original: 1.0  patient no:  12  prediction 1.0\n",
      "t: 39  original: 1.0  patient no:  13  prediction 0.3333333333333333\n",
      "t: 42  original: 0.0  patient no:  14  prediction 0.0\n",
      "t: 45  original: 1.0  patient no:  15  prediction 1.0\n",
      "t: 48  original: 1.0  patient no:  16  prediction 1.0\n",
      "t: 51  original: 1.0  patient no:  17  prediction 1.0\n",
      "t: 54  original: 1.0  patient no:  18  prediction 1.0\n",
      "t: 57  original: 1.0  patient no:  19  prediction 1.0\n",
      "t: 60  original: 1.0  patient no:  20  prediction 1.0\n",
      "t: 63  original: 1.0  patient no:  21  prediction 1.0\n",
      "t: 66  original: 1.0  patient no:  22  prediction 1.0\n",
      "t: 69  original: 1.0  patient no:  23  prediction 1.0\n",
      "t: 72  original: 0.0  patient no:  24  prediction 0.6666666666666666\n",
      "t: 75  original: 1.0  patient no:  25  prediction 1.0\n",
      "t: 78  original: 0.0  patient no:  26  prediction 0.0\n",
      "t: 81  original: 0.0  patient no:  27  prediction 0.0\n",
      "t: 84  original: 1.0  patient no:  28  prediction 0.3333333333333333\n",
      "t: 87  original: 0.0  patient no:  29  prediction 0.3333333333333333\n",
      "t: 90  original: 1.0  patient no:  30  prediction 1.0\n",
      "t: 93  original: 1.0  patient no:  31  prediction 1.0\n",
      "t: 96  original: 1.0  patient no:  32  prediction 1.0\n",
      "t: 99  original: 0.0  patient no:  33  prediction 0.0\n",
      "t: 102  original: 0.0  patient no:  34  prediction 0.3333333333333333\n",
      "t: 105  original: 1.0  patient no:  35  prediction 1.0\n",
      "t: 108  original: 1.0  patient no:  36  prediction 0.6666666666666666\n",
      "t: 111  original: 1.0  patient no:  37  prediction 1.0\n",
      "t: 114  original: 1.0  patient no:  38  prediction 1.0\n",
      "t: 117  original: 1.0  patient no:  39  prediction 1.0\n",
      "t: 120  original: 1.0  patient no:  40  prediction 1.0\n",
      "t: 123  original: 0.0  patient no:  41  prediction 1.0\n",
      "t: 126  original: 0.0  patient no:  42  prediction 0.0\n",
      "t: 129  original: 1.0  patient no:  43  prediction 1.0\n",
      "t: 132  original: 1.0  patient no:  44  prediction 1.0\n",
      "t: 135  original: 0.0  patient no:  45  prediction 0.0\n",
      "t: 138  original: 1.0  patient no:  46  prediction 1.0\n",
      "t: 141  original: 0.0  patient no:  47  prediction 1.0\n",
      "t: 144  original: 0.0  patient no:  48  prediction 0.6666666666666666\n",
      "t: 147  original: 0.0  patient no:  49  prediction 1.0\n",
      "t: 150  original: 1.0  patient no:  50  prediction 1.0\n",
      "t: 153  original: 1.0  patient no:  51  prediction 1.0\n",
      "t: 156  original: 1.0  patient no:  52  prediction 1.0\n",
      "t: 159  original: 1.0  patient no:  53  prediction 1.0\n",
      "t: 162  original: 1.0  patient no:  54  prediction 1.0\n",
      "t: 165  original: 1.0  patient no:  55  prediction 1.0\n",
      "t: 168  original: 1.0  patient no:  56  prediction 1.0\n",
      "t: 171  original: 1.0  patient no:  57  prediction 1.0\n",
      "t: 174  original: 1.0  patient no:  58  prediction 1.0\n",
      "t: 177  original: 1.0  patient no:  59  prediction 1.0\n",
      "t: 180  original: 1.0  patient no:  60  prediction 1.0\n",
      "t: 183  original: 1.0  patient no:  61  prediction 1.0\n",
      "t: 186  original: 1.0  patient no:  62  prediction 1.0\n",
      "t: 189  original: 1.0  patient no:  63  prediction 1.0\n",
      "t: 192  original: 1.0  patient no:  64  prediction 1.0\n",
      "t: 195  original: 0.0  patient no:  65  prediction 0.0\n",
      "t: 198  original: 1.0  patient no:  66  prediction 1.0\n",
      "t: 201  original: 1.0  patient no:  67  prediction 0.3333333333333333\n",
      "t: 204  original: 1.0  patient no:  68  prediction 1.0\n",
      "t: 207  original: 0.0  patient no:  69  prediction 1.0\n",
      "t: 210  original: 1.0  patient no:  70  prediction 1.0\n",
      "t: 213  original: 1.0  patient no:  71  prediction 1.0\n",
      "t: 216  original: 1.0  patient no:  72  prediction 1.0\n",
      "t: 219  original: 0.0  patient no:  73  prediction 0.0\n",
      "t: 222  original: 1.0  patient no:  74  prediction 1.0\n",
      "t: 225  original: 0.0  patient no:  75  prediction 0.0\n",
      "t: 228  original: 1.0  patient no:  76  prediction 1.0\n",
      "t: 231  original: 1.0  patient no:  77  prediction 1.0\n",
      "t: 234  original: 0.0  patient no:  78  prediction 0.0\n",
      "t: 237  original: 1.0  patient no:  79  prediction 1.0\n",
      "t: 240  original: 1.0  patient no:  80  prediction 1.0\n",
      "t: 243  original: 1.0  patient no:  81  prediction 0.6666666666666666\n",
      "t: 246  original: 1.0  patient no:  82  prediction 1.0\n",
      "t: 249  original: 0.0  patient no:  83  prediction 0.0\n",
      "t: 252  original: 1.0  patient no:  84  prediction 1.0\n",
      "t: 255  original: 1.0  patient no:  85  prediction 1.0\n",
      "t: 258  original: 1.0  patient no:  86  prediction 1.0\n",
      "t: 261  original: 1.0  patient no:  87  prediction 1.0\n",
      "t: 264  original: 1.0  patient no:  88  prediction 1.0\n",
      "t: 267  original: 0.0  patient no:  89  prediction 1.0\n",
      "t: 270  original: 1.0  patient no:  90  prediction 1.0\n",
      "t: 273  original: 1.0  patient no:  91  prediction 1.0\n",
      "t: 276  original: 1.0  patient no:  92  prediction 1.0\n",
      "t: 279  original: 1.0  patient no:  93  prediction 1.0\n",
      "t: 282  original: 1.0  patient no:  94  prediction 1.0\n",
      "t: 285  original: 1.0  patient no:  95  prediction 1.0\n",
      "t: 288  original: 0.0  patient no:  96  prediction 0.3333333333333333\n",
      "t: 291  original: 1.0  patient no:  97  prediction 1.0\n",
      "t: 294  original: 1.0  patient no:  98  prediction 1.0\n",
      "t: 297  original: 1.0  patient no:  99  prediction 0.6666666666666666\n",
      "t: 300  original: 1.0  patient no:  100  prediction 1.0\n",
      "t: 303  original: 1.0  patient no:  101  prediction 1.0\n",
      "t: 306  original: 1.0  patient no:  102  prediction 1.0\n",
      "t: 309  original: 0.0  patient no:  103  prediction 0.3333333333333333\n",
      "t: 312  original: 1.0  patient no:  104  prediction 1.0\n",
      "t: 315  original: 1.0  patient no:  105  prediction 1.0\n",
      "t: 318  original: 1.0  patient no:  106  prediction 1.0\n",
      "t: 321  original: 1.0  patient no:  107  prediction 1.0\n",
      "t: 324  original: 1.0  patient no:  108  prediction 1.0\n",
      "t: 327  original: 1.0  patient no:  109  prediction 1.0\n",
      "t: 330  original: 1.0  patient no:  110  prediction 1.0\n",
      "t: 333  original: 0.0  patient no:  111  prediction 0.0\n",
      "t: 336  original: 1.0  patient no:  112  prediction 1.0\n",
      "t: 339  original: 1.0  patient no:  113  prediction 1.0\n",
      "t: 342  original: 1.0  patient no:  114  prediction 1.0\n",
      "t: 345  original: 1.0  patient no:  115  prediction 1.0\n",
      "t: 348  original: 1.0  patient no:  116  prediction 1.0\n",
      "t: 351  original: 1.0  patient no:  117  prediction 1.0\n",
      "t: 354  original: 1.0  patient no:  118  prediction 1.0\n",
      "t: 357  original: 0.0  patient no:  119  prediction 1.0\n",
      "t: 360  original: 1.0  patient no:  120  prediction 0.0\n",
      "t: 363  original: 1.0  patient no:  121  prediction 1.0\n",
      "t: 366  original: 1.0  patient no:  122  prediction 1.0\n",
      "t: 369  original: 0.0  patient no:  123  prediction 0.6666666666666666\n",
      "t: 372  original: 1.0  patient no:  124  prediction 1.0\n",
      "t: 375  original: 0.0  patient no:  125  prediction 0.6666666666666666\n",
      "t: 378  original: 1.0  patient no:  126  prediction 1.0\n",
      "t: 381  original: 1.0  patient no:  127  prediction 1.0\n",
      "t: 384  original: 1.0  patient no:  128  prediction 1.0\n",
      "t: 387  original: 1.0  patient no:  129  prediction 1.0\n",
      "t: 390  original: 0.0  patient no:  130  prediction 0.0\n",
      "t: 393  original: 0.0  patient no:  131  prediction 1.0\n",
      "t: 396  original: 0.0  patient no:  132  prediction 0.6666666666666666\n",
      "t: 399  original: 1.0  patient no:  133  prediction 0.6666666666666666\n",
      "t: 402  original: 1.0  patient no:  134  prediction 1.0\n",
      "t: 405  original: 0.0  patient no:  135  prediction 0.6666666666666666\n",
      "t: 408  original: 0.0  patient no:  136  prediction 0.0\n",
      "t: 411  original: 1.0  patient no:  137  prediction 1.0\n",
      "t: 414  original: 1.0  patient no:  138  prediction 1.0\n",
      "t: 417  original: 1.0  patient no:  139  prediction 1.0\n",
      "t: 420  original: 1.0  patient no:  140  prediction 1.0\n",
      "t: 423  original: 1.0  patient no:  141  prediction 1.0\n",
      "t: 426  original: 1.0  patient no:  142  prediction 1.0\n",
      "t: 429  original: 1.0  patient no:  143  prediction 1.0\n",
      "t: 432  original: 1.0  patient no:  144  prediction 1.0\n",
      "t: 435  original: 1.0  patient no:  145  prediction 1.0\n",
      "t: 438  original: 1.0  patient no:  146  prediction 1.0\n",
      "t: 441  original: 1.0  patient no:  147  prediction 0.0\n",
      "t: 444  original: 1.0  patient no:  148  prediction 0.3333333333333333\n",
      "t: 447  original: 0.0  patient no:  149  prediction 1.0\n",
      "t: 450  original: 1.0  patient no:  150  prediction 1.0\n",
      "t: 453  original: 1.0  patient no:  151  prediction 1.0\n",
      "t: 456  original: 1.0  patient no:  152  prediction 1.0\n",
      "t: 459  original: 0.0  patient no:  153  prediction 0.0\n",
      "t: 462  original: 1.0  patient no:  154  prediction 1.0\n",
      "t: 465  original: 1.0  patient no:  155  prediction 1.0\n",
      "t: 468  original: 0.0  patient no:  156  prediction 0.3333333333333333\n",
      "t: 471  original: 0.0  patient no:  157  prediction 0.0\n",
      "t: 474  original: 1.0  patient no:  158  prediction 1.0\n",
      "t: 477  original: 1.0  patient no:  159  prediction 1.0\n",
      "t: 480  original: 1.0  patient no:  160  prediction 0.6666666666666666\n",
      "t: 483  original: 1.0  patient no:  161  prediction 1.0\n",
      "t: 486  original: 1.0  patient no:  162  prediction 1.0\n",
      "t: 489  original: 0.0  patient no:  163  prediction 0.0\n",
      "t: 492  original: 1.0  patient no:  164  prediction 1.0\n",
      "t: 495  original: 1.0  patient no:  165  prediction 1.0\n",
      "t: 498  original: 1.0  patient no:  166  prediction 1.0\n",
      "t: 501  original: 1.0  patient no:  167  prediction 1.0\n",
      "t: 504  original: 1.0  patient no:  168  prediction 1.0\n",
      "t: 507  original: 1.0  patient no:  169  prediction 1.0\n",
      "t: 510  original: 1.0  patient no:  170  prediction 1.0\n",
      "t: 513  original: 1.0  patient no:  171  prediction 1.0\n",
      "t: 516  original: 1.0  patient no:  172  prediction 0.6666666666666666\n",
      "t: 519  original: 0.0  patient no:  173  prediction 0.6666666666666666\n",
      "t: 522  original: 1.0  patient no:  174  prediction 1.0\n",
      "t: 525  original: 1.0  patient no:  175  prediction 0.0\n",
      "t: 528  original: 1.0  patient no:  176  prediction 0.3333333333333333\n",
      "t: 531  original: 1.0  patient no:  177  prediction 1.0\n",
      "t: 534  original: 0.0  patient no:  178  prediction 1.0\n",
      "t: 537  original: 1.0  patient no:  179  prediction 1.0\n",
      "t: 540  original: 0.0  patient no:  180  prediction 1.0\n",
      "t: 543  original: 1.0  patient no:  181  prediction 1.0\n",
      "t: 546  original: 1.0  patient no:  182  prediction 1.0\n",
      "t: 549  original: 1.0  patient no:  183  prediction 1.0\n",
      "t: 552  original: 1.0  patient no:  184  prediction 1.0\n",
      "t: 555  original: 1.0  patient no:  185  prediction 1.0\n",
      "t: 558  original: 1.0  patient no:  186  prediction 1.0\n",
      "t: 561  original: 0.0  patient no:  187  prediction 1.0\n",
      "t: 564  original: 1.0  patient no:  188  prediction 0.6666666666666666\n",
      "t: 567  original: 0.0  patient no:  189  prediction 0.3333333333333333\n",
      "t: 570  original: 1.0  patient no:  190  prediction 1.0\n",
      "t: 573  original: 1.0  patient no:  191  prediction 1.0\n",
      "t: 576  original: 0.0  patient no:  192  prediction 1.0\n",
      "t: 579  original: 1.0  patient no:  193  prediction 1.0\n",
      "t: 582  original: 0.0  patient no:  194  prediction 1.0\n",
      "t: 585  original: 0.0  patient no:  195  prediction 0.3333333333333333\n",
      "t: 588  original: 0.0  patient no:  196  prediction 1.0\n",
      "t: 591  original: 1.0  patient no:  197  prediction 1.0\n",
      "t: 594  original: 0.0  patient no:  198  prediction 0.3333333333333333\n",
      "t: 597  original: 1.0  patient no:  199  prediction 1.0\n",
      "t: 600  original: 1.0  patient no:  200  prediction 1.0\n",
      "t: 603  original: 1.0  patient no:  201  prediction 0.6666666666666666\n",
      "t: 606  original: 1.0  patient no:  202  prediction 1.0\n",
      "t: 609  original: 0.0  patient no:  203  prediction 0.0\n",
      "t: 612  original: 1.0  patient no:  204  prediction 1.0\n",
      "t: 615  original: 1.0  patient no:  205  prediction 1.0\n",
      "t: 618  original: 1.0  patient no:  206  prediction 1.0\n",
      "t: 621  original: 1.0  patient no:  207  prediction 1.0\n",
      "t: 624  original: 1.0  patient no:  208  prediction 1.0\n",
      "t: 627  original: 1.0  patient no:  209  prediction 1.0\n",
      "t: 630  original: 0.0  patient no:  210  prediction 0.0\n",
      "t: 633  original: 1.0  patient no:  211  prediction 1.0\n",
      "t: 636  original: 1.0  patient no:  212  prediction 1.0\n",
      "t: 639  original: 0.0  patient no:  213  prediction 0.0\n",
      "t: 642  original: 1.0  patient no:  214  prediction 1.0\n",
      "t: 645  original: 1.0  patient no:  215  prediction 1.0\n",
      "t: 648  original: 0.0  patient no:  216  prediction 0.0\n",
      "t: 651  original: 1.0  patient no:  217  prediction 1.0\n",
      "t: 654  original: 1.0  patient no:  218  prediction 1.0\n",
      "t: 657  original: 0.0  patient no:  219  prediction 0.0\n",
      "t: 660  original: 1.0  patient no:  220  prediction 1.0\n",
      "t: 663  original: 0.0  patient no:  221  prediction 0.3333333333333333\n",
      "t: 666  original: 0.0  patient no:  222  prediction 0.0\n",
      "t: 669  original: 1.0  patient no:  223  prediction 1.0\n",
      "t: 672  original: 1.0  patient no:  224  prediction 1.0\n",
      "t: 675  original: 1.0  patient no:  225  prediction 1.0\n",
      "t: 678  original: 1.0  patient no:  226  prediction 0.6666666666666666\n",
      "t: 681  original: 1.0  patient no:  227  prediction 1.0\n",
      "t: 684  original: 1.0  patient no:  228  prediction 1.0\n",
      "t: 687  original: 1.0  patient no:  229  prediction 1.0\n",
      "t: 690  original: 1.0  patient no:  230  prediction 0.6666666666666666\n",
      "t: 693  original: 1.0  patient no:  231  prediction 1.0\n",
      "t: 696  original: 0.0  patient no:  232  prediction 1.0\n",
      "t: 699  original: 1.0  patient no:  233  prediction 0.0\n",
      "t: 702  original: 0.0  patient no:  234  prediction 0.3333333333333333\n",
      "t: 705  original: 0.0  patient no:  235  prediction 0.3333333333333333\n",
      "t: 708  original: 1.0  patient no:  236  prediction 0.3333333333333333\n",
      "t: 711  original: 0.0  patient no:  237  prediction 0.3333333333333333\n",
      "t: 714  original: 1.0  patient no:  238  prediction 1.0\n",
      "t: 717  original: 1.0  patient no:  239  prediction 1.0\n",
      "t: 720  original: 1.0  patient no:  240  prediction 1.0\n",
      "t: 723  original: 1.0  patient no:  241  prediction 0.3333333333333333\n",
      "t: 726  original: 0.0  patient no:  242  prediction 0.0\n",
      "t: 729  original: 1.0  patient no:  243  prediction 1.0\n",
      "t: 732  original: 0.0  patient no:  244  prediction 1.0\n",
      "t: 735  original: 0.0  patient no:  245  prediction 0.0\n",
      "t: 738  original: 0.0  patient no:  246  prediction 0.3333333333333333\n",
      "t: 741  original: 1.0  patient no:  247  prediction 1.0\n",
      "t: 744  original: 1.0  patient no:  248  prediction 1.0\n",
      "t: 747  original: 1.0  patient no:  249  prediction 1.0\n",
      "t: 750  original: 0.0  patient no:  250  prediction 0.6666666666666666\n",
      "t: 753  original: 0.0  patient no:  251  prediction 0.3333333333333333\n",
      "true positives:  177\n",
      "true negatives:  25\n",
      "fales positives:  39\n",
      "false negatives:  11\n"
     ]
    }
   ],
   "source": [
    "j=0\n",
    "tpids=[]\n",
    "tpc=0\n",
    "tnids=[]\n",
    "tnc=0\n",
    "fpids=[]\n",
    "fpc=0\n",
    "fnids=[]\n",
    "fnc=0\n",
    "\n",
    "#performing majority voting\n",
    "# if accurately predicted over 0.66 for 3 that means we predicted correctly for the whole sample\n",
    "\n",
    "for t in range(0,len(y_train),3):\n",
    "    print('t:',t,\" original:\", y_train[t],' patient no: ',j, ' prediction',acc[j] )\n",
    "\n",
    "    \n",
    "    if y_train[t]==1 and acc[j]>0.5:\n",
    "        tpc=tpc+1\n",
    "        tpids.append(t)\n",
    "    if y_train[t]==1 and acc[j]<0.5:\n",
    "        fnc=fnc+1\n",
    "        fnids.append(t)\n",
    "    if y_train[t]==0 and acc[j]>0.5:\n",
    "        tnc=tnc+1\n",
    "        tnids.append(t)\n",
    "    if y_train[t]==0 and acc[j]<0.5:\n",
    "        fpc=fpc+1\n",
    "        fpids.append(t)\n",
    "    \n",
    "    j=j+1\n",
    "\n",
    "print(\"true positives: \", tpc)\n",
    "print(\"true negatives: \", tnc)\n",
    "print(\"fales positives: \", fpc)\n",
    "print(\"false negatives: \", fnc)"
   ]
  },
  {
   "cell_type": "code",
   "execution_count": 11,
   "id": "7d31522a",
   "metadata": {
    "execution": {
     "iopub.execute_input": "2022-02-13T13:39:44.722534Z",
     "iopub.status.busy": "2022-02-13T13:39:44.721820Z",
     "iopub.status.idle": "2022-02-13T13:39:44.724887Z",
     "shell.execute_reply": "2022-02-13T13:39:44.725503Z",
     "shell.execute_reply.started": "2022-02-13T13:21:06.466530Z"
    },
    "papermill": {
     "duration": 0.032009,
     "end_time": "2022-02-13T13:39:44.725713",
     "exception": false,
     "start_time": "2022-02-13T13:39:44.693704",
     "status": "completed"
    },
    "tags": []
   },
   "outputs": [
    {
     "name": "stdout",
     "output_type": "stream",
     "text": [
      "f1 score: 0.8762376237623762\n"
     ]
    }
   ],
   "source": [
    "f1=0\n",
    "f1=(tpc)/((tpc+0.5*(fpc+fnc)))\n",
    "print('f1 score:', f1)"
   ]
  },
  {
   "cell_type": "code",
   "execution_count": 12,
   "id": "65a00ebb",
   "metadata": {
    "execution": {
     "iopub.execute_input": "2022-02-13T13:39:44.787576Z",
     "iopub.status.busy": "2022-02-13T13:39:44.786527Z",
     "iopub.status.idle": "2022-02-13T13:39:44.789961Z",
     "shell.execute_reply": "2022-02-13T13:39:44.790567Z",
     "shell.execute_reply.started": "2022-02-13T13:21:06.474054Z"
    },
    "papermill": {
     "duration": 0.040475,
     "end_time": "2022-02-13T13:39:44.790757",
     "exception": false,
     "start_time": "2022-02-13T13:39:44.750282",
     "status": "completed"
    },
    "tags": []
   },
   "outputs": [
    {
     "name": "stdout",
     "output_type": "stream",
     "text": [
      "mcc:  0.4131221130841932\n",
      "precision:  0.8194444444444444\n",
      "recall:  0.9414893617021277\n",
      "accuracy:  0.8015873015873016\n"
     ]
    }
   ],
   "source": [
    "import math\n",
    "mcc=0\n",
    "\n",
    "mcc=(tpc*tnc-fpc*fnc)/math.sqrt((tpc+fpc)*(tpc+fnc)*(tnc+fpc)*(tnc+fnc))\n",
    "print('mcc: ',mcc)\n",
    "precision=tpc/(tpc+fpc)\n",
    "print('precision: ', precision)\n",
    "recall=tpc/(tpc+fnc)\n",
    "print('recall: ',recall)\n",
    "acc=(tpc+tnc)/(tpc+tnc+fpc+fnc)\n",
    "print('accuracy: ', acc)"
   ]
  },
  {
   "cell_type": "code",
   "execution_count": 13,
   "id": "c74dfcd2",
   "metadata": {
    "execution": {
     "iopub.execute_input": "2022-02-13T13:39:44.858095Z",
     "iopub.status.busy": "2022-02-13T13:39:44.857335Z",
     "iopub.status.idle": "2022-02-13T13:39:46.188997Z",
     "shell.execute_reply": "2022-02-13T13:39:46.188326Z",
     "shell.execute_reply.started": "2022-02-13T13:21:06.490284Z"
    },
    "papermill": {
     "duration": 1.364643,
     "end_time": "2022-02-13T13:39:46.189145",
     "exception": false,
     "start_time": "2022-02-13T13:39:44.824502",
     "status": "completed"
    },
    "tags": []
   },
   "outputs": [],
   "source": [
    "import lime\n",
    "import shap"
   ]
  },
  {
   "cell_type": "code",
   "execution_count": 14,
   "id": "c319d709",
   "metadata": {
    "execution": {
     "iopub.execute_input": "2022-02-13T13:39:46.242618Z",
     "iopub.status.busy": "2022-02-13T13:39:46.241931Z",
     "iopub.status.idle": "2022-02-13T13:39:46.244591Z",
     "shell.execute_reply": "2022-02-13T13:39:46.244096Z",
     "shell.execute_reply.started": "2022-02-12T09:37:23.871255Z"
    },
    "papermill": {
     "duration": 0.030141,
     "end_time": "2022-02-13T13:39:46.244731",
     "exception": false,
     "start_time": "2022-02-13T13:39:46.214590",
     "status": "completed"
    },
    "tags": []
   },
   "outputs": [],
   "source": [
    "#would have to do lime and shape later"
   ]
  },
  {
   "cell_type": "code",
   "execution_count": null,
   "id": "78824b1b",
   "metadata": {
    "papermill": {
     "duration": 0.023457,
     "end_time": "2022-02-13T13:39:46.291338",
     "exception": false,
     "start_time": "2022-02-13T13:39:46.267881",
     "status": "completed"
    },
    "tags": []
   },
   "outputs": [],
   "source": []
  }
 ],
 "metadata": {
  "kernelspec": {
   "display_name": "Python 3",
   "language": "python",
   "name": "python3"
  },
  "language_info": {
   "codemirror_mode": {
    "name": "ipython",
    "version": 3
   },
   "file_extension": ".py",
   "mimetype": "text/x-python",
   "name": "python",
   "nbconvert_exporter": "python",
   "pygments_lexer": "ipython3",
   "version": "3.7.12"
  },
  "papermill": {
   "default_parameters": {},
   "duration": 958.110527,
   "end_time": "2022-02-13T13:39:47.025730",
   "environment_variables": {},
   "exception": null,
   "input_path": "__notebook__.ipynb",
   "output_path": "__notebook__.ipynb",
   "parameters": {},
   "start_time": "2022-02-13T13:23:48.915203",
   "version": "2.3.3"
  }
 },
 "nbformat": 4,
 "nbformat_minor": 5
}
