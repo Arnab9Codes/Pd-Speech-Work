{
 "cells": [
  {
   "cell_type": "code",
   "execution_count": 1,
   "id": "f4f4c4b5",
   "metadata": {
    "_cell_guid": "b1076dfc-b9ad-4769-8c92-a6c4dae69d19",
    "_uuid": "8f2839f25d086af736a60e9eeb907d3b93b6e0e5",
    "execution": {
     "iopub.execute_input": "2022-02-16T20:09:08.537090Z",
     "iopub.status.busy": "2022-02-16T20:09:08.535245Z",
     "iopub.status.idle": "2022-02-16T20:09:08.589398Z",
     "shell.execute_reply": "2022-02-16T20:09:08.588465Z",
     "shell.execute_reply.started": "2022-02-16T19:59:45.119745Z"
    },
    "papermill": {
     "duration": 0.080814,
     "end_time": "2022-02-16T20:09:08.589723",
     "exception": false,
     "start_time": "2022-02-16T20:09:08.508909",
     "status": "completed"
    },
    "tags": []
   },
   "outputs": [
    {
     "name": "stdout",
     "output_type": "stream",
     "text": [
      "/kaggle/input/pd-datas/trinary_datasets_only/tqwt_mfccs_concat.csv\n",
      "/kaggle/input/pd-datas/trinary_datasets_only/mfccs_wavelet_concat.csv\n",
      "/kaggle/input/pd-datas/trinary_datasets_only/tqwt_mfccs_wavelet.csv\n",
      "/kaggle/input/pd-datas/trinary_datasets_only/tqwt_wavelet_concat.csv\n",
      "/kaggle/input/pd-datas/binary_datasets_only/tqwt_concat.csv\n",
      "/kaggle/input/pd-datas/binary_datasets_only/mfccs_wavelet.csv\n",
      "/kaggle/input/pd-datas/binary_datasets_only/tqwt_mfccs.csv\n",
      "/kaggle/input/pd-datas/binary_datasets_only/concat_wavelet.csv\n",
      "/kaggle/input/pd-datas/binary_datasets_only/mfccs_concat.csv\n",
      "/kaggle/input/pd-datas/binary_datasets_only/tqwt_wavelet.csv\n",
      "/kaggle/input/pd-datas/trinary_feature_FH/tqwt_wavelet_concat_FH.csv\n",
      "/kaggle/input/pd-datas/trinary_feature_FH/tqwt_mfccs_wavelet_FH.csv\n",
      "/kaggle/input/pd-datas/trinary_feature_FH/tqwt_mfccs_concat_FH.csv\n",
      "/kaggle/input/pd-datas/trinary_feature_FH/mfccs_wavelet_concat_FH.csv\n",
      "/kaggle/input/pd-datas/binary_feature_set_FH/mfccs_wavelet_FH.csv\n",
      "/kaggle/input/pd-datas/binary_feature_set_FH/concat_wavelet_FH.csv\n",
      "/kaggle/input/pd-datas/binary_feature_set_FH/tqwt_wavelet_FH.csv\n",
      "/kaggle/input/pd-datas/binary_feature_set_FH/tqwt_concat_FH.csv\n",
      "/kaggle/input/pd-datas/binary_feature_set_FH/mfccs_concat_FH.csv\n",
      "/kaggle/input/pd-datas/binary_feature_set_FH/tqwt_mfccs_FH.csv\n",
      "/kaggle/input/pd-datas/FPD binary/FPD_mfccs_wavelet.csv\n",
      "/kaggle/input/pd-datas/FPD binary/FPD_mfccs_concat.csv\n",
      "/kaggle/input/pd-datas/FPD binary/FPD_tqwt_mfccs.csv\n",
      "/kaggle/input/pd-datas/FPD binary/FPD_tqwt_concat.csv\n",
      "/kaggle/input/pd-datas/FPD binary/FPD_tqwt_wavelet.csv\n",
      "/kaggle/input/pd-datas/data/gender_class_FH_corrected.csv\n",
      "/kaggle/input/pd-datas/data/gender_FG_v2.csv\n",
      "/kaggle/input/pd-datas/FPD trinary/FPD_tqwt_wavelet_concat.csv\n",
      "/kaggle/input/pd-datas/FPD trinary/FPD_tqwt_mfccs_wavelet.csv\n",
      "/kaggle/input/pd-datas/FPD trinary/FPD_tqwt_mfccs_concat.csv\n",
      "/kaggle/input/pd-datas/FPD trinary/FPD_mfccs_wavelet_concat.csv\n"
     ]
    }
   ],
   "source": [
    "# This Python 3 environment comes with many helpful analytics libraries installed\n",
    "# It is defined by the kaggle/python Docker image: https://github.com/kaggle/docker-python\n",
    "# For example, here's several helpful packages to load\n",
    "\n",
    "import numpy as np # linear algebra\n",
    "import pandas as pd # data processing, CSV file I/O (e.g. pd.read_csv)\n",
    "\n",
    "# Input data files are available in the read-only \"../input/\" directory\n",
    "# For example, running this (by clicking run or pressing Shift+Enter) will list all files under the input directory\n",
    "\n",
    "import os\n",
    "for dirname, _, filenames in os.walk('/kaggle/input'):\n",
    "    for filename in filenames:\n",
    "        print(os.path.join(dirname, filename))\n",
    "\n",
    "# You can write up to 20GB to the current directory (/kaggle/working/) that gets preserved as output when you create a version using \"Save & Run All\" \n",
    "# You can also write temporary files to /kaggle/temp/, but they won't be saved outside of the current session"
   ]
  },
  {
   "cell_type": "code",
   "execution_count": 2,
   "id": "00442b6d",
   "metadata": {
    "execution": {
     "iopub.execute_input": "2022-02-16T20:09:08.632606Z",
     "iopub.status.busy": "2022-02-16T20:09:08.631901Z",
     "iopub.status.idle": "2022-02-16T20:09:09.970753Z",
     "shell.execute_reply": "2022-02-16T20:09:09.971335Z",
     "shell.execute_reply.started": "2022-02-16T20:06:03.038991Z"
    },
    "papermill": {
     "duration": 1.359854,
     "end_time": "2022-02-16T20:09:09.971530",
     "exception": false,
     "start_time": "2022-02-16T20:09:08.611676",
     "status": "completed"
    },
    "tags": []
   },
   "outputs": [],
   "source": [
    "## Initial Imports\n",
    "\n",
    "%matplotlib inline\n",
    "\n",
    "import pandas as pd \n",
    "import numpy as np \n",
    "import matplotlib.pyplot as plt\n",
    "import seaborn as sns\n",
    "import random\n",
    "from tqdm import tqdm_notebook as tqdm\n",
    "from sklearn.model_selection import LeaveOneOut, GridSearchCV, KFold, train_test_split\n",
    "from sklearn import svm\n",
    "from sklearn.metrics import accuracy_score, f1_score, classification_report, matthews_corrcoef, roc_auc_score\n",
    "from statistics import mean"
   ]
  },
  {
   "cell_type": "code",
   "execution_count": 3,
   "id": "0a43bbb3",
   "metadata": {
    "execution": {
     "iopub.execute_input": "2022-02-16T20:09:10.009490Z",
     "iopub.status.busy": "2022-02-16T20:09:10.008777Z",
     "iopub.status.idle": "2022-02-16T20:09:10.066049Z",
     "shell.execute_reply": "2022-02-16T20:09:10.066605Z",
     "shell.execute_reply.started": "2022-02-16T20:06:11.582749Z"
    },
    "papermill": {
     "duration": 0.078071,
     "end_time": "2022-02-16T20:09:10.066956",
     "exception": false,
     "start_time": "2022-02-16T20:09:09.988885",
     "status": "completed"
    },
    "tags": []
   },
   "outputs": [
    {
     "name": "stdout",
     "output_type": "stream",
     "text": [
      "   tqwt_minValue_dec_18  tqwt_entropy_log_dec_34  tqwt_meanValue_dec_11  \\\n",
      "0              -0.61778               -3726.2679          -1.630000e-20   \n",
      "1              -0.50757               -3719.5566          -1.680000e-20   \n",
      "2              -0.47225               -3661.5431           7.080000e-22   \n",
      "3              -0.65225               -2372.6055           5.630000e-20   \n",
      "4              -0.62996               -2484.7150           1.280000e-20   \n",
      "\n",
      "   tqwt_entropy_shannon_dec_16  tqwt_entropy_log_dec_35  \\\n",
      "0                     189.5000               -3190.1752   \n",
      "1                     163.4516               -3106.4317   \n",
      "2                     101.5144               -3082.5691   \n",
      "3                     646.9783               -1965.3808   \n",
      "4                     683.1305               -2102.3852   \n",
      "\n",
      "   tqwt_entropy_log_dec_14  tqwt_entropy_log_dec_26  tqwt_stdValue_dec_17  \\\n",
      "0              -83962.4084               -4459.3054              0.131690   \n",
      "1              -90311.3160               -5013.9281              0.128650   \n",
      "2              -99913.1016               -5977.9170              0.085754   \n",
      "3              -70072.7154               -2473.9872              0.194870   \n",
      "4              -67314.2041               -2171.4673              0.172300   \n",
      "\n",
      "   tqwt_minValue_dec_14  tqwt_entropy_log_dec_11  ...  \\\n",
      "0             -0.108390             -229943.2967  ...   \n",
      "1             -0.101340             -230526.8175  ...   \n",
      "2             -0.081836             -246592.6024  ...   \n",
      "3             -0.586380             -255107.4287  ...   \n",
      "4             -0.505800             -252647.9964  ...   \n",
      "\n",
      "   app_LT_entropy_shannon_7_coef  app_LT_entropy_shannon_2_coef  \\\n",
      "0                   -381059.3510                    -25711.8622   \n",
      "1                   -376979.9939                    -25392.0069   \n",
      "2                   -374463.8517                    -25253.6144   \n",
      "3                   -347128.0292                    -25452.5218   \n",
      "4                   -359900.4024                    -27472.1915   \n",
      "\n",
      "   std_12th_delta  std_8th_delta  std_6th_delta_delta  \\\n",
      "0        0.023057       0.028115             0.014642   \n",
      "1        0.032486       0.022166             0.025500   \n",
      "2        0.038433       0.032326             0.024607   \n",
      "3        0.037164       0.032577             0.017274   \n",
      "4        0.028731       0.031989             0.013791   \n",
      "\n",
      "   app_LT_entropy_shannon_9_coef  app_LT_entropy_shannon_4_coef  \\\n",
      "0                   -1676725.978                    -57264.6625   \n",
      "1                   -1659120.382                    -56599.2563   \n",
      "2                   -1648032.246                    -56258.4752   \n",
      "3                   -1522358.498                    -54370.9290   \n",
      "4                   -1567705.131                    -57514.4436   \n",
      "\n",
      "   app_LT_entropy_shannon_10_coef  std_11th_delta_delta  class  \n",
      "0                    -3601122.613              0.010043    1.0  \n",
      "1                    -3563560.603              0.015488    1.0  \n",
      "2                    -3539902.400              0.015073    1.0  \n",
      "3                    -3271399.011              0.013770    1.0  \n",
      "4                    -3367165.736              0.013402    1.0  \n",
      "\n",
      "[5 rows x 72 columns]\n",
      "['tqwt_minValue_dec_18', 'tqwt_entropy_log_dec_34', 'tqwt_meanValue_dec_11', 'tqwt_entropy_shannon_dec_16', 'tqwt_entropy_log_dec_35', 'tqwt_entropy_log_dec_14', 'tqwt_entropy_log_dec_26', 'tqwt_stdValue_dec_17', 'tqwt_minValue_dec_14', 'tqwt_entropy_log_dec_11', 'tqwt_entropy_log_dec_28', 'tqwt_maxValue_dec_16', 'tqwt_entropy_log_dec_32', 'tqwt_entropy_log_dec_12', 'tqwt_entropy_log_dec_13', 'tqwt_minValue_dec_15', 'tqwt_meanValue_dec_5', 'tqwt_entropy_log_dec_10', 'tqwt_kurtosisValue_dec_36', 'tqwt_energy_dec_17', 'tqwt_entropy_shannon_dec_20', 'tqwt_meanValue_dec_7', 'tqwt_stdValue_dec_16', 'tqwt_maxValue_dec_15', 'tqwt_entropy_shannon_dec_15', 'tqwt_maxValue_dec_18', 'tqwt_meanValue_dec_34', 'tqwt_maxValue_dec_17', 'tqwt_stdValue_dec_15', 'tqwt_maxValue_dec_14', 'tqwt_entropy_log_dec_33', 'tqwt_minValue_dec_16', 'mean_MFCC_3rd_coef', 'GNE_SNR_SEO', 'VFER_NSR_SEO', 'mean_MFCC_4th_coef', 'mean_MFCC_9th_coef', 'mean_MFCC_8th_coef', 'mean_MFCC_7th_coef', 'std_MFCC_10th_coef', 'mean_MFCC_2nd_coef', 'IMF_NSR_entropy', 'mean_MFCC_6th_coef', 'mean_MFCC_5th_coef', 'std_MFCC_9th_coef', 'std_12th_delta_delta', 'app_LT_entropy_shannon_6_coef', 'app_LT_entropy_shannon_8_coef', 'std_10th_delta_delta', 'std_8th_delta_delta', 'std_10th_delta', 'std_9th_delta_delta', 'std_9th_delta', 'app_LT_entropy_shannon_3_coef', 'det_LT_entropy_log_10_coef', 'app_entropy_log_8_coef', 'app_LT_entropy_shannon_5_coef', 'app_entropy_log_7_coef', 'app_entropy_log_9_coef', 'app_LT_entropy_log_8_coef', 'app_entropy_log_10_coef', 'app_entropy_log_6_coef', 'app_LT_entropy_shannon_7_coef', 'app_LT_entropy_shannon_2_coef', 'std_12th_delta', 'std_8th_delta', 'std_6th_delta_delta', 'app_LT_entropy_shannon_9_coef', 'app_LT_entropy_shannon_4_coef', 'app_LT_entropy_shannon_10_coef', 'std_11th_delta_delta', 'class']\n"
     ]
    }
   ],
   "source": [
    "pdh = pd.read_csv(r'/kaggle/input/pd-datas/FPD trinary/FPD_tqwt_mfccs_wavelet.csv')\n",
    "\n",
    "print(pdh.head())\n",
    "#print('The shape of the matrix is :', pdh.shape)\n",
    "print(list(pdh.columns))"
   ]
  },
  {
   "cell_type": "code",
   "execution_count": 4,
   "id": "48d40abb",
   "metadata": {
    "execution": {
     "iopub.execute_input": "2022-02-16T20:09:10.107926Z",
     "iopub.status.busy": "2022-02-16T20:09:10.107160Z",
     "iopub.status.idle": "2022-02-16T20:09:10.108979Z",
     "shell.execute_reply": "2022-02-16T20:09:10.109489Z",
     "shell.execute_reply.started": "2022-02-16T20:06:16.313093Z"
    },
    "papermill": {
     "duration": 0.024862,
     "end_time": "2022-02-16T20:09:10.109681",
     "exception": false,
     "start_time": "2022-02-16T20:09:10.084819",
     "status": "completed"
    },
    "tags": []
   },
   "outputs": [],
   "source": [
    "df=pdh\n",
    "train_df=df.values\n",
    "x_train=train_df[:,:-1]\n",
    "y_train=train_df[:,-1]"
   ]
  },
  {
   "cell_type": "code",
   "execution_count": 5,
   "id": "274f525d",
   "metadata": {
    "execution": {
     "iopub.execute_input": "2022-02-16T20:09:10.149397Z",
     "iopub.status.busy": "2022-02-16T20:09:10.148687Z",
     "iopub.status.idle": "2022-02-16T20:09:10.154444Z",
     "shell.execute_reply": "2022-02-16T20:09:10.154920Z",
     "shell.execute_reply.started": "2022-02-16T20:06:32.003377Z"
    },
    "papermill": {
     "duration": 0.027439,
     "end_time": "2022-02-16T20:09:10.155097",
     "exception": false,
     "start_time": "2022-02-16T20:09:10.127658",
     "status": "completed"
    },
    "tags": []
   },
   "outputs": [],
   "source": [
    "from sklearn.preprocessing import StandardScaler\n",
    "sc = StandardScaler()\n",
    "x_train= sc.fit_transform(x_train)\n",
    "#newly added\n",
    "kfold=KFold(252, shuffle=False)#random_state=10"
   ]
  },
  {
   "cell_type": "code",
   "execution_count": 6,
   "id": "caedfe54",
   "metadata": {
    "execution": {
     "iopub.execute_input": "2022-02-16T20:09:10.193411Z",
     "iopub.status.busy": "2022-02-16T20:09:10.192734Z",
     "iopub.status.idle": "2022-02-16T20:09:10.198065Z",
     "shell.execute_reply": "2022-02-16T20:09:10.198555Z",
     "shell.execute_reply.started": "2022-02-13T06:52:10.938966Z"
    },
    "papermill": {
     "duration": 0.026174,
     "end_time": "2022-02-16T20:09:10.198743",
     "exception": false,
     "start_time": "2022-02-16T20:09:10.172569",
     "status": "completed"
    },
    "tags": []
   },
   "outputs": [],
   "source": [
    "def svm_model(X,y, kfold):\n",
    "    params={'C':[0.1, 1, 10, 100,], 'gamma':[ 0.1, 0.01, 0.001, 0.0001], 'kernel':['rbf']}\n",
    "\n",
    "    grid=GridSearchCV(svm.SVC(probability=True, random_state=10),params,cv=kfold, refit=True, verbose=1)\n",
    "    grid.fit(X,y)\n",
    "    \n",
    "    return grid"
   ]
  },
  {
   "cell_type": "code",
   "execution_count": 7,
   "id": "bba38515",
   "metadata": {
    "execution": {
     "iopub.execute_input": "2022-02-16T20:09:10.236716Z",
     "iopub.status.busy": "2022-02-16T20:09:10.236078Z",
     "iopub.status.idle": "2022-02-16T20:23:55.110910Z",
     "shell.execute_reply": "2022-02-16T20:23:55.111551Z",
     "shell.execute_reply.started": "2022-02-13T06:53:21.703522Z"
    },
    "papermill": {
     "duration": 884.895763,
     "end_time": "2022-02-16T20:23:55.111942",
     "exception": false,
     "start_time": "2022-02-16T20:09:10.216179",
     "status": "completed"
    },
    "tags": []
   },
   "outputs": [
    {
     "name": "stdout",
     "output_type": "stream",
     "text": [
      "Fitting 252 folds for each of 16 candidates, totalling 4032 fits\n"
     ]
    },
    {
     "name": "stderr",
     "output_type": "stream",
     "text": [
      "[Parallel(n_jobs=1)]: Using backend SequentialBackend with 1 concurrent workers.\n",
      "[Parallel(n_jobs=1)]: Done 4032 out of 4032 | elapsed: 14.7min finished\n"
     ]
    }
   ],
   "source": [
    "grid=svm_model(x_train, y_train,kfold)"
   ]
  },
  {
   "cell_type": "code",
   "execution_count": 8,
   "id": "95b847a8",
   "metadata": {
    "execution": {
     "iopub.execute_input": "2022-02-16T20:23:55.155540Z",
     "iopub.status.busy": "2022-02-16T20:23:55.154849Z",
     "iopub.status.idle": "2022-02-16T20:23:55.157833Z",
     "shell.execute_reply": "2022-02-16T20:23:55.158327Z",
     "shell.execute_reply.started": "2022-02-13T07:22:31.917867Z"
    },
    "papermill": {
     "duration": 0.027451,
     "end_time": "2022-02-16T20:23:55.158487",
     "exception": false,
     "start_time": "2022-02-16T20:23:55.131036",
     "status": "completed"
    },
    "tags": []
   },
   "outputs": [
    {
     "name": "stdout",
     "output_type": "stream",
     "text": [
      "{'C': 10, 'gamma': 0.001, 'kernel': 'rbf'}\n",
      "0.8505291005291006\n"
     ]
    }
   ],
   "source": [
    "from statistics import mean\n",
    "print(grid.best_params_)\n",
    "print(grid.best_score_)"
   ]
  },
  {
   "cell_type": "code",
   "execution_count": 9,
   "id": "ce564175",
   "metadata": {
    "execution": {
     "iopub.execute_input": "2022-02-16T20:23:55.204574Z",
     "iopub.status.busy": "2022-02-16T20:23:55.203897Z",
     "iopub.status.idle": "2022-02-16T20:24:35.805311Z",
     "shell.execute_reply": "2022-02-16T20:24:35.804606Z",
     "shell.execute_reply.started": "2022-02-16T20:06:41.639933Z"
    },
    "papermill": {
     "duration": 40.628359,
     "end_time": "2022-02-16T20:24:35.805458",
     "exception": false,
     "start_time": "2022-02-16T20:23:55.177099",
     "status": "completed"
    },
    "tags": []
   },
   "outputs": [
    {
     "name": "stderr",
     "output_type": "stream",
     "text": [
      "/opt/conda/lib/python3.7/site-packages/sklearn/metrics/_classification.py:1465: UndefinedMetricWarning: F-score is ill-defined and being set to 0.0 due to no true nor predicted samples. Use `zero_division` parameter to control this behavior.\n",
      "  average, \"true nor predicted\", 'F-score is', len(true_sum)\n",
      "/opt/conda/lib/python3.7/site-packages/sklearn/metrics/_classification.py:1465: UndefinedMetricWarning: F-score is ill-defined and being set to 0.0 due to no true nor predicted samples. Use `zero_division` parameter to control this behavior.\n",
      "  average, \"true nor predicted\", 'F-score is', len(true_sum)\n",
      "/opt/conda/lib/python3.7/site-packages/sklearn/metrics/_classification.py:1465: UndefinedMetricWarning: F-score is ill-defined and being set to 0.0 due to no true nor predicted samples. Use `zero_division` parameter to control this behavior.\n",
      "  average, \"true nor predicted\", 'F-score is', len(true_sum)\n",
      "/opt/conda/lib/python3.7/site-packages/sklearn/metrics/_classification.py:1465: UndefinedMetricWarning: F-score is ill-defined and being set to 0.0 due to no true nor predicted samples. Use `zero_division` parameter to control this behavior.\n",
      "  average, \"true nor predicted\", 'F-score is', len(true_sum)\n",
      "/opt/conda/lib/python3.7/site-packages/sklearn/metrics/_classification.py:1465: UndefinedMetricWarning: F-score is ill-defined and being set to 0.0 due to no true nor predicted samples. Use `zero_division` parameter to control this behavior.\n",
      "  average, \"true nor predicted\", 'F-score is', len(true_sum)\n",
      "/opt/conda/lib/python3.7/site-packages/sklearn/metrics/_classification.py:1465: UndefinedMetricWarning: F-score is ill-defined and being set to 0.0 due to no true nor predicted samples. Use `zero_division` parameter to control this behavior.\n",
      "  average, \"true nor predicted\", 'F-score is', len(true_sum)\n",
      "/opt/conda/lib/python3.7/site-packages/sklearn/metrics/_classification.py:1465: UndefinedMetricWarning: F-score is ill-defined and being set to 0.0 due to no true nor predicted samples. Use `zero_division` parameter to control this behavior.\n",
      "  average, \"true nor predicted\", 'F-score is', len(true_sum)\n",
      "/opt/conda/lib/python3.7/site-packages/sklearn/metrics/_classification.py:1465: UndefinedMetricWarning: F-score is ill-defined and being set to 0.0 due to no true nor predicted samples. Use `zero_division` parameter to control this behavior.\n",
      "  average, \"true nor predicted\", 'F-score is', len(true_sum)\n",
      "/opt/conda/lib/python3.7/site-packages/sklearn/metrics/_classification.py:1465: UndefinedMetricWarning: F-score is ill-defined and being set to 0.0 due to no true nor predicted samples. Use `zero_division` parameter to control this behavior.\n",
      "  average, \"true nor predicted\", 'F-score is', len(true_sum)\n",
      "/opt/conda/lib/python3.7/site-packages/sklearn/metrics/_classification.py:1465: UndefinedMetricWarning: F-score is ill-defined and being set to 0.0 due to no true nor predicted samples. Use `zero_division` parameter to control this behavior.\n",
      "  average, \"true nor predicted\", 'F-score is', len(true_sum)\n",
      "/opt/conda/lib/python3.7/site-packages/sklearn/metrics/_classification.py:1465: UndefinedMetricWarning: F-score is ill-defined and being set to 0.0 due to no true nor predicted samples. Use `zero_division` parameter to control this behavior.\n",
      "  average, \"true nor predicted\", 'F-score is', len(true_sum)\n",
      "/opt/conda/lib/python3.7/site-packages/sklearn/metrics/_classification.py:1465: UndefinedMetricWarning: F-score is ill-defined and being set to 0.0 due to no true nor predicted samples. Use `zero_division` parameter to control this behavior.\n",
      "  average, \"true nor predicted\", 'F-score is', len(true_sum)\n",
      "/opt/conda/lib/python3.7/site-packages/sklearn/metrics/_classification.py:1465: UndefinedMetricWarning: F-score is ill-defined and being set to 0.0 due to no true nor predicted samples. Use `zero_division` parameter to control this behavior.\n",
      "  average, \"true nor predicted\", 'F-score is', len(true_sum)\n",
      "/opt/conda/lib/python3.7/site-packages/sklearn/metrics/_classification.py:1465: UndefinedMetricWarning: F-score is ill-defined and being set to 0.0 due to no true nor predicted samples. Use `zero_division` parameter to control this behavior.\n",
      "  average, \"true nor predicted\", 'F-score is', len(true_sum)\n",
      "/opt/conda/lib/python3.7/site-packages/sklearn/metrics/_classification.py:1465: UndefinedMetricWarning: F-score is ill-defined and being set to 0.0 due to no true nor predicted samples. Use `zero_division` parameter to control this behavior.\n",
      "  average, \"true nor predicted\", 'F-score is', len(true_sum)\n",
      "/opt/conda/lib/python3.7/site-packages/sklearn/metrics/_classification.py:1465: UndefinedMetricWarning: F-score is ill-defined and being set to 0.0 due to no true nor predicted samples. Use `zero_division` parameter to control this behavior.\n",
      "  average, \"true nor predicted\", 'F-score is', len(true_sum)\n",
      "/opt/conda/lib/python3.7/site-packages/sklearn/metrics/_classification.py:1465: UndefinedMetricWarning: F-score is ill-defined and being set to 0.0 due to no true nor predicted samples. Use `zero_division` parameter to control this behavior.\n",
      "  average, \"true nor predicted\", 'F-score is', len(true_sum)\n",
      "/opt/conda/lib/python3.7/site-packages/sklearn/metrics/_classification.py:1465: UndefinedMetricWarning: F-score is ill-defined and being set to 0.0 due to no true nor predicted samples. Use `zero_division` parameter to control this behavior.\n",
      "  average, \"true nor predicted\", 'F-score is', len(true_sum)\n",
      "/opt/conda/lib/python3.7/site-packages/sklearn/metrics/_classification.py:1465: UndefinedMetricWarning: F-score is ill-defined and being set to 0.0 due to no true nor predicted samples. Use `zero_division` parameter to control this behavior.\n",
      "  average, \"true nor predicted\", 'F-score is', len(true_sum)\n",
      "/opt/conda/lib/python3.7/site-packages/sklearn/metrics/_classification.py:1465: UndefinedMetricWarning: F-score is ill-defined and being set to 0.0 due to no true nor predicted samples. Use `zero_division` parameter to control this behavior.\n",
      "  average, \"true nor predicted\", 'F-score is', len(true_sum)\n",
      "/opt/conda/lib/python3.7/site-packages/sklearn/metrics/_classification.py:1465: UndefinedMetricWarning: F-score is ill-defined and being set to 0.0 due to no true nor predicted samples. Use `zero_division` parameter to control this behavior.\n",
      "  average, \"true nor predicted\", 'F-score is', len(true_sum)\n",
      "/opt/conda/lib/python3.7/site-packages/sklearn/metrics/_classification.py:1465: UndefinedMetricWarning: F-score is ill-defined and being set to 0.0 due to no true nor predicted samples. Use `zero_division` parameter to control this behavior.\n",
      "  average, \"true nor predicted\", 'F-score is', len(true_sum)\n",
      "/opt/conda/lib/python3.7/site-packages/sklearn/metrics/_classification.py:1465: UndefinedMetricWarning: F-score is ill-defined and being set to 0.0 due to no true nor predicted samples. Use `zero_division` parameter to control this behavior.\n",
      "  average, \"true nor predicted\", 'F-score is', len(true_sum)\n",
      "/opt/conda/lib/python3.7/site-packages/sklearn/metrics/_classification.py:1465: UndefinedMetricWarning: F-score is ill-defined and being set to 0.0 due to no true nor predicted samples. Use `zero_division` parameter to control this behavior.\n",
      "  average, \"true nor predicted\", 'F-score is', len(true_sum)\n"
     ]
    },
    {
     "name": "stdout",
     "output_type": "stream",
     "text": [
      "acc: 0.8505291005291006\n",
      "f1: 0.7222222222222222\n"
     ]
    }
   ],
   "source": [
    "wrong_pred_indices=[]\n",
    "d={}\n",
    "svm_estimator=svm.SVC(C= 10, gamma= 0.001, kernel= 'rbf',probability=True, random_state=10)\n",
    "i=0\n",
    "\n",
    "correct_ones_=[]#collects correct pd postive predictions\n",
    "correct_zeros_=[]#collects correct pd negative predictions\n",
    "\n",
    "wrong_ones_=[]#collect wrong pd positive predictions\n",
    "wrong_zeros_=[]#collect wrong pd negative predictions\n",
    "\n",
    "tp=[]# true positive\n",
    "tn=[]# true negative\n",
    "fp=[]# false positive\n",
    "fn=[]# false negative\n",
    "\n",
    "tridx=[]\n",
    "tstidx=[]\n",
    "acc=[]\n",
    "mcc=[]\n",
    "f1=[]\n",
    "tsts=[]\n",
    "\n",
    "for trids, tstids in kfold.split(x_train):\n",
    "    \n",
    "    trainx, testx= x_train[trids,:], x_train[tstids,:]\n",
    "    trainy, testy= y_train[trids], y_train[tstids]\n",
    "    \n",
    "    svm_estimator.fit(trainx, trainy)\n",
    "    \n",
    "    preds=svm_estimator.predict(x_train[tstids,:])\n",
    "    \n",
    "    acc.append(accuracy_score(testy,svm_estimator.predict(testx)))\n",
    "    #mcc.append(matthews_corrcoef(testy, svm_estimator.predict(testx)))\n",
    "    f1.append(f1_score(testy, svm_estimator.predict(testx)))\n",
    "    \n",
    "    for i in range(len(tstids)):\n",
    "        tsts.append(tstids[i])\n",
    "    \n",
    "    \n",
    "    if (i==9):#checking if it is last split\n",
    "        tridx=trids\n",
    "        tstidx=tstids\n",
    "\n",
    "        for j in range(len(tstids)):\n",
    "            if(preds[j]==0 and (y_train[tstids[j]]==0) ):\n",
    "                correct_zeros_.append(j)\n",
    "                tn.append(j)\n",
    "                \n",
    "            if(preds[j]==0 and (y_train[tstids[j]]==1) ):\n",
    "                wrong_zeros_.append(j)\n",
    "                fn.append(j)\n",
    "                \n",
    "            if(preds[j]==1 and (y_train[tstids[j]]==1) ):\n",
    "                correct_ones_.append(j)\n",
    "                tp.append(j)\n",
    "                \n",
    "            if(preds[j]==1 and y_train[tstids[j]]==0):\n",
    "                wrong_ones_.append(j)  \n",
    "                fp.append(j)\n",
    "    i=i+1\n",
    "\n",
    "print('acc:', mean(acc))\n",
    "print('f1:', mean(f1))\n",
    "#print('mcc:', mean(mcc))\n"
   ]
  },
  {
   "cell_type": "code",
   "execution_count": 10,
   "id": "6ac56eb5",
   "metadata": {
    "execution": {
     "iopub.execute_input": "2022-02-16T20:24:35.878649Z",
     "iopub.status.busy": "2022-02-16T20:24:35.877979Z",
     "iopub.status.idle": "2022-02-16T20:24:36.167550Z",
     "shell.execute_reply": "2022-02-16T20:24:36.166491Z",
     "shell.execute_reply.started": "2022-02-16T20:07:22.109484Z"
    },
    "papermill": {
     "duration": 0.333834,
     "end_time": "2022-02-16T20:24:36.167785",
     "exception": false,
     "start_time": "2022-02-16T20:24:35.833951",
     "status": "completed"
    },
    "tags": []
   },
   "outputs": [
    {
     "name": "stdout",
     "output_type": "stream",
     "text": [
      "t: 0  original: 1.0  patient no:  0  prediction 1.0\n",
      "t: 3  original: 1.0  patient no:  1  prediction 1.0\n",
      "t: 6  original: 1.0  patient no:  2  prediction 1.0\n",
      "t: 9  original: 1.0  patient no:  3  prediction 1.0\n",
      "t: 12  original: 1.0  patient no:  4  prediction 1.0\n",
      "t: 15  original: 1.0  patient no:  5  prediction 1.0\n",
      "t: 18  original: 1.0  patient no:  6  prediction 0.6666666666666666\n",
      "t: 21  original: 1.0  patient no:  7  prediction 1.0\n",
      "t: 24  original: 1.0  patient no:  8  prediction 1.0\n",
      "t: 27  original: 1.0  patient no:  9  prediction 1.0\n",
      "t: 30  original: 1.0  patient no:  10  prediction 1.0\n",
      "t: 33  original: 0.0  patient no:  11  prediction 0.6666666666666666\n",
      "t: 36  original: 1.0  patient no:  12  prediction 1.0\n",
      "t: 39  original: 1.0  patient no:  13  prediction 1.0\n",
      "t: 42  original: 0.0  patient no:  14  prediction 0.0\n",
      "t: 45  original: 1.0  patient no:  15  prediction 1.0\n",
      "t: 48  original: 1.0  patient no:  16  prediction 1.0\n",
      "t: 51  original: 1.0  patient no:  17  prediction 1.0\n",
      "t: 54  original: 1.0  patient no:  18  prediction 1.0\n",
      "t: 57  original: 1.0  patient no:  19  prediction 1.0\n",
      "t: 60  original: 1.0  patient no:  20  prediction 1.0\n",
      "t: 63  original: 1.0  patient no:  21  prediction 1.0\n",
      "t: 66  original: 1.0  patient no:  22  prediction 1.0\n",
      "t: 69  original: 1.0  patient no:  23  prediction 1.0\n",
      "t: 72  original: 0.0  patient no:  24  prediction 0.3333333333333333\n",
      "t: 75  original: 1.0  patient no:  25  prediction 1.0\n",
      "t: 78  original: 0.0  patient no:  26  prediction 0.0\n",
      "t: 81  original: 0.0  patient no:  27  prediction 0.3333333333333333\n",
      "t: 84  original: 1.0  patient no:  28  prediction 1.0\n",
      "t: 87  original: 0.0  patient no:  29  prediction 1.0\n",
      "t: 90  original: 1.0  patient no:  30  prediction 1.0\n",
      "t: 93  original: 1.0  patient no:  31  prediction 1.0\n",
      "t: 96  original: 1.0  patient no:  32  prediction 1.0\n",
      "t: 99  original: 0.0  patient no:  33  prediction 0.0\n",
      "t: 102  original: 0.0  patient no:  34  prediction 0.0\n",
      "t: 105  original: 1.0  patient no:  35  prediction 0.3333333333333333\n",
      "t: 108  original: 1.0  patient no:  36  prediction 0.3333333333333333\n",
      "t: 111  original: 1.0  patient no:  37  prediction 1.0\n",
      "t: 114  original: 1.0  patient no:  38  prediction 1.0\n",
      "t: 117  original: 1.0  patient no:  39  prediction 1.0\n",
      "t: 120  original: 1.0  patient no:  40  prediction 1.0\n",
      "t: 123  original: 0.0  patient no:  41  prediction 1.0\n",
      "t: 126  original: 0.0  patient no:  42  prediction 0.0\n",
      "t: 129  original: 1.0  patient no:  43  prediction 1.0\n",
      "t: 132  original: 1.0  patient no:  44  prediction 1.0\n",
      "t: 135  original: 0.0  patient no:  45  prediction 0.3333333333333333\n",
      "t: 138  original: 1.0  patient no:  46  prediction 1.0\n",
      "t: 141  original: 0.0  patient no:  47  prediction 1.0\n",
      "t: 144  original: 0.0  patient no:  48  prediction 1.0\n",
      "t: 147  original: 0.0  patient no:  49  prediction 1.0\n",
      "t: 150  original: 1.0  patient no:  50  prediction 1.0\n",
      "t: 153  original: 1.0  patient no:  51  prediction 1.0\n",
      "t: 156  original: 1.0  patient no:  52  prediction 1.0\n",
      "t: 159  original: 1.0  patient no:  53  prediction 1.0\n",
      "t: 162  original: 1.0  patient no:  54  prediction 1.0\n",
      "t: 165  original: 1.0  patient no:  55  prediction 1.0\n",
      "t: 168  original: 1.0  patient no:  56  prediction 1.0\n",
      "t: 171  original: 1.0  patient no:  57  prediction 1.0\n",
      "t: 174  original: 1.0  patient no:  58  prediction 1.0\n",
      "t: 177  original: 1.0  patient no:  59  prediction 1.0\n",
      "t: 180  original: 1.0  patient no:  60  prediction 1.0\n",
      "t: 183  original: 1.0  patient no:  61  prediction 1.0\n",
      "t: 186  original: 1.0  patient no:  62  prediction 1.0\n",
      "t: 189  original: 1.0  patient no:  63  prediction 1.0\n",
      "t: 192  original: 1.0  patient no:  64  prediction 1.0\n",
      "t: 195  original: 0.0  patient no:  65  prediction 0.3333333333333333\n",
      "t: 198  original: 1.0  patient no:  66  prediction 1.0\n",
      "t: 201  original: 1.0  patient no:  67  prediction 0.3333333333333333\n",
      "t: 204  original: 1.0  patient no:  68  prediction 1.0\n",
      "t: 207  original: 0.0  patient no:  69  prediction 1.0\n",
      "t: 210  original: 1.0  patient no:  70  prediction 1.0\n",
      "t: 213  original: 1.0  patient no:  71  prediction 1.0\n",
      "t: 216  original: 1.0  patient no:  72  prediction 1.0\n",
      "t: 219  original: 0.0  patient no:  73  prediction 0.0\n",
      "t: 222  original: 1.0  patient no:  74  prediction 1.0\n",
      "t: 225  original: 0.0  patient no:  75  prediction 0.0\n",
      "t: 228  original: 1.0  patient no:  76  prediction 1.0\n",
      "t: 231  original: 1.0  patient no:  77  prediction 1.0\n",
      "t: 234  original: 0.0  patient no:  78  prediction 0.0\n",
      "t: 237  original: 1.0  patient no:  79  prediction 1.0\n",
      "t: 240  original: 1.0  patient no:  80  prediction 1.0\n",
      "t: 243  original: 1.0  patient no:  81  prediction 0.6666666666666666\n",
      "t: 246  original: 1.0  patient no:  82  prediction 1.0\n",
      "t: 249  original: 0.0  patient no:  83  prediction 0.0\n",
      "t: 252  original: 1.0  patient no:  84  prediction 1.0\n",
      "t: 255  original: 1.0  patient no:  85  prediction 1.0\n",
      "t: 258  original: 1.0  patient no:  86  prediction 1.0\n",
      "t: 261  original: 1.0  patient no:  87  prediction 1.0\n",
      "t: 264  original: 1.0  patient no:  88  prediction 0.3333333333333333\n",
      "t: 267  original: 0.0  patient no:  89  prediction 1.0\n",
      "t: 270  original: 1.0  patient no:  90  prediction 1.0\n",
      "t: 273  original: 1.0  patient no:  91  prediction 1.0\n",
      "t: 276  original: 1.0  patient no:  92  prediction 1.0\n",
      "t: 279  original: 1.0  patient no:  93  prediction 1.0\n",
      "t: 282  original: 1.0  patient no:  94  prediction 1.0\n",
      "t: 285  original: 1.0  patient no:  95  prediction 1.0\n",
      "t: 288  original: 0.0  patient no:  96  prediction 0.6666666666666666\n",
      "t: 291  original: 1.0  patient no:  97  prediction 1.0\n",
      "t: 294  original: 1.0  patient no:  98  prediction 1.0\n",
      "t: 297  original: 1.0  patient no:  99  prediction 0.6666666666666666\n",
      "t: 300  original: 1.0  patient no:  100  prediction 1.0\n",
      "t: 303  original: 1.0  patient no:  101  prediction 1.0\n",
      "t: 306  original: 1.0  patient no:  102  prediction 1.0\n",
      "t: 309  original: 0.0  patient no:  103  prediction 0.6666666666666666\n",
      "t: 312  original: 1.0  patient no:  104  prediction 1.0\n",
      "t: 315  original: 1.0  patient no:  105  prediction 1.0\n",
      "t: 318  original: 1.0  patient no:  106  prediction 1.0\n",
      "t: 321  original: 1.0  patient no:  107  prediction 1.0\n",
      "t: 324  original: 1.0  patient no:  108  prediction 1.0\n",
      "t: 327  original: 1.0  patient no:  109  prediction 1.0\n",
      "t: 330  original: 1.0  patient no:  110  prediction 1.0\n",
      "t: 333  original: 0.0  patient no:  111  prediction 0.0\n",
      "t: 336  original: 1.0  patient no:  112  prediction 1.0\n",
      "t: 339  original: 1.0  patient no:  113  prediction 1.0\n",
      "t: 342  original: 1.0  patient no:  114  prediction 1.0\n",
      "t: 345  original: 1.0  patient no:  115  prediction 1.0\n",
      "t: 348  original: 1.0  patient no:  116  prediction 1.0\n",
      "t: 351  original: 1.0  patient no:  117  prediction 1.0\n",
      "t: 354  original: 1.0  patient no:  118  prediction 1.0\n",
      "t: 357  original: 0.0  patient no:  119  prediction 1.0\n",
      "t: 360  original: 1.0  patient no:  120  prediction 0.6666666666666666\n",
      "t: 363  original: 1.0  patient no:  121  prediction 1.0\n",
      "t: 366  original: 1.0  patient no:  122  prediction 1.0\n",
      "t: 369  original: 0.0  patient no:  123  prediction 1.0\n",
      "t: 372  original: 1.0  patient no:  124  prediction 1.0\n",
      "t: 375  original: 0.0  patient no:  125  prediction 0.6666666666666666\n",
      "t: 378  original: 1.0  patient no:  126  prediction 1.0\n",
      "t: 381  original: 1.0  patient no:  127  prediction 1.0\n",
      "t: 384  original: 1.0  patient no:  128  prediction 1.0\n",
      "t: 387  original: 1.0  patient no:  129  prediction 1.0\n",
      "t: 390  original: 0.0  patient no:  130  prediction 0.0\n",
      "t: 393  original: 0.0  patient no:  131  prediction 0.3333333333333333\n",
      "t: 396  original: 0.0  patient no:  132  prediction 0.3333333333333333\n",
      "t: 399  original: 1.0  patient no:  133  prediction 1.0\n",
      "t: 402  original: 1.0  patient no:  134  prediction 1.0\n",
      "t: 405  original: 0.0  patient no:  135  prediction 1.0\n",
      "t: 408  original: 0.0  patient no:  136  prediction 0.3333333333333333\n",
      "t: 411  original: 1.0  patient no:  137  prediction 1.0\n",
      "t: 414  original: 1.0  patient no:  138  prediction 1.0\n",
      "t: 417  original: 1.0  patient no:  139  prediction 1.0\n",
      "t: 420  original: 1.0  patient no:  140  prediction 1.0\n",
      "t: 423  original: 1.0  patient no:  141  prediction 1.0\n",
      "t: 426  original: 1.0  patient no:  142  prediction 1.0\n",
      "t: 429  original: 1.0  patient no:  143  prediction 1.0\n",
      "t: 432  original: 1.0  patient no:  144  prediction 1.0\n",
      "t: 435  original: 1.0  patient no:  145  prediction 1.0\n",
      "t: 438  original: 1.0  patient no:  146  prediction 1.0\n",
      "t: 441  original: 1.0  patient no:  147  prediction 1.0\n",
      "t: 444  original: 1.0  patient no:  148  prediction 1.0\n",
      "t: 447  original: 0.0  patient no:  149  prediction 1.0\n",
      "t: 450  original: 1.0  patient no:  150  prediction 1.0\n",
      "t: 453  original: 1.0  patient no:  151  prediction 1.0\n",
      "t: 456  original: 1.0  patient no:  152  prediction 1.0\n",
      "t: 459  original: 0.0  patient no:  153  prediction 0.0\n",
      "t: 462  original: 1.0  patient no:  154  prediction 1.0\n",
      "t: 465  original: 1.0  patient no:  155  prediction 1.0\n",
      "t: 468  original: 0.0  patient no:  156  prediction 1.0\n",
      "t: 471  original: 0.0  patient no:  157  prediction 0.6666666666666666\n",
      "t: 474  original: 1.0  patient no:  158  prediction 0.6666666666666666\n",
      "t: 477  original: 1.0  patient no:  159  prediction 1.0\n",
      "t: 480  original: 1.0  patient no:  160  prediction 1.0\n",
      "t: 483  original: 1.0  patient no:  161  prediction 1.0\n",
      "t: 486  original: 1.0  patient no:  162  prediction 1.0\n",
      "t: 489  original: 0.0  patient no:  163  prediction 0.0\n",
      "t: 492  original: 1.0  patient no:  164  prediction 1.0\n",
      "t: 495  original: 1.0  patient no:  165  prediction 1.0\n",
      "t: 498  original: 1.0  patient no:  166  prediction 1.0\n",
      "t: 501  original: 1.0  patient no:  167  prediction 1.0\n",
      "t: 504  original: 1.0  patient no:  168  prediction 1.0\n",
      "t: 507  original: 1.0  patient no:  169  prediction 1.0\n",
      "t: 510  original: 1.0  patient no:  170  prediction 1.0\n",
      "t: 513  original: 1.0  patient no:  171  prediction 1.0\n",
      "t: 516  original: 1.0  patient no:  172  prediction 0.6666666666666666\n",
      "t: 519  original: 0.0  patient no:  173  prediction 0.6666666666666666\n",
      "t: 522  original: 1.0  patient no:  174  prediction 1.0\n",
      "t: 525  original: 1.0  patient no:  175  prediction 0.6666666666666666\n",
      "t: 528  original: 1.0  patient no:  176  prediction 0.3333333333333333\n",
      "t: 531  original: 1.0  patient no:  177  prediction 1.0\n",
      "t: 534  original: 0.0  patient no:  178  prediction 1.0\n",
      "t: 537  original: 1.0  patient no:  179  prediction 1.0\n",
      "t: 540  original: 0.0  patient no:  180  prediction 1.0\n",
      "t: 543  original: 1.0  patient no:  181  prediction 1.0\n",
      "t: 546  original: 1.0  patient no:  182  prediction 1.0\n",
      "t: 549  original: 1.0  patient no:  183  prediction 1.0\n",
      "t: 552  original: 1.0  patient no:  184  prediction 1.0\n",
      "t: 555  original: 1.0  patient no:  185  prediction 0.6666666666666666\n",
      "t: 558  original: 1.0  patient no:  186  prediction 1.0\n",
      "t: 561  original: 0.0  patient no:  187  prediction 1.0\n",
      "t: 564  original: 1.0  patient no:  188  prediction 1.0\n",
      "t: 567  original: 0.0  patient no:  189  prediction 1.0\n",
      "t: 570  original: 1.0  patient no:  190  prediction 1.0\n",
      "t: 573  original: 1.0  patient no:  191  prediction 1.0\n",
      "t: 576  original: 0.0  patient no:  192  prediction 1.0\n",
      "t: 579  original: 1.0  patient no:  193  prediction 1.0\n",
      "t: 582  original: 0.0  patient no:  194  prediction 1.0\n",
      "t: 585  original: 0.0  patient no:  195  prediction 0.6666666666666666\n",
      "t: 588  original: 0.0  patient no:  196  prediction 1.0\n",
      "t: 591  original: 1.0  patient no:  197  prediction 1.0\n",
      "t: 594  original: 0.0  patient no:  198  prediction 1.0\n",
      "t: 597  original: 1.0  patient no:  199  prediction 1.0\n",
      "t: 600  original: 1.0  patient no:  200  prediction 1.0\n",
      "t: 603  original: 1.0  patient no:  201  prediction 1.0\n",
      "t: 606  original: 1.0  patient no:  202  prediction 1.0\n",
      "t: 609  original: 0.0  patient no:  203  prediction 0.0\n",
      "t: 612  original: 1.0  patient no:  204  prediction 1.0\n",
      "t: 615  original: 1.0  patient no:  205  prediction 1.0\n",
      "t: 618  original: 1.0  patient no:  206  prediction 1.0\n",
      "t: 621  original: 1.0  patient no:  207  prediction 1.0\n",
      "t: 624  original: 1.0  patient no:  208  prediction 1.0\n",
      "t: 627  original: 1.0  patient no:  209  prediction 1.0\n",
      "t: 630  original: 0.0  patient no:  210  prediction 0.3333333333333333\n",
      "t: 633  original: 1.0  patient no:  211  prediction 1.0\n",
      "t: 636  original: 1.0  patient no:  212  prediction 1.0\n",
      "t: 639  original: 0.0  patient no:  213  prediction 0.6666666666666666\n",
      "t: 642  original: 1.0  patient no:  214  prediction 1.0\n",
      "t: 645  original: 1.0  patient no:  215  prediction 1.0\n",
      "t: 648  original: 0.0  patient no:  216  prediction 0.0\n",
      "t: 651  original: 1.0  patient no:  217  prediction 1.0\n",
      "t: 654  original: 1.0  patient no:  218  prediction 1.0\n",
      "t: 657  original: 0.0  patient no:  219  prediction 0.0\n",
      "t: 660  original: 1.0  patient no:  220  prediction 1.0\n",
      "t: 663  original: 0.0  patient no:  221  prediction 1.0\n",
      "t: 666  original: 0.0  patient no:  222  prediction 0.0\n",
      "t: 669  original: 1.0  patient no:  223  prediction 1.0\n",
      "t: 672  original: 1.0  patient no:  224  prediction 1.0\n",
      "t: 675  original: 1.0  patient no:  225  prediction 1.0\n",
      "t: 678  original: 1.0  patient no:  226  prediction 1.0\n",
      "t: 681  original: 1.0  patient no:  227  prediction 1.0\n",
      "t: 684  original: 1.0  patient no:  228  prediction 1.0\n",
      "t: 687  original: 1.0  patient no:  229  prediction 1.0\n",
      "t: 690  original: 1.0  patient no:  230  prediction 0.6666666666666666\n",
      "t: 693  original: 1.0  patient no:  231  prediction 1.0\n",
      "t: 696  original: 0.0  patient no:  232  prediction 1.0\n",
      "t: 699  original: 1.0  patient no:  233  prediction 0.0\n",
      "t: 702  original: 0.0  patient no:  234  prediction 0.3333333333333333\n",
      "t: 705  original: 0.0  patient no:  235  prediction 1.0\n",
      "t: 708  original: 1.0  patient no:  236  prediction 0.6666666666666666\n",
      "t: 711  original: 0.0  patient no:  237  prediction 0.6666666666666666\n",
      "t: 714  original: 1.0  patient no:  238  prediction 1.0\n",
      "t: 717  original: 1.0  patient no:  239  prediction 1.0\n",
      "t: 720  original: 1.0  patient no:  240  prediction 1.0\n",
      "t: 723  original: 1.0  patient no:  241  prediction 0.3333333333333333\n",
      "t: 726  original: 0.0  patient no:  242  prediction 0.0\n",
      "t: 729  original: 1.0  patient no:  243  prediction 1.0\n",
      "t: 732  original: 0.0  patient no:  244  prediction 1.0\n",
      "t: 735  original: 0.0  patient no:  245  prediction 0.0\n",
      "t: 738  original: 0.0  patient no:  246  prediction 0.6666666666666666\n",
      "t: 741  original: 1.0  patient no:  247  prediction 1.0\n",
      "t: 744  original: 1.0  patient no:  248  prediction 1.0\n",
      "t: 747  original: 1.0  patient no:  249  prediction 1.0\n",
      "t: 750  original: 0.0  patient no:  250  prediction 0.6666666666666666\n",
      "t: 753  original: 0.0  patient no:  251  prediction 0.3333333333333333\n",
      "true positives:  181\n",
      "true negatives:  35\n",
      "fales positives:  29\n",
      "false negatives:  7\n"
     ]
    }
   ],
   "source": [
    "j=0\n",
    "tpids=[]\n",
    "tpc=0\n",
    "tnids=[]\n",
    "tnc=0\n",
    "fpids=[]\n",
    "fpc=0\n",
    "fnids=[]\n",
    "fnc=0\n",
    "\n",
    "#performing majority voting\n",
    "# if accurately predicted over 0.66 for 3 that means we predicted correctly for the whole sample\n",
    "\n",
    "for t in range(0,len(y_train),3):\n",
    "    print('t:',t,\" original:\", y_train[t],' patient no: ',j, ' prediction',acc[j] )\n",
    "\n",
    "    \n",
    "    if y_train[t]==1 and acc[j]>0.5:\n",
    "        tpc=tpc+1\n",
    "        tpids.append(t)\n",
    "    if y_train[t]==1 and acc[j]<0.5:\n",
    "        fnc=fnc+1\n",
    "        fnids.append(t)\n",
    "    if y_train[t]==0 and acc[j]>0.5:\n",
    "        tnc=tnc+1\n",
    "        tnids.append(t)\n",
    "    if y_train[t]==0 and acc[j]<0.5:\n",
    "        fpc=fpc+1\n",
    "        fpids.append(t)\n",
    "    \n",
    "    j=j+1\n",
    "\n",
    "print(\"true positives: \", tpc)\n",
    "print(\"true negatives: \", tnc)\n",
    "print(\"fales positives: \", fpc)\n",
    "print(\"false negatives: \", fnc)"
   ]
  },
  {
   "cell_type": "code",
   "execution_count": 11,
   "id": "2c49a5d7",
   "metadata": {
    "execution": {
     "iopub.execute_input": "2022-02-16T20:24:36.233491Z",
     "iopub.status.busy": "2022-02-16T20:24:36.232542Z",
     "iopub.status.idle": "2022-02-16T20:24:36.236099Z",
     "shell.execute_reply": "2022-02-16T20:24:36.236814Z",
     "shell.execute_reply.started": "2022-02-16T20:07:22.411983Z"
    },
    "papermill": {
     "duration": 0.038532,
     "end_time": "2022-02-16T20:24:36.237029",
     "exception": false,
     "start_time": "2022-02-16T20:24:36.198497",
     "status": "completed"
    },
    "tags": []
   },
   "outputs": [
    {
     "name": "stdout",
     "output_type": "stream",
     "text": [
      "f1 score: 0.9095477386934674\n"
     ]
    }
   ],
   "source": [
    "f1=0\n",
    "f1=(tpc)/((tpc+0.5*(fpc+fnc)))\n",
    "print('f1 score:', f1)"
   ]
  },
  {
   "cell_type": "code",
   "execution_count": 12,
   "id": "fef9fffe",
   "metadata": {
    "execution": {
     "iopub.execute_input": "2022-02-16T20:24:36.305537Z",
     "iopub.status.busy": "2022-02-16T20:24:36.304864Z",
     "iopub.status.idle": "2022-02-16T20:24:36.308848Z",
     "shell.execute_reply": "2022-02-16T20:24:36.307962Z",
     "shell.execute_reply.started": "2022-02-16T20:07:22.420231Z"
    },
    "papermill": {
     "duration": 0.04104,
     "end_time": "2022-02-16T20:24:36.309042",
     "exception": false,
     "start_time": "2022-02-16T20:24:36.268002",
     "status": "completed"
    },
    "tags": []
   },
   "outputs": [
    {
     "name": "stdout",
     "output_type": "stream",
     "text": [
      "mcc:  0.595249366661266\n",
      "precision:  0.861904761904762\n",
      "recall:  0.9627659574468085\n",
      "accuracy:  0.8571428571428571\n"
     ]
    }
   ],
   "source": [
    "import math\n",
    "mcc=0\n",
    "\n",
    "mcc=(tpc*tnc-fpc*fnc)/math.sqrt((tpc+fpc)*(tpc+fnc)*(tnc+fpc)*(tnc+fnc))\n",
    "print('mcc: ',mcc)\n",
    "precision=tpc/(tpc+fpc)\n",
    "print('precision: ', precision)\n",
    "recall=tpc/(tpc+fnc)\n",
    "print('recall: ',recall)\n",
    "acc=(tpc+tnc)/(tpc+tnc+fpc+fnc)\n",
    "print('accuracy: ', acc)"
   ]
  },
  {
   "cell_type": "code",
   "execution_count": 13,
   "id": "dc5a649e",
   "metadata": {
    "execution": {
     "iopub.execute_input": "2022-02-16T20:24:36.375136Z",
     "iopub.status.busy": "2022-02-16T20:24:36.374369Z",
     "iopub.status.idle": "2022-02-16T20:24:38.116778Z",
     "shell.execute_reply": "2022-02-16T20:24:38.115885Z",
     "shell.execute_reply.started": "2022-02-12T09:35:42.966203Z"
    },
    "papermill": {
     "duration": 1.776943,
     "end_time": "2022-02-16T20:24:38.116944",
     "exception": false,
     "start_time": "2022-02-16T20:24:36.340001",
     "status": "completed"
    },
    "tags": []
   },
   "outputs": [],
   "source": [
    "import lime\n",
    "import shap"
   ]
  },
  {
   "cell_type": "code",
   "execution_count": 14,
   "id": "4b4d7c26",
   "metadata": {
    "execution": {
     "iopub.execute_input": "2022-02-16T20:24:38.183125Z",
     "iopub.status.busy": "2022-02-16T20:24:38.182053Z",
     "iopub.status.idle": "2022-02-16T20:24:38.184563Z",
     "shell.execute_reply": "2022-02-16T20:24:38.183954Z",
     "shell.execute_reply.started": "2022-02-12T09:37:23.871255Z"
    },
    "papermill": {
     "duration": 0.037859,
     "end_time": "2022-02-16T20:24:38.184720",
     "exception": false,
     "start_time": "2022-02-16T20:24:38.146861",
     "status": "completed"
    },
    "tags": []
   },
   "outputs": [],
   "source": [
    "#would have to do lime and shape later"
   ]
  },
  {
   "cell_type": "code",
   "execution_count": null,
   "id": "ff6b9a12",
   "metadata": {
    "papermill": {
     "duration": 0.029988,
     "end_time": "2022-02-16T20:24:38.244552",
     "exception": false,
     "start_time": "2022-02-16T20:24:38.214564",
     "status": "completed"
    },
    "tags": []
   },
   "outputs": [],
   "source": []
  }
 ],
 "metadata": {
  "kernelspec": {
   "display_name": "Python 3",
   "language": "python",
   "name": "python3"
  },
  "language_info": {
   "codemirror_mode": {
    "name": "ipython",
    "version": 3
   },
   "file_extension": ".py",
   "mimetype": "text/x-python",
   "name": "python",
   "nbconvert_exporter": "python",
   "pygments_lexer": "ipython3",
   "version": "3.7.12"
  },
  "papermill": {
   "default_parameters": {},
   "duration": 941.056224,
   "end_time": "2022-02-16T20:24:39.089900",
   "environment_variables": {},
   "exception": null,
   "input_path": "__notebook__.ipynb",
   "output_path": "__notebook__.ipynb",
   "parameters": {},
   "start_time": "2022-02-16T20:08:58.033676",
   "version": "2.3.3"
  }
 },
 "nbformat": 4,
 "nbformat_minor": 5
}
